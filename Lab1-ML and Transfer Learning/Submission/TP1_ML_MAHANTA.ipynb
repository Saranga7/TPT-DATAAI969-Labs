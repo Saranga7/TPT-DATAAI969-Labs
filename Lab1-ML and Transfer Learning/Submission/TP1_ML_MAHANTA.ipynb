{
  "cells": [
    {
      "cell_type": "markdown",
      "source": [
        "# Skin lesion classification"
      ],
      "metadata": {
        "id": "Ao3Aj_ZSzwQz"
      }
    },
    {
      "cell_type": "markdown",
      "source": [
        "**Deadline**: Upload this notebook (rename it as 'TP1-ML-YOUR-SURNAME.ipynb') to Ecampus/Moodle before the deadline.\n"
      ],
      "metadata": {
        "id": "TD2Mt3JRz1VY"
      }
    },
    {
      "cell_type": "markdown",
      "source": [
        "**Context**\n",
        "A skin lesion is defined as a superficial growth or patch of the skin that is visually different and/or has a different texture than its surrounding area. Skin lesions, such as moles or birthmarks, can degenerate and become melanoma, one of the deadliest skin cancer. Its incidence has been increasing during the last decades, especially in the areas mostly populated by white people.\n",
        "\n",
        "The most effective treatment is an early detection followed by surgical excision. This is why several approaches for melanoma detection have been proposed in the last years (non-invasive computer-aided diagnosis (CAD) ).\n",
        "\n",
        "**Data**\n",
        "You will have at your disposal the ISIC 2017 dataset (https://challenge.isic-archive.com/data/#2017) already pre-processed, resized and quality checked. It is divided into Training (N=2000), Validation (N=150) and Test (N=600) sets.\n",
        "\n",
        "**Goal**\n",
        "The goal of this practical session is to classify images of skin lesions as either benign (nevus or seborrheic_keratosis) or melanoma (binary classification) using machine and deep learning algorithms.\n",
        "\n",
        "In the first part of the TP, you will manually compute some features relevant to the skin lesion classification (feature engineering) and then classify images using \"classical\" ML algorithms such as, logistic regression, SVM and Random Forests.\n",
        "\n",
        "In the second part, you will test the features learnt with Deep Learning algorithms. You will first train from scratch well-known CNN architectures (VGG, ResNet, DenseNet, etc..) and then leverage the representations learnt by these networks on a pre-training from Imagenet (fine-tuning, full-restimation).\n",
        "\n",
        "Please complete the code where you see **\"XXXXXXXXX\"** and answer the **Questions**\n"
      ],
      "metadata": {
        "id": "12KVxsLdz83m"
      }
    },
    {
      "cell_type": "markdown",
      "source": [
        "# Feature Engineering\n",
        "\n",
        "Many features have been proposed for Skin lesion classification. Among the most used ones, there is the so-called ABCD rule whose features describie four important characteristics of the skin lesion: Asymmetry, Border irregularity, Colour(and Texture) and Dimension (and Geometry).\n",
        "\n",
        "To compute these features, you will have at your disposal the *manual segmentation* of the skin lesions and you could follow, for instance, *Ganster et al. 'Automated melanoma recognition', IEEE TMI, 2001* and *Zortea et al. 'Performance of a dermoscopy-based computer vision system for the diagnosis of pigmented skin lesions compared with visual evaluation by experienced dermatologists', Artificial Intelligence in Medicine, 2014*.\n",
        "\n",
        "Other works can be found in the literature."
      ],
      "metadata": {
        "id": "bJPUtAA3reXJ"
      }
    },
    {
      "cell_type": "markdown",
      "source": [
        "For the ML part, you can use the CPU server (no need for GPU here)"
      ],
      "metadata": {
        "id": "TpXqDzsxrsEw"
      }
    },
    {
      "cell_type": "code",
      "execution_count": 1,
      "metadata": {
        "id": "pQkZ88OILkWb",
        "colab": {
          "base_uri": "https://localhost:8080/"
        },
        "outputId": "014649f4-33e9-4298-cb13-869d32fca3a3"
      },
      "outputs": [
        {
          "output_type": "stream",
          "name": "stdout",
          "text": [
            "Requirement already satisfied: gdown==4.6.0 in /usr/local/lib/python3.10/dist-packages (4.6.0)\n",
            "Requirement already satisfied: filelock in /usr/local/lib/python3.10/dist-packages (from gdown==4.6.0) (3.13.1)\n",
            "Requirement already satisfied: requests[socks] in /usr/local/lib/python3.10/dist-packages (from gdown==4.6.0) (2.31.0)\n",
            "Requirement already satisfied: six in /usr/local/lib/python3.10/dist-packages (from gdown==4.6.0) (1.16.0)\n",
            "Requirement already satisfied: tqdm in /usr/local/lib/python3.10/dist-packages (from gdown==4.6.0) (4.66.1)\n",
            "Requirement already satisfied: beautifulsoup4 in /usr/local/lib/python3.10/dist-packages (from gdown==4.6.0) (4.11.2)\n",
            "Requirement already satisfied: soupsieve>1.2 in /usr/local/lib/python3.10/dist-packages (from beautifulsoup4->gdown==4.6.0) (2.5)\n",
            "Requirement already satisfied: charset-normalizer<4,>=2 in /usr/local/lib/python3.10/dist-packages (from requests[socks]->gdown==4.6.0) (3.3.2)\n",
            "Requirement already satisfied: idna<4,>=2.5 in /usr/local/lib/python3.10/dist-packages (from requests[socks]->gdown==4.6.0) (3.6)\n",
            "Requirement already satisfied: urllib3<3,>=1.21.1 in /usr/local/lib/python3.10/dist-packages (from requests[socks]->gdown==4.6.0) (2.0.7)\n",
            "Requirement already satisfied: certifi>=2017.4.17 in /usr/local/lib/python3.10/dist-packages (from requests[socks]->gdown==4.6.0) (2023.11.17)\n",
            "Requirement already satisfied: PySocks!=1.5.7,>=1.5.6 in /usr/local/lib/python3.10/dist-packages (from requests[socks]->gdown==4.6.0) (1.7.1)\n"
          ]
        }
      ],
      "source": [
        "import os\n",
        "import numpy as np\n",
        "import pandas as pd\n",
        "from skimage.io import imread\n",
        "from skimage.io import imsave\n",
        "from skimage.transform import resize\n",
        "from skimage import color\n",
        "from skimage import measure\n",
        "from skimage import transform\n",
        "from skimage.color import rgb2gray\n",
        "from scipy import ndimage\n",
        "from scipy import stats\n",
        "from scipy.stats import gaussian_kde\n",
        "import matplotlib.pyplot as plt\n",
        "from mpl_toolkits.axes_grid1 import AxesGrid\n",
        "import torch\n",
        "import glob\n",
        "import cv2\n",
        "from PIL import Image\n",
        "\n",
        "\n",
        "%matplotlib inline\n",
        "\n",
        "try:\n",
        "  import google.colab\n",
        "  IN_COLAB = True\n",
        "  !pip install gdown==4.6.0 # with the following versions, there is an error\n",
        "except:\n",
        "  IN_COLAB = False"
      ]
    },
    {
      "cell_type": "markdown",
      "source": [
        "You can either download the data from my Google Drive or work locally."
      ],
      "metadata": {
        "id": "2vUnlFkU3SGr"
      }
    },
    {
      "cell_type": "code",
      "execution_count": 2,
      "metadata": {
        "id": "c0r--DZ47OJ2",
        "colab": {
          "base_uri": "https://localhost:8080/"
        },
        "outputId": "599a4d56-26ef-4bb1-91b2-2aac876f597f"
      },
      "outputs": [
        {
          "output_type": "stream",
          "name": "stdout",
          "text": [
            "you are using google colab\n",
            "mkdir: cannot create directory ‘./data’: File exists\n"
          ]
        },
        {
          "output_type": "stream",
          "name": "stderr",
          "text": [
            "Downloading...\n",
            "From: https://drive.google.com/uc?id=1iH5hkRN0wCgGklUN5df9u2Ue3UXAR4xZ\n",
            "To: /content/data/TrainCropped.zip\n",
            "100%|██████████| 31.6M/31.6M [00:00<00:00, 69.6MB/s]\n",
            "Downloading...\n",
            "From: https://drive.google.com/uc?id=1lyRZuV9UST55AEqwSy4mqMmh5yHGI1FM\n",
            "To: /content/data/TestCropped.zip\n",
            "100%|██████████| 10.7M/10.7M [00:00<00:00, 142MB/s]\n",
            "Downloading...\n",
            "From: https://drive.google.com/uc?id=1RLJOmqAnHCgiJ7qShQurpxNaRhjjPpJb\n",
            "To: /content/data/ValCropped.zip\n",
            "100%|██████████| 2.43M/2.43M [00:00<00:00, 64.3MB/s]\n"
          ]
        }
      ],
      "source": [
        "if IN_COLAB:\n",
        "  print(\"you are using google colab\")\n",
        "  import gdown\n",
        "  !mkdir ./data\n",
        "  gdown.download(id=\"1iH5hkRN0wCgGklUN5df9u2Ue3UXAR4xZ\", output='./data/TrainCropped.zip', quiet=False)\n",
        "  !unzip -qu \"./data/TrainCropped.zip\" -d \"./data\"\n",
        "  gdown.download(id=\"1lyRZuV9UST55AEqwSy4mqMmh5yHGI1FM\", output='./data/TestCropped.zip', quiet=False)\n",
        "  !unzip -qu \"./data/TestCropped.zip\" -d \"./data\"\n",
        "  gdown.download(id=\"1RLJOmqAnHCgiJ7qShQurpxNaRhjjPpJb\", output='./data/ValCropped.zip', quiet=False)\n",
        "  !unzip -qu \"./data/ValCropped.zip\" -d \"./data\"\n",
        "  !rm -rf ./data/TrainCropped.zip\n",
        "  !rm -rf ./data/TestCropped.zip\n",
        "  !rm -rf ./data/ValCropped.zip\n",
        "  path='./data/'\n",
        "else:\n",
        "  print('You are NOT using colab')\n",
        "  # we assume that folders of data are in the same folder as this jupyter notebook\n",
        "  path='' # if you change this path , you should also change idTRain, idVal and idTest\n"
      ]
    },
    {
      "cell_type": "markdown",
      "source": [
        "If there is an error (might happen with gdown) please upload the three files manually.\n",
        "Follow the following instructions:\n",
        "- go to the folder symbol on the left of your screen\n",
        "- click on the three vertical dots on the 'data' folder\n",
        "- upload (importer in french) the three folders\n",
        "That's it !"
      ],
      "metadata": {
        "id": "b2z2gHwk4tIS"
      }
    },
    {
      "cell_type": "code",
      "source": [
        "# if IN_COLAB:\n",
        "#   !unzip -qu \"./data/TrainCropped.zip\" -d \"./data\"\n",
        "#   !unzip -qu \"./data/TestCropped.zip\" -d \"./data\"\n",
        "#   !unzip -qu \"./data/ValCropped.zip\" -d \"./data\"\n",
        "#   !rm -rf ./data/TrainCropped.zip\n",
        "#   !rm -rf ./data/TestCropped.zip\n",
        "#   !rm -rf ./data/ValCropped.zip\n",
        "#   path='./data/'"
      ],
      "metadata": {
        "id": "nFcmZwt_3c1p"
      },
      "execution_count": 3,
      "outputs": []
    },
    {
      "cell_type": "markdown",
      "source": [
        "Let's load the data."
      ],
      "metadata": {
        "id": "UcVOKS5t3gnA"
      }
    },
    {
      "cell_type": "code",
      "execution_count": 4,
      "metadata": {
        "id": "YidL3vd9pNf3",
        "colab": {
          "base_uri": "https://localhost:8080/"
        },
        "outputId": "cb088031-657c-4cb1-b2ee-0436f5cdb3dd"
      },
      "outputs": [
        {
          "output_type": "stream",
          "name": "stdout",
          "text": [
            "['./data/TrainCropped/ISIC_0013497.jpg', './data/TrainCropped/ISIC_0000148.jpg', './data/TrainCropped/ISIC_0000165.jpg', './data/TrainCropped/ISIC_0010317.jpg', './data/TrainCropped/ISIC_0014571.jpg', './data/TrainCropped/ISIC_0013933.jpg', './data/TrainCropped/ISIC_0010013.jpg', './data/TrainCropped/ISIC_0013656.jpg', './data/TrainCropped/ISIC_0010024.jpg', './data/TrainCropped/ISIC_0014328.jpg', './data/TrainCropped/ISIC_0000190.jpg', './data/TrainCropped/ISIC_0011213.jpg', './data/TrainCropped/ISIC_0010481.jpg', './data/TrainCropped/ISIC_0012911.jpg', './data/TrainCropped/ISIC_0013227.jpg', './data/TrainCropped/ISIC_0012865.jpg', './data/TrainCropped/ISIC_0011382.jpg', './data/TrainCropped/ISIC_0000013.jpg', './data/TrainCropped/ISIC_0014469.jpg', './data/TrainCropped/ISIC_0012785.jpg', './data/TrainCropped/ISIC_0008280.jpg', './data/TrainCropped/ISIC_0012501.jpg', './data/TrainCropped/ISIC_0015110.jpg', './data/TrainCropped/ISIC_0014579.jpg', './data/TrainCropped/ISIC_0010586.jpg', './data/TrainCropped/ISIC_0014093.jpg', './data/TrainCropped/ISIC_0014684.jpg', './data/TrainCropped/ISIC_0013553.jpg', './data/TrainCropped/ISIC_0012148.jpg', './data/TrainCropped/ISIC_0000456.jpg', './data/TrainCropped/ISIC_0010473.jpg', './data/TrainCropped/ISIC_0014860.jpg', './data/TrainCropped/ISIC_0013845.jpg', './data/TrainCropped/ISIC_0001140.jpg', './data/TrainCropped/ISIC_0013610.jpg', './data/TrainCropped/ISIC_0012435.jpg', './data/TrainCropped/ISIC_0010005.jpg', './data/TrainCropped/ISIC_0010017.jpg', './data/TrainCropped/ISIC_0012662.jpg', './data/TrainCropped/ISIC_0000489.jpg', './data/TrainCropped/ISIC_0000064.jpg', './data/TrainCropped/ISIC_0014713.jpg', './data/TrainCropped/ISIC_0012135.jpg', './data/TrainCropped/ISIC_0012657.jpg', './data/TrainCropped/ISIC_0000403.jpg', './data/TrainCropped/ISIC_0009165.jpg', './data/TrainCropped/ISIC_0013433.jpg', './data/TrainCropped/ISIC_0014046.jpg', './data/TrainCropped/ISIC_0012800.jpg', './data/TrainCropped/ISIC_0012789.jpg', './data/TrainCropped/ISIC_0014667.jpg', './data/TrainCropped/ISIC_0000513.jpg', './data/TrainCropped/ISIC_0012706.jpg', './data/TrainCropped/ISIC_0014108.jpg', './data/TrainCropped/ISIC_0014769.jpg', './data/TrainCropped/ISIC_0009940.jpg', './data/TrainCropped/ISIC_0013335.jpg', './data/TrainCropped/ISIC_0012988.jpg', './data/TrainCropped/ISIC_0000254.jpg', './data/TrainCropped/ISIC_0004985.jpg', './data/TrainCropped/ISIC_0006982.jpg', './data/TrainCropped/ISIC_0000030.jpg', './data/TrainCropped/ISIC_0011124.jpg', './data/TrainCropped/ISIC_0011161.jpg', './data/TrainCropped/ISIC_0010225.jpg', './data/TrainCropped/ISIC_0011158.jpg', './data/TrainCropped/ISIC_0000265.jpg', './data/TrainCropped/ISIC_0010326.jpg', './data/TrainCropped/ISIC_0011367.jpg', './data/TrainCropped/ISIC_0011118.jpg', './data/TrainCropped/ISIC_0013929.jpg', './data/TrainCropped/ISIC_0000419.jpg', './data/TrainCropped/ISIC_0000104.jpg', './data/TrainCropped/ISIC_0012845.jpg', './data/TrainCropped/ISIC_0010255.jpg', './data/TrainCropped/ISIC_0012508.jpg', './data/TrainCropped/ISIC_0012539.jpg', './data/TrainCropped/ISIC_0003051.jpg', './data/TrainCropped/ISIC_0001960.jpg', './data/TrainCropped/ISIC_0002879.jpg', './data/TrainCropped/ISIC_0013207.jpg', './data/TrainCropped/ISIC_0010066.jpg', './data/TrainCropped/ISIC_0014589.jpg', './data/TrainCropped/ISIC_0010171.jpg', './data/TrainCropped/ISIC_0013189.jpg', './data/TrainCropped/ISIC_0010201.jpg', './data/TrainCropped/ISIC_0013001.jpg', './data/TrainCropped/ISIC_0014708.jpg', './data/TrainCropped/ISIC_0014770.jpg', './data/TrainCropped/ISIC_0011352.jpg', './data/TrainCropped/ISIC_0010213.jpg', './data/TrainCropped/ISIC_0013204.jpg', './data/TrainCropped/ISIC_0011230.jpg', './data/TrainCropped/ISIC_0010569.jpg', './data/TrainCropped/ISIC_0000292.jpg', './data/TrainCropped/ISIC_0012117.jpg', './data/TrainCropped/ISIC_0013174.jpg', './data/TrainCropped/ISIC_0000268.jpg', './data/TrainCropped/ISIC_0014151.jpg', './data/TrainCropped/ISIC_0013967.jpg', './data/TrainCropped/ISIC_0009883.jpg', './data/TrainCropped/ISIC_0014641.jpg', './data/TrainCropped/ISIC_0013395.jpg', './data/TrainCropped/ISIC_0000311.jpg', './data/TrainCropped/ISIC_0014272.jpg', './data/TrainCropped/ISIC_0000470.jpg', './data/TrainCropped/ISIC_0009910.jpg', './data/TrainCropped/ISIC_0015295.jpg', './data/TrainCropped/ISIC_0010860.jpg', './data/TrainCropped/ISIC_0010461.jpg', './data/TrainCropped/ISIC_0000538.jpg', './data/TrainCropped/ISIC_0014031.jpg', './data/TrainCropped/ISIC_0000191.jpg', './data/TrainCropped/ISIC_0013530.jpg', './data/TrainCropped/ISIC_0010472.jpg', './data/TrainCropped/ISIC_0011372.jpg', './data/TrainCropped/ISIC_0011110.jpg', './data/TrainCropped/ISIC_0011114.jpg', './data/TrainCropped/ISIC_0011298.jpg', './data/TrainCropped/ISIC_0009919.jpg', './data/TrainCropped/ISIC_0000134.jpg', './data/TrainCropped/ISIC_0000036.jpg', './data/TrainCropped/ISIC_0013079.jpg', './data/TrainCropped/ISIC_0012770.jpg', './data/TrainCropped/ISIC_0014595.jpg', './data/TrainCropped/ISIC_0013302.jpg', './data/TrainCropped/ISIC_0000323.jpg', './data/TrainCropped/ISIC_0013667.jpg', './data/TrainCropped/ISIC_0014665.jpg', './data/TrainCropped/ISIC_0015006.jpg', './data/TrainCropped/ISIC_0000504.jpg', './data/TrainCropped/ISIC_0000425.jpg', './data/TrainCropped/ISIC_0000151.jpg', './data/TrainCropped/ISIC_0013205.jpg', './data/TrainCropped/ISIC_0013618.jpg', './data/TrainCropped/ISIC_0000120.jpg', './data/TrainCropped/ISIC_0013986.jpg', './data/TrainCropped/ISIC_0012384.jpg', './data/TrainCropped/ISIC_0011317.jpg', './data/TrainCropped/ISIC_0014229.jpg', './data/TrainCropped/ISIC_0014911.jpg', './data/TrainCropped/ISIC_0000900.jpg', './data/TrainCropped/ISIC_0010455.jpg', './data/TrainCropped/ISIC_0010857.jpg', './data/TrainCropped/ISIC_0000299.jpg', './data/TrainCropped/ISIC_0013789.jpg', './data/TrainCropped/ISIC_0000197.jpg', './data/TrainCropped/ISIC_0013603.jpg', './data/TrainCropped/ISIC_0009963.jpg', './data/TrainCropped/ISIC_0010102.jpg', './data/TrainCropped/ISIC_0013982.jpg', './data/TrainCropped/ISIC_0010089.jpg', './data/TrainCropped/ISIC_0000243.jpg', './data/TrainCropped/ISIC_0000007.jpg', './data/TrainCropped/ISIC_0010329.jpg', './data/TrainCropped/ISIC_0009951.jpg', './data/TrainCropped/ISIC_0000039.jpg', './data/TrainCropped/ISIC_0000044.jpg', './data/TrainCropped/ISIC_0013320.jpg', './data/TrainCropped/ISIC_0013552.jpg', './data/TrainCropped/ISIC_0000094.jpg', './data/TrainCropped/ISIC_0010173.jpg', './data/TrainCropped/ISIC_0004110.jpg', './data/TrainCropped/ISIC_0012164.jpg', './data/TrainCropped/ISIC_0000351.jpg', './data/TrainCropped/ISIC_0012710.jpg', './data/TrainCropped/ISIC_0002976.jpg', './data/TrainCropped/ISIC_0011366.jpg', './data/TrainCropped/ISIC_0011211.jpg', './data/TrainCropped/ISIC_0010057.jpg', './data/TrainCropped/ISIC_0013096.jpg', './data/TrainCropped/ISIC_0012232.jpg', './data/TrainCropped/ISIC_0012679.jpg', './data/TrainCropped/ISIC_0010212.jpg', './data/TrainCropped/ISIC_0013212.jpg', './data/TrainCropped/ISIC_0005639.jpg', './data/TrainCropped/ISIC_0011387.jpg', './data/TrainCropped/ISIC_0010336.jpg', './data/TrainCropped/ISIC_0000443.jpg', './data/TrainCropped/ISIC_0009972.jpg', './data/TrainCropped/ISIC_0005620.jpg', './data/TrainCropped/ISIC_0012939.jpg', './data/TrainCropped/ISIC_0011210.jpg', './data/TrainCropped/ISIC_0005187.jpg', './data/TrainCropped/ISIC_0010371.jpg', './data/TrainCropped/ISIC_0013996.jpg', './data/TrainCropped/ISIC_0010105.jpg', './data/TrainCropped/ISIC_0013670.jpg', './data/TrainCropped/ISIC_0011170.jpg', './data/TrainCropped/ISIC_0000336.jpg', './data/TrainCropped/ISIC_0013962.jpg', './data/TrainCropped/ISIC_0000234.jpg', './data/TrainCropped/ISIC_0010449.jpg', './data/TrainCropped/ISIC_0013625.jpg', './data/TrainCropped/ISIC_0008600.jpg', './data/TrainCropped/ISIC_0000486.jpg', './data/TrainCropped/ISIC_0013456.jpg', './data/TrainCropped/ISIC_0009950.jpg', './data/TrainCropped/ISIC_0010060.jpg', './data/TrainCropped/ISIC_0000488.jpg', './data/TrainCropped/ISIC_0012790.jpg', './data/TrainCropped/ISIC_0009987.jpg', './data/TrainCropped/ISIC_0014393.jpg', './data/TrainCropped/ISIC_0013626.jpg', './data/TrainCropped/ISIC_0000085.jpg', './data/TrainCropped/ISIC_0012455.jpg', './data/TrainCropped/ISIC_0010553.jpg', './data/TrainCropped/ISIC_0010184.jpg', './data/TrainCropped/ISIC_0000189.jpg', './data/TrainCropped/ISIC_0000182.jpg', './data/TrainCropped/ISIC_0013486.jpg', './data/TrainCropped/ISIC_0010094.jpg', './data/TrainCropped/ISIC_0013394.jpg', './data/TrainCropped/ISIC_0014032.jpg', './data/TrainCropped/ISIC_0014156.jpg', './data/TrainCropped/ISIC_0011140.jpg', './data/TrainCropped/ISIC_0013314.jpg', './data/TrainCropped/ISIC_0008807.jpg', './data/TrainCropped/ISIC_0012230.jpg', './data/TrainCropped/ISIC_0013888.jpg', './data/TrainCropped/ISIC_0011361.jpg', './data/TrainCropped/ISIC_0014179.jpg', './data/TrainCropped/ISIC_0012183.jpg', './data/TrainCropped/ISIC_0009967.jpg', './data/TrainCropped/ISIC_0000169.jpg', './data/TrainCropped/ISIC_0010059.jpg', './data/TrainCropped/ISIC_0000521.jpg', './data/TrainCropped/ISIC_0014638.jpg', './data/TrainCropped/ISIC_0000388.jpg', './data/TrainCropped/ISIC_0000515.jpg', './data/TrainCropped/ISIC_0000066.jpg', './data/TrainCropped/ISIC_0010848.jpg', './data/TrainCropped/ISIC_0014527.jpg', './data/TrainCropped/ISIC_0011397.jpg', './data/TrainCropped/ISIC_0013558.jpg', './data/TrainCropped/ISIC_0013136.jpg', './data/TrainCropped/ISIC_0014164.jpg', './data/TrainCropped/ISIC_0012792.jpg', './data/TrainCropped/ISIC_0014346.jpg', './data/TrainCropped/ISIC_0012381.jpg', './data/TrainCropped/ISIC_0010593.jpg', './data/TrainCropped/ISIC_0014476.jpg', './data/TrainCropped/ISIC_0014904.jpg', './data/TrainCropped/ISIC_0013129.jpg', './data/TrainCropped/ISIC_0011215.jpg', './data/TrainCropped/ISIC_0013059.jpg', './data/TrainCropped/ISIC_0013567.jpg', './data/TrainCropped/ISIC_0000415.jpg', './data/TrainCropped/ISIC_0013428.jpg', './data/TrainCropped/ISIC_0000391.jpg', './data/TrainCropped/ISIC_0013487.jpg', './data/TrainCropped/ISIC_0014683.jpg', './data/TrainCropped/ISIC_0007693.jpg', './data/TrainCropped/ISIC_0013983.jpg', './data/TrainCropped/ISIC_0000207.jpg', './data/TrainCropped/ISIC_0010468.jpg', './data/TrainCropped/ISIC_0014422.jpg', './data/TrainCropped/ISIC_0012263.jpg', './data/TrainCropped/ISIC_0012512.jpg', './data/TrainCropped/ISIC_0010603.jpg', './data/TrainCropped/ISIC_0012415.jpg', './data/TrainCropped/ISIC_0012257.jpg', './data/TrainCropped/ISIC_0000217.jpg', './data/TrainCropped/ISIC_0013364.jpg', './data/TrainCropped/ISIC_0000141.jpg', './data/TrainCropped/ISIC_0000121.jpg', './data/TrainCropped/ISIC_0000347.jpg', './data/TrainCropped/ISIC_0000522.jpg', './data/TrainCropped/ISIC_0014834.jpg', './data/TrainCropped/ISIC_0011294.jpg', './data/TrainCropped/ISIC_0010863.jpg', './data/TrainCropped/ISIC_0002353.jpg', './data/TrainCropped/ISIC_0011363.jpg', './data/TrainCropped/ISIC_0012768.jpg', './data/TrainCropped/ISIC_0010356.jpg', './data/TrainCropped/ISIC_0013443.jpg', './data/TrainCropped/ISIC_0006776.jpg', './data/TrainCropped/ISIC_0000127.jpg', './data/TrainCropped/ISIC_0000474.jpg', './data/TrainCropped/ISIC_0000283.jpg', './data/TrainCropped/ISIC_0012378.jpg', './data/TrainCropped/ISIC_0013047.jpg', './data/TrainCropped/ISIC_0011123.jpg', './data/TrainCropped/ISIC_0000059.jpg', './data/TrainCropped/ISIC_0012907.jpg', './data/TrainCropped/ISIC_0000294.jpg', './data/TrainCropped/ISIC_0000365.jpg', './data/TrainCropped/ISIC_0012883.jpg', './data/TrainCropped/ISIC_0014088.jpg', './data/TrainCropped/ISIC_0000445.jpg', './data/TrainCropped/ISIC_0013861.jpg', './data/TrainCropped/ISIC_0010475.jpg', './data/TrainCropped/ISIC_0013981.jpg', './data/TrainCropped/ISIC_0009877.jpg', './data/TrainCropped/ISIC_0013425.jpg', './data/TrainCropped/ISIC_0009991.jpg', './data/TrainCropped/ISIC_0000288.jpg', './data/TrainCropped/ISIC_0014869.jpg', './data/TrainCropped/ISIC_0009188.jpg', './data/TrainCropped/ISIC_0000451.jpg', './data/TrainCropped/ISIC_0013121.jpg', './data/TrainCropped/ISIC_0010020.jpg', './data/TrainCropped/ISIC_0012711.jpg', './data/TrainCropped/ISIC_0012961.jpg', './data/TrainCropped/ISIC_0009917.jpg', './data/TrainCropped/ISIC_0012141.jpg', './data/TrainCropped/ISIC_0013025.jpg', './data/TrainCropped/ISIC_0000509.jpg', './data/TrainCropped/ISIC_0010194.jpg', './data/TrainCropped/ISIC_0012097.jpg', './data/TrainCropped/ISIC_0000463.jpg', './data/TrainCropped/ISIC_0012655.jpg', './data/TrainCropped/ISIC_0013896.jpg', './data/TrainCropped/ISIC_0000160.jpg', './data/TrainCropped/ISIC_0010205.jpg', './data/TrainCropped/ISIC_0014680.jpg', './data/TrainCropped/ISIC_0013799.jpg', './data/TrainCropped/ISIC_0012887.jpg', './data/TrainCropped/ISIC_0014664.jpg', './data/TrainCropped/ISIC_0000073.jpg', './data/TrainCropped/ISIC_0014919.jpg', './data/TrainCropped/ISIC_0010074.jpg', './data/TrainCropped/ISIC_0012108.jpg', './data/TrainCropped/ISIC_0011386.jpg', './data/TrainCropped/ISIC_0014596.jpg', './data/TrainCropped/ISIC_0010015.jpg', './data/TrainCropped/ISIC_0014795.jpg', './data/TrainCropped/ISIC_0013819.jpg', './data/TrainCropped/ISIC_0000133.jpg', './data/TrainCropped/ISIC_0012250.jpg', './data/TrainCropped/ISIC_0013876.jpg', './data/TrainCropped/ISIC_0012709.jpg', './data/TrainCropped/ISIC_0014707.jpg', './data/TrainCropped/ISIC_0014607.jpg', './data/TrainCropped/ISIC_0012228.jpg', './data/TrainCropped/ISIC_0011292.jpg', './data/TrainCropped/ISIC_0010595.jpg', './data/TrainCropped/ISIC_0014525.jpg', './data/TrainCropped/ISIC_0010477.jpg', './data/TrainCropped/ISIC_0000453.jpg', './data/TrainCropped/ISIC_0014453.jpg', './data/TrainCropped/ISIC_0000227.jpg', './data/TrainCropped/ISIC_0009953.jpg', './data/TrainCropped/ISIC_0009966.jpg', './data/TrainCropped/ISIC_0000145.jpg', './data/TrainCropped/ISIC_0000366.jpg', './data/TrainCropped/ISIC_0000551.jpg', './data/TrainCropped/ISIC_0014504.jpg', './data/TrainCropped/ISIC_0000244.jpg', './data/TrainCropped/ISIC_0014639.jpg', './data/TrainCropped/ISIC_0012976.jpg', './data/TrainCropped/ISIC_0009035.jpg', './data/TrainCropped/ISIC_0006326.jpg', './data/TrainCropped/ISIC_0014535.jpg', './data/TrainCropped/ISIC_0011227.jpg', './data/TrainCropped/ISIC_0000281.jpg', './data/TrainCropped/ISIC_0013026.jpg', './data/TrainCropped/ISIC_0010062.jpg', './data/TrainCropped/ISIC_0012726.jpg', './data/TrainCropped/ISIC_0013410.jpg', './data/TrainCropped/ISIC_0009583.jpg', './data/TrainCropped/ISIC_0003056.jpg', './data/TrainCropped/ISIC_0014692.jpg', './data/TrainCropped/ISIC_0012311.jpg', './data/TrainCropped/ISIC_0013063.jpg', './data/TrainCropped/ISIC_0015158.jpg', './data/TrainCropped/ISIC_0014811.jpg', './data/TrainCropped/ISIC_0012990.jpg', './data/TrainCropped/ISIC_0013721.jpg', './data/TrainCropped/ISIC_0002206.jpg', './data/TrainCropped/ISIC_0013578.jpg', './data/TrainCropped/ISIC_0013796.jpg', './data/TrainCropped/ISIC_0000506.jpg', './data/TrainCropped/ISIC_0014480.jpg', './data/TrainCropped/ISIC_0014253.jpg', './data/TrainCropped/ISIC_0000222.jpg', './data/TrainCropped/ISIC_0010092.jpg', './data/TrainCropped/ISIC_0015153.jpg', './data/TrainCropped/ISIC_0000392.jpg', './data/TrainCropped/ISIC_0000069.jpg', './data/TrainCropped/ISIC_0014289.jpg', './data/TrainCropped/ISIC_0012692.jpg', './data/TrainCropped/ISIC_0012902.jpg', './data/TrainCropped/ISIC_0008992.jpg', './data/TrainCropped/ISIC_0000519.jpg', './data/TrainCropped/ISIC_0002673.jpg', './data/TrainCropped/ISIC_0000035.jpg', './data/TrainCropped/ISIC_0000015.jpg', './data/TrainCropped/ISIC_0010367.jpg', './data/TrainCropped/ISIC_0000088.jpg', './data/TrainCropped/ISIC_0010606.jpg', './data/TrainCropped/ISIC_0013777.jpg', './data/TrainCropped/ISIC_0012721.jpg', './data/TrainCropped/ISIC_0000492.jpg', './data/TrainCropped/ISIC_0002246.jpg', './data/TrainCropped/ISIC_0010581.jpg', './data/TrainCropped/ISIC_0013340.jpg', './data/TrainCropped/ISIC_0011099.jpg', './data/TrainCropped/ISIC_0009949.jpg', './data/TrainCropped/ISIC_0008396.jpg', './data/TrainCropped/ISIC_0000319.jpg', './data/TrainCropped/ISIC_0012170.jpg', './data/TrainCropped/ISIC_0012777.jpg', './data/TrainCropped/ISIC_0012669.jpg', './data/TrainCropped/ISIC_0010483.jpg', './data/TrainCropped/ISIC_0010262.jpg', './data/TrainCropped/ISIC_0012663.jpg', './data/TrainCropped/ISIC_0010022.jpg', './data/TrainCropped/ISIC_0009902.jpg', './data/TrainCropped/ISIC_0000491.jpg', './data/TrainCropped/ISIC_0000006.jpg', './data/TrainCropped/ISIC_0012274.jpg', './data/TrainCropped/ISIC_0002287.jpg', './data/TrainCropped/ISIC_0000087.jpg', './data/TrainCropped/ISIC_0009925.jpg', './data/TrainCropped/ISIC_0013499.jpg', './data/TrainCropped/ISIC_0010488.jpg', './data/TrainCropped/ISIC_0000395.jpg', './data/TrainCropped/ISIC_0010178.jpg', './data/TrainCropped/ISIC_0009961.jpg', './data/TrainCropped/ISIC_0013378.jpg', './data/TrainCropped/ISIC_0013166.jpg', './data/TrainCropped/ISIC_0011219.jpg', './data/TrainCropped/ISIC_0014366.jpg', './data/TrainCropped/ISIC_0000027.jpg', './data/TrainCropped/ISIC_0011345.jpg', './data/TrainCropped/ISIC_0013783.jpg', './data/TrainCropped/ISIC_0012840.jpg', './data/TrainCropped/ISIC_0013800.jpg', './data/TrainCropped/ISIC_0000460.jpg', './data/TrainCropped/ISIC_0014929.jpg', './data/TrainCropped/ISIC_0015032.jpg', './data/TrainCropped/ISIC_0012360.jpg', './data/TrainCropped/ISIC_0000487.jpg', './data/TrainCropped/ISIC_0012246.jpg', './data/TrainCropped/ISIC_0001119.jpg', './data/TrainCropped/ISIC_0000016.jpg', './data/TrainCropped/ISIC_0009947.jpg', './data/TrainCropped/ISIC_0000177.jpg', './data/TrainCropped/ISIC_0002836.jpg', './data/TrainCropped/ISIC_0014585.jpg', './data/TrainCropped/ISIC_0012155.jpg', './data/TrainCropped/ISIC_0013584.jpg', './data/TrainCropped/ISIC_0013398.jpg', './data/TrainCropped/ISIC_0000218.jpg', './data/TrainCropped/ISIC_0000156.jpg', './data/TrainCropped/ISIC_0014515.jpg', './data/TrainCropped/ISIC_0010256.jpg', './data/TrainCropped/ISIC_0009962.jpg', './data/TrainCropped/ISIC_0011204.jpg', './data/TrainCropped/ISIC_0014650.jpg', './data/TrainCropped/ISIC_0009932.jpg', './data/TrainCropped/ISIC_0011225.jpg', './data/TrainCropped/ISIC_0011336.jpg', './data/TrainCropped/ISIC_0000163.jpg', './data/TrainCropped/ISIC_0000240.jpg', './data/TrainCropped/ISIC_0010261.jpg', './data/TrainCropped/ISIC_0012416.jpg', './data/TrainCropped/ISIC_0000358.jpg', './data/TrainCropped/ISIC_0002476.jpg', './data/TrainCropped/ISIC_0000316.jpg', './data/TrainCropped/ISIC_0012957.jpg', './data/TrainCropped/ISIC_0000541.jpg', './data/TrainCropped/ISIC_0010364.jpg', './data/TrainCropped/ISIC_0008528.jpg', './data/TrainCropped/ISIC_0014308.jpg', './data/TrainCropped/ISIC_0000155.jpg', './data/TrainCropped/ISIC_0013233.jpg', './data/TrainCropped/ISIC_0000346.jpg', './data/TrainCropped/ISIC_0000172.jpg', './data/TrainCropped/ISIC_0000020.jpg', './data/TrainCropped/ISIC_0014069.jpg', './data/TrainCropped/ISIC_0013409.jpg', './data/TrainCropped/ISIC_0014127.jpg', './data/TrainCropped/ISIC_0014930.jpg', './data/TrainCropped/ISIC_0010444.jpg', './data/TrainCropped/ISIC_0010846.jpg', './data/TrainCropped/ISIC_0014163.jpg', './data/TrainCropped/ISIC_0010452.jpg', './data/TrainCropped/ISIC_0012118.jpg', './data/TrainCropped/ISIC_0013594.jpg', './data/TrainCropped/ISIC_0009911.jpg', './data/TrainCropped/ISIC_0014577.jpg', './data/TrainCropped/ISIC_0011177.jpg', './data/TrainCropped/ISIC_0000554.jpg', './data/TrainCropped/ISIC_0009083.jpg', './data/TrainCropped/ISIC_0015109.jpg', './data/TrainCropped/ISIC_0011090.jpg', './data/TrainCropped/ISIC_0000164.jpg', './data/TrainCropped/ISIC_0006711.jpg', './data/TrainCropped/ISIC_0014745.jpg', './data/TrainCropped/ISIC_0013355.jpg', './data/TrainCropped/ISIC_0013243.jpg', './data/TrainCropped/ISIC_0000099.jpg', './data/TrainCropped/ISIC_0012855.jpg', './data/TrainCropped/ISIC_0013737.jpg', './data/TrainCropped/ISIC_0013056.jpg', './data/TrainCropped/ISIC_0012259.jpg', './data/TrainCropped/ISIC_0010368.jpg', './data/TrainCropped/ISIC_0010264.jpg', './data/TrainCropped/ISIC_0000146.jpg', './data/TrainCropped/ISIC_0013423.jpg', './data/TrainCropped/ISIC_0013400.jpg', './data/TrainCropped/ISIC_0012949.jpg', './data/TrainCropped/ISIC_0000142.jpg', './data/TrainCropped/ISIC_0013034.jpg', './data/TrainCropped/ISIC_0010241.jpg', './data/TrainCropped/ISIC_0000354.jpg', './data/TrainCropped/ISIC_0013141.jpg', './data/TrainCropped/ISIC_0010265.jpg', './data/TrainCropped/ISIC_0001152.jpg', './data/TrainCropped/ISIC_0009901.jpg', './data/TrainCropped/ISIC_0000179.jpg', './data/TrainCropped/ISIC_0001148.jpg', './data/TrainCropped/ISIC_0012704.jpg', './data/TrainCropped/ISIC_0000242.jpg', './data/TrainCropped/ISIC_0011146.jpg', './data/TrainCropped/ISIC_0000536.jpg', './data/TrainCropped/ISIC_0013490.jpg', './data/TrainCropped/ISIC_0010862.jpg', './data/TrainCropped/ISIC_0012433.jpg', './data/TrainCropped/ISIC_0010441.jpg', './data/TrainCropped/ISIC_0000535.jpg', './data/TrainCropped/ISIC_0013489.jpg', './data/TrainCropped/ISIC_0010249.jpg', './data/TrainCropped/ISIC_0012299.jpg', './data/TrainCropped/ISIC_0011165.jpg', './data/TrainCropped/ISIC_0000049.jpg', './data/TrainCropped/ISIC_0000539.jpg', './data/TrainCropped/ISIC_0010206.jpg', './data/TrainCropped/ISIC_0010254.jpg', './data/TrainCropped/ISIC_0012397.jpg', './data/TrainCropped/ISIC_0011136.jpg', './data/TrainCropped/ISIC_0009160.jpg', './data/TrainCropped/ISIC_0010055.jpg', './data/TrainCropped/ISIC_0013461.jpg', './data/TrainCropped/ISIC_0000136.jpg', './data/TrainCropped/ISIC_0014327.jpg', './data/TrainCropped/ISIC_0015181.jpg', './data/TrainCropped/ISIC_0014739.jpg', './data/TrainCropped/ISIC_0014076.jpg', './data/TrainCropped/ISIC_0000999.jpg', './data/TrainCropped/ISIC_0012211.jpg', './data/TrainCropped/ISIC_0010234.jpg', './data/TrainCropped/ISIC_0014502.jpg', './data/TrainCropped/ISIC_0014591.jpg', './data/TrainCropped/ISIC_0014225.jpg', './data/TrainCropped/ISIC_0009979.jpg', './data/TrainCropped/ISIC_0000132.jpg', './data/TrainCropped/ISIC_0009871.jpg', './data/TrainCropped/ISIC_0009938.jpg', './data/TrainCropped/ISIC_0013808.jpg', './data/TrainCropped/ISIC_0008207.jpg', './data/TrainCropped/ISIC_0014216.jpg', './data/TrainCropped/ISIC_0014714.jpg', './data/TrainCropped/ISIC_0014583.jpg', './data/TrainCropped/ISIC_0000078.jpg', './data/TrainCropped/ISIC_0010070.jpg', './data/TrainCropped/ISIC_0012944.jpg', './data/TrainCropped/ISIC_0009895.jpg', './data/TrainCropped/ISIC_0010330.jpg', './data/TrainCropped/ISIC_0000237.jpg', './data/TrainCropped/ISIC_0011310.jpg', './data/TrainCropped/ISIC_0010374.jpg', './data/TrainCropped/ISIC_0013492.jpg', './data/TrainCropped/ISIC_0000277.jpg', './data/TrainCropped/ISIC_0012675.jpg', './data/TrainCropped/ISIC_0000239.jpg', './data/TrainCropped/ISIC_0002829.jpg', './data/TrainCropped/ISIC_0013792.jpg', './data/TrainCropped/ISIC_0013795.jpg', './data/TrainCropped/ISIC_0010596.jpg', './data/TrainCropped/ISIC_0000041.jpg', './data/TrainCropped/ISIC_0015079.jpg', './data/TrainCropped/ISIC_0013480.jpg', './data/TrainCropped/ISIC_0012986.jpg', './data/TrainCropped/ISIC_0000231.jpg', './data/TrainCropped/ISIC_0009915.jpg', './data/TrainCropped/ISIC_0013910.jpg', './data/TrainCropped/ISIC_0012772.jpg', './data/TrainCropped/ISIC_0010448.jpg', './data/TrainCropped/ISIC_0009298.jpg', './data/TrainCropped/ISIC_0000353.jpg', './data/TrainCropped/ISIC_0000370.jpg', './data/TrainCropped/ISIC_0012103.jpg', './data/TrainCropped/ISIC_0010864.jpg', './data/TrainCropped/ISIC_0010479.jpg', './data/TrainCropped/ISIC_0014029.jpg', './data/TrainCropped/ISIC_0000396.jpg', './data/TrainCropped/ISIC_0000215.jpg', './data/TrainCropped/ISIC_0000530.jpg', './data/TrainCropped/ISIC_0015200.jpg', './data/TrainCropped/ISIC_0010042.jpg', './data/TrainCropped/ISIC_0011338.jpg', './data/TrainCropped/ISIC_0000458.jpg', './data/TrainCropped/ISIC_0014983.jpg', './data/TrainCropped/ISIC_0014249.jpg', './data/TrainCropped/ISIC_0011144.jpg', './data/TrainCropped/ISIC_0013865.jpg', './data/TrainCropped/ISIC_0012208.jpg', './data/TrainCropped/ISIC_0011344.jpg', './data/TrainCropped/ISIC_0013599.jpg', './data/TrainCropped/ISIC_0000174.jpg', './data/TrainCropped/ISIC_0010236.jpg', './data/TrainCropped/ISIC_0000021.jpg', './data/TrainCropped/ISIC_0013432.jpg', './data/TrainCropped/ISIC_0011296.jpg', './data/TrainCropped/ISIC_0010465.jpg', './data/TrainCropped/ISIC_0010571.jpg', './data/TrainCropped/ISIC_0013040.jpg', './data/TrainCropped/ISIC_0011145.jpg', './data/TrainCropped/ISIC_0000505.jpg', './data/TrainCropped/ISIC_0000198.jpg', './data/TrainCropped/ISIC_0012756.jpg', './data/TrainCropped/ISIC_0010044.jpg', './data/TrainCropped/ISIC_0014726.jpg', './data/TrainCropped/ISIC_0014615.jpg', './data/TrainCropped/ISIC_0012891.jpg', './data/TrainCropped/ISIC_0012930.jpg', './data/TrainCropped/ISIC_0013306.jpg', './data/TrainCropped/ISIC_0015189.jpg', './data/TrainCropped/ISIC_0011155.jpg', './data/TrainCropped/ISIC_0014158.jpg', './data/TrainCropped/ISIC_0000261.jpg', './data/TrainCropped/ISIC_0012516.jpg', './data/TrainCropped/ISIC_0000321.jpg', './data/TrainCropped/ISIC_0000018.jpg', './data/TrainCropped/ISIC_0014372.jpg', './data/TrainCropped/ISIC_0012473.jpg', './data/TrainCropped/ISIC_0013437.jpg', './data/TrainCropped/ISIC_0013178.jpg', './data/TrainCropped/ISIC_0012260.jpg', './data/TrainCropped/ISIC_0000260.jpg', './data/TrainCropped/ISIC_0012854.jpg', './data/TrainCropped/ISIC_0000025.jpg', './data/TrainCropped/ISIC_0015108.jpg', './data/TrainCropped/ISIC_0010589.jpg', './data/TrainCropped/ISIC_0013087.jpg', './data/TrainCropped/ISIC_0011169.jpg', './data/TrainCropped/ISIC_0014582.jpg', './data/TrainCropped/ISIC_0015170.jpg', './data/TrainCropped/ISIC_0012320.jpg', './data/TrainCropped/ISIC_0013474.jpg', './data/TrainCropped/ISIC_0014545.jpg', './data/TrainCropped/ISIC_0000466.jpg', './data/TrainCropped/ISIC_0000457.jpg', './data/TrainCropped/ISIC_0010558.jpg', './data/TrainCropped/ISIC_0010202.jpg', './data/TrainCropped/ISIC_0010370.jpg', './data/TrainCropped/ISIC_0011205.jpg', './data/TrainCropped/ISIC_0000026.jpg', './data/TrainCropped/ISIC_0014594.jpg', './data/TrainCropped/ISIC_0000105.jpg', './data/TrainCropped/ISIC_0000352.jpg', './data/TrainCropped/ISIC_0010185.jpg', './data/TrainCropped/ISIC_0000480.jpg', './data/TrainCropped/ISIC_0013032.jpg', './data/TrainCropped/ISIC_0009252.jpg', './data/TrainCropped/ISIC_0014324.jpg', './data/TrainCropped/ISIC_0011157.jpg', './data/TrainCropped/ISIC_0000192.jpg', './data/TrainCropped/ISIC_0009923.jpg', './data/TrainCropped/ISIC_0000137.jpg', './data/TrainCropped/ISIC_0009965.jpg', './data/TrainCropped/ISIC_0014612.jpg', './data/TrainCropped/ISIC_0012940.jpg', './data/TrainCropped/ISIC_0014658.jpg', './data/TrainCropped/ISIC_0013054.jpg', './data/TrainCropped/ISIC_0014651.jpg', './data/TrainCropped/ISIC_0014920.jpg', './data/TrainCropped/ISIC_0001103.jpg', './data/TrainCropped/ISIC_0014157.jpg', './data/TrainCropped/ISIC_0014026.jpg', './data/TrainCropped/ISIC_0010360.jpg', './data/TrainCropped/ISIC_0013495.jpg', './data/TrainCropped/ISIC_0012813.jpg', './data/TrainCropped/ISIC_0010861.jpg', './data/TrainCropped/ISIC_0012406.jpg', './data/TrainCropped/ISIC_0014083.jpg', './data/TrainCropped/ISIC_0014132.jpg', './data/TrainCropped/ISIC_0000552.jpg', './data/TrainCropped/ISIC_0000478.jpg', './data/TrainCropped/ISIC_0001105.jpg', './data/TrainCropped/ISIC_0000326.jpg', './data/TrainCropped/ISIC_0013747.jpg', './data/TrainCropped/ISIC_0012261.jpg', './data/TrainCropped/ISIC_0011082.jpg', './data/TrainCropped/ISIC_0009905.jpg', './data/TrainCropped/ISIC_0014361.jpg', './data/TrainCropped/ISIC_0011095.jpg', './data/TrainCropped/ISIC_0013155.jpg', './data/TrainCropped/ISIC_0000407.jpg', './data/TrainCropped/ISIC_0013037.jpg', './data/TrainCropped/ISIC_0012496.jpg', './data/TrainCropped/ISIC_0000329.jpg', './data/TrainCropped/ISIC_0014897.jpg', './data/TrainCropped/ISIC_0000322.jpg', './data/TrainCropped/ISIC_0010237.jpg', './data/TrainCropped/ISIC_0000253.jpg', './data/TrainCropped/ISIC_0010467.jpg', './data/TrainCropped/ISIC_0012172.jpg', './data/TrainCropped/ISIC_0014543.jpg', './data/TrainCropped/ISIC_0014825.jpg', './data/TrainCropped/ISIC_0000499.jpg', './data/TrainCropped/ISIC_0013031.jpg', './data/TrainCropped/ISIC_0013424.jpg', './data/TrainCropped/ISIC_0011159.jpg', './data/TrainCropped/ISIC_0000061.jpg', './data/TrainCropped/ISIC_0012386.jpg', './data/TrainCropped/ISIC_0015260.jpg', './data/TrainCropped/ISIC_0009909.jpg', './data/TrainCropped/ISIC_0010231.jpg', './data/TrainCropped/ISIC_0000476.jpg', './data/TrainCropped/ISIC_0013995.jpg', './data/TrainCropped/ISIC_0010337.jpg', './data/TrainCropped/ISIC_0000282.jpg', './data/TrainCropped/ISIC_0013731.jpg', './data/TrainCropped/ISIC_0014783.jpg', './data/TrainCropped/ISIC_0000176.jpg', './data/TrainCropped/ISIC_0010244.jpg', './data/TrainCropped/ISIC_0014711.jpg', './data/TrainCropped/ISIC_0014821.jpg', './data/TrainCropped/ISIC_0012677.jpg', './data/TrainCropped/ISIC_0000527.jpg', './data/TrainCropped/ISIC_0000516.jpg', './data/TrainCropped/ISIC_0009955.jpg', './data/TrainCropped/ISIC_0013429.jpg', './data/TrainCropped/ISIC_0000382.jpg', './data/TrainCropped/ISIC_0013094.jpg', './data/TrainCropped/ISIC_0014898.jpg', './data/TrainCropped/ISIC_0012469.jpg', './data/TrainCropped/ISIC_0014593.jpg', './data/TrainCropped/ISIC_0010844.jpg', './data/TrainCropped/ISIC_0000014.jpg', './data/TrainCropped/ISIC_0009937.jpg', './data/TrainCropped/ISIC_0011304.jpg', './data/TrainCropped/ISIC_0014273.jpg', './data/TrainCropped/ISIC_0012348.jpg', './data/TrainCropped/ISIC_0013200.jpg', './data/TrainCropped/ISIC_0000256.jpg', './data/TrainCropped/ISIC_0012359.jpg', './data/TrainCropped/ISIC_0011359.jpg', './data/TrainCropped/ISIC_0011398.jpg', './data/TrainCropped/ISIC_0013687.jpg', './data/TrainCropped/ISIC_0012543.jpg', './data/TrainCropped/ISIC_0010100.jpg', './data/TrainCropped/ISIC_0014849.jpg', './data/TrainCropped/ISIC_0014839.jpg', './data/TrainCropped/ISIC_0011393.jpg', './data/TrainCropped/ISIC_0012952.jpg', './data/TrainCropped/ISIC_0001118.jpg', './data/TrainCropped/ISIC_0000507.jpg', './data/TrainCropped/ISIC_0011218.jpg', './data/TrainCropped/ISIC_0013304.jpg', './data/TrainCropped/ISIC_0013525.jpg', './data/TrainCropped/ISIC_0012212.jpg', './data/TrainCropped/ISIC_0000034.jpg', './data/TrainCropped/ISIC_0012450.jpg', './data/TrainCropped/ISIC_0013236.jpg', './data/TrainCropped/ISIC_0011326.jpg', './data/TrainCropped/ISIC_0011347.jpg', './data/TrainCropped/ISIC_0014724.jpg', './data/TrainCropped/ISIC_0012235.jpg', './data/TrainCropped/ISIC_0009297.jpg', './data/TrainCropped/ISIC_0000549.jpg', './data/TrainCropped/ISIC_0013163.jpg', './data/TrainCropped/ISIC_0000009.jpg', './data/TrainCropped/ISIC_0012167.jpg', './data/TrainCropped/ISIC_0012291.jpg', './data/TrainCropped/ISIC_0006021.jpg', './data/TrainCropped/ISIC_0009599.jpg', './data/TrainCropped/ISIC_0013685.jpg', './data/TrainCropped/ISIC_0013971.jpg', './data/TrainCropped/ISIC_0012666.jpg', './data/TrainCropped/ISIC_0012685.jpg', './data/TrainCropped/ISIC_0000330.jpg', './data/TrainCropped/ISIC_0010021.jpg', './data/TrainCropped/ISIC_0000387.jpg', './data/TrainCropped/ISIC_0014742.jpg', './data/TrainCropped/ISIC_0012804.jpg', './data/TrainCropped/ISIC_0014291.jpg', './data/TrainCropped/ISIC_0012329.jpg', './data/TrainCropped/ISIC_0000320.jpg', './data/TrainCropped/ISIC_0010442.jpg', './data/TrainCropped/ISIC_0000317.jpg', './data/TrainCropped/ISIC_0013517.jpg', './data/TrainCropped/ISIC_0010493.jpg', './data/TrainCropped/ISIC_0000091.jpg', './data/TrainCropped/ISIC_0012672.jpg', './data/TrainCropped/ISIC_0011089.jpg', './data/TrainCropped/ISIC_0013385.jpg', './data/TrainCropped/ISIC_0014569.jpg', './data/TrainCropped/ISIC_0012693.jpg', './data/TrainCropped/ISIC_0013572.jpg', './data/TrainCropped/ISIC_0012294.jpg', './data/TrainCropped/ISIC_0000482.jpg', './data/TrainCropped/ISIC_0010333.jpg', './data/TrainCropped/ISIC_0014915.jpg', './data/TrainCropped/ISIC_0012281.jpg', './data/TrainCropped/ISIC_0011135.jpg', './data/TrainCropped/ISIC_0000028.jpg', './data/TrainCropped/ISIC_0000011.jpg', './data/TrainCropped/ISIC_0014507.jpg', './data/TrainCropped/ISIC_0013690.jpg', './data/TrainCropped/ISIC_0000295.jpg', './data/TrainCropped/ISIC_0004168.jpg', './data/TrainCropped/ISIC_0014794.jpg', './data/TrainCropped/ISIC_0013652.jpg', './data/TrainCropped/ISIC_0013936.jpg', './data/TrainCropped/ISIC_0014702.jpg', './data/TrainCropped/ISIC_0010002.jpg', './data/TrainCropped/ISIC_0000455.jpg', './data/TrainCropped/ISIC_0000048.jpg', './data/TrainCropped/ISIC_0013405.jpg', './data/TrainCropped/ISIC_0014908.jpg', './data/TrainCropped/ISIC_0009998.jpg', './data/TrainCropped/ISIC_0000126.jpg', './data/TrainCropped/ISIC_0013310.jpg', './data/TrainCropped/ISIC_0010565.jpg', './data/TrainCropped/ISIC_0011173.jpg', './data/TrainCropped/ISIC_0015219.jpg', './data/TrainCropped/ISIC_0010090.jpg', './data/TrainCropped/ISIC_0006193.jpg', './data/TrainCropped/ISIC_0014133.jpg', './data/TrainCropped/ISIC_0014779.jpg', './data/TrainCropped/ISIC_0013765.jpg', './data/TrainCropped/ISIC_0014511.jpg', './data/TrainCropped/ISIC_0013106.jpg', './data/TrainCropped/ISIC_0000211.jpg', './data/TrainCropped/ISIC_0010591.jpg', './data/TrainCropped/ISIC_0013942.jpg', './data/TrainCropped/ISIC_0000223.jpg', './data/TrainCropped/ISIC_0000213.jpg', './data/TrainCropped/ISIC_0011107.jpg', './data/TrainCropped/ISIC_0010574.jpg', './data/TrainCropped/ISIC_0012715.jpg', './data/TrainCropped/ISIC_0000065.jpg', './data/TrainCropped/ISIC_0014925.jpg', './data/TrainCropped/ISIC_0000467.jpg', './data/TrainCropped/ISIC_0014715.jpg', './data/TrainCropped/ISIC_0012879.jpg', './data/TrainCropped/ISIC_0012741.jpg', './data/TrainCropped/ISIC_0000490.jpg', './data/TrainCropped/ISIC_0013334.jpg', './data/TrainCropped/ISIC_0000075.jpg', './data/TrainCropped/ISIC_0012806.jpg', './data/TrainCropped/ISIC_0013500.jpg', './data/TrainCropped/ISIC_0012823.jpg', './data/TrainCropped/ISIC_0013177.jpg', './data/TrainCropped/ISIC_0002948.jpg', './data/TrainCropped/ISIC_0008507.jpg', './data/TrainCropped/ISIC_0000079.jpg', './data/TrainCropped/ISIC_0013581.jpg', './data/TrainCropped/ISIC_0013146.jpg', './data/TrainCropped/ISIC_0009942.jpg', './data/TrainCropped/ISIC_0013235.jpg', './data/TrainCropped/ISIC_0014099.jpg', './data/TrainCropped/ISIC_0013719.jpg', './data/TrainCropped/ISIC_0014581.jpg', './data/TrainCropped/ISIC_0013671.jpg', './data/TrainCropped/ISIC_0000300.jpg', './data/TrainCropped/ISIC_0010176.jpg', './data/TrainCropped/ISIC_0013580.jpg', './data/TrainCropped/ISIC_0014028.jpg', './data/TrainCropped/ISIC_0014173.jpg', './data/TrainCropped/ISIC_0000310.jpg', './data/TrainCropped/ISIC_0013356.jpg', './data/TrainCropped/ISIC_0011339.jpg', './data/TrainCropped/ISIC_0000129.jpg', './data/TrainCropped/ISIC_0013027.jpg', './data/TrainCropped/ISIC_0013592.jpg', './data/TrainCropped/ISIC_0011166.jpg', './data/TrainCropped/ISIC_0013184.jpg', './data/TrainCropped/ISIC_0015284.jpg', './data/TrainCropped/ISIC_0009564.jpg', './data/TrainCropped/ISIC_0014580.jpg', './data/TrainCropped/ISIC_0014748.jpg', './data/TrainCropped/ISIC_0010043.jpg', './data/TrainCropped/ISIC_0000293.jpg', './data/TrainCropped/ISIC_0010054.jpg', './data/TrainCropped/ISIC_0010016.jpg', './data/TrainCropped/ISIC_0012898.jpg', './data/TrainCropped/ISIC_0014150.jpg', './data/TrainCropped/ISIC_0013097.jpg', './data/TrainCropped/ISIC_0013287.jpg', './data/TrainCropped/ISIC_0014341.jpg', './data/TrainCropped/ISIC_0002616.jpg', './data/TrainCropped/ISIC_0000301.jpg', './data/TrainCropped/ISIC_0010456.jpg', './data/TrainCropped/ISIC_0010597.jpg', './data/TrainCropped/ISIC_0012674.jpg', './data/TrainCropped/ISIC_0000473.jpg', './data/TrainCropped/ISIC_0014836.jpg', './data/TrainCropped/ISIC_0014850.jpg', './data/TrainCropped/ISIC_0010267.jpg', './data/TrainCropped/ISIC_0010248.jpg', './data/TrainCropped/ISIC_0010014.jpg', './data/TrainCropped/ISIC_0000550.jpg', './data/TrainCropped/ISIC_0014537.jpg', './data/TrainCropped/ISIC_0011163.jpg', './data/TrainCropped/ISIC_0000229.jpg', './data/TrainCropped/ISIC_0000001.jpg', './data/TrainCropped/ISIC_0013921.jpg', './data/TrainCropped/ISIC_0000181.jpg', './data/TrainCropped/ISIC_0000882.jpg', './data/TrainCropped/ISIC_0002459.jpg', './data/TrainCropped/ISIC_0010344.jpg', './data/TrainCropped/ISIC_0001128.jpg', './data/TrainCropped/ISIC_0014410.jpg', './data/TrainCropped/ISIC_0010562.jpg', './data/TrainCropped/ISIC_0014830.jpg', './data/TrainCropped/ISIC_0012697.jpg', './data/TrainCropped/ISIC_0013198.jpg', './data/TrainCropped/ISIC_0013801.jpg', './data/TrainCropped/ISIC_0014263.jpg', './data/TrainCropped/ISIC_0012889.jpg', './data/TrainCropped/ISIC_0000236.jpg', './data/TrainCropped/ISIC_0000485.jpg', './data/TrainCropped/ISIC_0009973.jpg', './data/TrainCropped/ISIC_0000072.jpg', './data/TrainCropped/ISIC_0013890.jpg', './data/TrainCropped/ISIC_0009758.jpg', './data/TrainCropped/ISIC_0010327.jpg', './data/TrainCropped/ISIC_0009935.jpg', './data/TrainCropped/ISIC_0014628.jpg', './data/TrainCropped/ISIC_0002107.jpg', './data/TrainCropped/ISIC_0003005.jpg', './data/TrainCropped/ISIC_0014557.jpg', './data/TrainCropped/ISIC_0011212.jpg', './data/TrainCropped/ISIC_0012214.jpg', './data/TrainCropped/ISIC_0000461.jpg', './data/TrainCropped/ISIC_0010093.jpg', './data/TrainCropped/ISIC_0009891.jpg', './data/TrainCropped/ISIC_0010458.jpg', './data/TrainCropped/ISIC_0012719.jpg', './data/TrainCropped/ISIC_0014694.jpg', './data/TrainCropped/ISIC_0010490.jpg', './data/TrainCropped/ISIC_0014933.jpg', './data/TrainCropped/ISIC_0013126.jpg', './data/TrainCropped/ISIC_0000224.jpg', './data/TrainCropped/ISIC_0014171.jpg', './data/TrainCropped/ISIC_0000413.jpg', './data/TrainCropped/ISIC_0013864.jpg', './data/TrainCropped/ISIC_0011362.jpg', './data/TrainCropped/ISIC_0014191.jpg', './data/TrainCropped/ISIC_0010852.jpg', './data/TrainCropped/ISIC_0014838.jpg', './data/TrainCropped/ISIC_0012871.jpg', './data/TrainCropped/ISIC_0013832.jpg', './data/TrainCropped/ISIC_0012987.jpg', './data/TrainCropped/ISIC_0011217.jpg', './data/TrainCropped/ISIC_0000416.jpg', './data/TrainCropped/ISIC_0013268.jpg', './data/TrainCropped/ISIC_0000418.jpg', './data/TrainCropped/ISIC_0013778.jpg', './data/TrainCropped/ISIC_0009078.jpg', './data/TrainCropped/ISIC_0000071.jpg', './data/TrainCropped/ISIC_0013815.jpg', './data/TrainCropped/ISIC_0013023.jpg', './data/TrainCropped/ISIC_0010382.jpg', './data/TrainCropped/ISIC_0010498.jpg', './data/TrainCropped/ISIC_0008993.jpg', './data/TrainCropped/ISIC_0000140.jpg', './data/TrainCropped/ISIC_0010075.jpg', './data/TrainCropped/ISIC_0014004.jpg', './data/TrainCropped/ISIC_0012725.jpg', './data/TrainCropped/ISIC_0013438.jpg', './data/TrainCropped/ISIC_0014554.jpg', './data/TrainCropped/ISIC_0000528.jpg', './data/TrainCropped/ISIC_0000409.jpg', './data/TrainCropped/ISIC_0014092.jpg', './data/TrainCropped/ISIC_0012245.jpg', './data/TrainCropped/ISIC_0014605.jpg', './data/TrainCropped/ISIC_0011132.jpg', './data/TrainCropped/ISIC_0014501.jpg', './data/TrainCropped/ISIC_0001126.jpg', './data/TrainCropped/ISIC_0000447.jpg', './data/TrainCropped/ISIC_0014819.jpg', './data/TrainCropped/ISIC_0000350.jpg', './data/TrainCropped/ISIC_0012494.jpg', './data/TrainCropped/ISIC_0014190.jpg', './data/TrainCropped/ISIC_0014475.jpg', './data/TrainCropped/ISIC_0004115.jpg', './data/TrainCropped/ISIC_0013841.jpg', './data/TrainCropped/ISIC_0010346.jpg', './data/TrainCropped/ISIC_0014923.jpg', './data/TrainCropped/ISIC_0014831.jpg', './data/TrainCropped/ISIC_0012445.jpg', './data/TrainCropped/ISIC_0008785.jpg', './data/TrainCropped/ISIC_0012377.jpg', './data/TrainCropped/ISIC_0012962.jpg', './data/TrainCropped/ISIC_0000332.jpg', './data/TrainCropped/ISIC_0010104.jpg', './data/TrainCropped/ISIC_0000130.jpg', './data/TrainCropped/ISIC_0011088.jpg', './data/TrainCropped/ISIC_0014731.jpg', './data/TrainCropped/ISIC_0000097.jpg', './data/TrainCropped/ISIC_0010019.jpg', './data/TrainCropped/ISIC_0014573.jpg', './data/TrainCropped/ISIC_0013691.jpg', './data/TrainCropped/ISIC_0000057.jpg', './data/TrainCropped/ISIC_0014317.jpg', './data/TrainCropped/ISIC_0012278.jpg', './data/TrainCropped/ISIC_0000124.jpg', './data/TrainCropped/ISIC_0011358.jpg', './data/TrainCropped/ISIC_0000086.jpg', './data/TrainCropped/ISIC_0013844.jpg', './data/TrainCropped/ISIC_0000128.jpg', './data/TrainCropped/ISIC_0014458.jpg', './data/TrainCropped/ISIC_0012205.jpg', './data/TrainCropped/ISIC_0014622.jpg', './data/TrainCropped/ISIC_0012442.jpg', './data/TrainCropped/ISIC_0001102.jpg', './data/TrainCropped/ISIC_0012464.jpg', './data/TrainCropped/ISIC_0009960.jpg', './data/TrainCropped/ISIC_0010174.jpg', './data/TrainCropped/ISIC_0013886.jpg', './data/TrainCropped/ISIC_0000047.jpg', './data/TrainCropped/ISIC_0012529.jpg', './data/TrainCropped/ISIC_0010494.jpg', './data/TrainCropped/ISIC_0000102.jpg', './data/TrainCropped/ISIC_0000258.jpg', './data/TrainCropped/ISIC_0004715.jpg', './data/TrainCropped/ISIC_0013684.jpg', './data/TrainCropped/ISIC_0000201.jpg', './data/TrainCropped/ISIC_0012982.jpg', './data/TrainCropped/ISIC_0000349.jpg', './data/TrainCropped/ISIC_0014440.jpg', './data/TrainCropped/ISIC_0013065.jpg', './data/TrainCropped/ISIC_0007557.jpg', './data/TrainCropped/ISIC_0013329.jpg', './data/TrainCropped/ISIC_0007322.jpg', './data/TrainCropped/ISIC_0010000.jpg', './data/TrainCropped/ISIC_0012089.jpg', './data/TrainCropped/ISIC_0013601.jpg', './data/TrainCropped/ISIC_0014722.jpg', './data/TrainCropped/ISIC_0000184.jpg', './data/TrainCropped/ISIC_0014431.jpg', './data/TrainCropped/ISIC_0012897.jpg', './data/TrainCropped/ISIC_0000029.jpg', './data/TrainCropped/ISIC_0013772.jpg', './data/TrainCropped/ISIC_0013831.jpg', './data/TrainCropped/ISIC_0000376.jpg', './data/TrainCropped/ISIC_0013084.jpg', './data/TrainCropped/ISIC_0014385.jpg', './data/TrainCropped/ISIC_0000367.jpg', './data/TrainCropped/ISIC_0009993.jpg', './data/TrainCropped/ISIC_0014166.jpg', './data/TrainCropped/ISIC_0011223.jpg', './data/TrainCropped/ISIC_0000247.jpg', './data/TrainCropped/ISIC_0011348.jpg', './data/TrainCropped/ISIC_0010220.jpg', './data/TrainCropped/ISIC_0000496.jpg', './data/TrainCropped/ISIC_0000110.jpg', './data/TrainCropped/ISIC_0011115.jpg', './data/TrainCropped/ISIC_0000010.jpg', './data/TrainCropped/ISIC_0014089.jpg', './data/TrainCropped/ISIC_0000125.jpg', './data/TrainCropped/ISIC_0009971.jpg', './data/TrainCropped/ISIC_0000098.jpg', './data/TrainCropped/ISIC_0012487.jpg', './data/TrainCropped/ISIC_0013223.jpg', './data/TrainCropped/ISIC_0012338.jpg', './data/TrainCropped/ISIC_0000082.jpg', './data/TrainCropped/ISIC_0013498.jpg', './data/TrainCropped/ISIC_0000216.jpg', './data/TrainCropped/ISIC_0012810.jpg', './data/TrainCropped/ISIC_0000289.jpg', './data/TrainCropped/ISIC_0009912.jpg', './data/TrainCropped/ISIC_0000040.jpg', './data/TrainCropped/ISIC_0000313.jpg', './data/TrainCropped/ISIC_0010064.jpg', './data/TrainCropped/ISIC_0011203.jpg', './data/TrainCropped/ISIC_0000221.jpg', './data/TrainCropped/ISIC_0009879.jpg', './data/TrainCropped/ISIC_0013672.jpg', './data/TrainCropped/ISIC_0013383.jpg', './data/TrainCropped/ISIC_0014357.jpg', './data/TrainCropped/ISIC_0012150.jpg', './data/TrainCropped/ISIC_0014975.jpg', './data/TrainCropped/ISIC_0000186.jpg', './data/TrainCropped/ISIC_0011119.jpg', './data/TrainCropped/ISIC_0000000.jpg', './data/TrainCropped/ISIC_0012511.jpg', './data/TrainCropped/ISIC_0000166.jpg', './data/TrainCropped/ISIC_0000063.jpg', './data/TrainCropped/ISIC_0014325.jpg', './data/TrainCropped/ISIC_0014657.jpg', './data/TrainCropped/ISIC_0012884.jpg', './data/TrainCropped/ISIC_0011162.jpg', './data/TrainCropped/ISIC_0013197.jpg', './data/TrainCropped/ISIC_0002871.jpg', './data/TrainCropped/ISIC_0014646.jpg', './data/TrainCropped/ISIC_0010358.jpg', './data/TrainCropped/ISIC_0000532.jpg', './data/TrainCropped/ISIC_0000220.jpg', './data/TrainCropped/ISIC_0013969.jpg', './data/TrainCropped/ISIC_0014716.jpg', './data/TrainCropped/ISIC_0012332.jpg', './data/TrainCropped/ISIC_0000368.jpg', './data/TrainCropped/ISIC_0000037.jpg', './data/TrainCropped/ISIC_0013015.jpg', './data/TrainCropped/ISIC_0002780.jpg', './data/TrainCropped/ISIC_0000269.jpg', './data/TrainCropped/ISIC_0010332.jpg', './data/TrainCropped/ISIC_0000153.jpg', './data/TrainCropped/ISIC_0000374.jpg', './data/TrainCropped/ISIC_0012673.jpg', './data/TrainCropped/ISIC_0014642.jpg', './data/TrainCropped/ISIC_0014049.jpg', './data/TrainCropped/ISIC_0010219.jpg', './data/TrainCropped/ISIC_0000327.jpg', './data/TrainCropped/ISIC_0000544.jpg', './data/TrainCropped/ISIC_0000199.jpg', './data/TrainCropped/ISIC_0009969.jpg', './data/TrainCropped/ISIC_0012137.jpg', './data/TrainCropped/ISIC_0012671.jpg', './data/TrainCropped/ISIC_0014570.jpg', './data/TrainCropped/ISIC_0012670.jpg', './data/TrainCropped/ISIC_0010061.jpg', './data/TrainCropped/ISIC_0014913.jpg', './data/TrainCropped/ISIC_0013984.jpg', './data/TrainCropped/ISIC_0012342.jpg', './data/TrainCropped/ISIC_0011322.jpg', './data/TrainCropped/ISIC_0000393.jpg', './data/TrainCropped/ISIC_0011079.jpg', './data/TrainCropped/ISIC_0012932.jpg', './data/TrainCropped/ISIC_0013288.jpg', './data/TrainCropped/ISIC_0014062.jpg', './data/TrainCropped/ISIC_0011130.jpg', './data/TrainCropped/ISIC_0009977.jpg', './data/TrainCropped/ISIC_0011330.jpg', './data/TrainCropped/ISIC_0012233.jpg', './data/TrainCropped/ISIC_0013634.jpg', './data/TrainCropped/ISIC_0010590.jpg', './data/TrainCropped/ISIC_0012413.jpg', './data/TrainCropped/ISIC_0009974.jpg', './data/TrainCropped/ISIC_0000112.jpg', './data/TrainCropped/ISIC_0000003.jpg', './data/TrainCropped/ISIC_0000062.jpg', './data/TrainCropped/ISIC_0000209.jpg', './data/TrainCropped/ISIC_0000123.jpg', './data/TrainCropped/ISIC_0013294.jpg', './data/TrainCropped/ISIC_0000101.jpg', './data/TrainCropped/ISIC_0012523.jpg', './data/TrainCropped/ISIC_0014522.jpg', './data/TrainCropped/ISIC_0000306.jpg', './data/TrainCropped/ISIC_0005555.jpg', './data/TrainCropped/ISIC_0013843.jpg', './data/TrainCropped/ISIC_0006940.jpg', './data/TrainCropped/ISIC_0010318.jpg', './data/TrainCropped/ISIC_0013075.jpg', './data/TrainCropped/ISIC_0011164.jpg', './data/TrainCropped/ISIC_0000154.jpg', './data/TrainCropped/ISIC_0002438.jpg', './data/TrainCropped/ISIC_0012901.jpg', './data/TrainCropped/ISIC_0000100.jpg', './data/TrainCropped/ISIC_0010081.jpg', './data/TrainCropped/ISIC_0000436.jpg', './data/TrainCropped/ISIC_0015166.jpg', './data/TrainCropped/ISIC_0012238.jpg', './data/TrainCropped/ISIC_0013147.jpg', './data/TrainCropped/ISIC_0012833.jpg', './data/TrainCropped/ISIC_0011224.jpg', './data/TrainCropped/ISIC_0010570.jpg', './data/TrainCropped/ISIC_0006114.jpg', './data/TrainCropped/ISIC_0013676.jpg', './data/TrainCropped/ISIC_0014114.jpg', './data/TrainCropped/ISIC_0014072.jpg', './data/TrainCropped/ISIC_0010497.jpg', './data/TrainCropped/ISIC_0012224.jpg', './data/TrainCropped/ISIC_0013798.jpg', './data/TrainCropped/ISIC_0014760.jpg', './data/TrainCropped/ISIC_0010847.jpg', './data/TrainCropped/ISIC_0000345.jpg', './data/TrainCropped/ISIC_0000534.jpg', './data/TrainCropped/ISIC_0010854.jpg', './data/TrainCropped/ISIC_0000518.jpg', './data/TrainCropped/ISIC_0000420.jpg', './data/TrainCropped/ISIC_0010350.jpg', './data/TrainCropped/ISIC_0013554.jpg', './data/TrainCropped/ISIC_0012376.jpg', './data/TrainCropped/ISIC_0014360.jpg', './data/TrainCropped/ISIC_0000054.jpg', './data/TrainCropped/ISIC_0002469.jpg', './data/TrainCropped/ISIC_0012814.jpg', './data/TrainCropped/ISIC_0000359.jpg', './data/TrainCropped/ISIC_0014843.jpg', './data/TrainCropped/ISIC_0003174.jpg', './data/TrainCropped/ISIC_0010585.jpg', './data/TrainCropped/ISIC_0014576.jpg', './data/TrainCropped/ISIC_0013201.jpg', './data/TrainCropped/ISIC_0013150.jpg', './data/TrainCropped/ISIC_0000364.jpg', './data/TrainCropped/ISIC_0009976.jpg', './data/TrainCropped/ISIC_0012324.jpg', './data/TrainCropped/ISIC_0014926.jpg', './data/TrainCropped/ISIC_0012116.jpg', './data/TrainCropped/ISIC_0009964.jpg', './data/TrainCropped/ISIC_0010257.jpg', './data/TrainCropped/ISIC_0011121.jpg', './data/TrainCropped/ISIC_0010032.jpg', './data/TrainCropped/ISIC_0009918.jpg', './data/TrainCropped/ISIC_0013758.jpg', './data/TrainCropped/ISIC_0013007.jpg', './data/TrainCropped/ISIC_0012237.jpg', './data/TrainCropped/ISIC_0011315.jpg', './data/TrainCropped/ISIC_0012322.jpg', './data/TrainCropped/ISIC_0012090.jpg', './data/TrainCropped/ISIC_0009870.jpg', './data/TrainCropped/ISIC_0010476.jpg', './data/TrainCropped/ISIC_0013086.jpg', './data/TrainCropped/ISIC_0000250.jpg', './data/TrainCropped/ISIC_0000444.jpg', './data/TrainCropped/ISIC_0000206.jpg', './data/TrainCropped/ISIC_0009533.jpg', './data/TrainCropped/ISIC_0014661.jpg', './data/TrainCropped/ISIC_0000263.jpg', './data/TrainCropped/ISIC_0000245.jpg', './data/TrainCropped/ISIC_0013160.jpg', './data/TrainCropped/ISIC_0011353.jpg', './data/TrainCropped/ISIC_0013840.jpg', './data/TrainCropped/ISIC_0003728.jpg', './data/TrainCropped/ISIC_0015044.jpg', './data/TrainCropped/ISIC_0014613.jpg', './data/TrainCropped/ISIC_0013371.jpg', './data/TrainCropped/ISIC_0000421.jpg', './data/TrainCropped/ISIC_0000408.jpg', './data/TrainCropped/ISIC_0013342.jpg', './data/TrainCropped/ISIC_0000135.jpg', './data/TrainCropped/ISIC_0006795.jpg', './data/TrainCropped/ISIC_0014846.jpg', './data/TrainCropped/ISIC_0012877.jpg', './data/TrainCropped/ISIC_0013039.jpg', './data/TrainCropped/ISIC_0014598.jpg', './data/TrainCropped/ISIC_0014347.jpg', './data/TrainCropped/ISIC_0009929.jpg', './data/TrainCropped/ISIC_0012661.jpg', './data/TrainCropped/ISIC_0009981.jpg', './data/TrainCropped/ISIC_0011112.jpg', './data/TrainCropped/ISIC_0000348.jpg', './data/TrainCropped/ISIC_0010588.jpg', './data/TrainCropped/ISIC_0010034.jpg', './data/TrainCropped/ISIC_0000495.jpg', './data/TrainCropped/ISIC_0010177.jpg', './data/TrainCropped/ISIC_0009914.jpg', './data/TrainCropped/ISIC_0013935.jpg', './data/TrainCropped/ISIC_0012156.jpg', './data/TrainCropped/ISIC_0000324.jpg', './data/TrainCropped/ISIC_0013606.jpg', './data/TrainCropped/ISIC_0010582.jpg', './data/TrainCropped/ISIC_0000019.jpg', './data/TrainCropped/ISIC_0013526.jpg', './data/TrainCropped/ISIC_0013709.jpg', './data/TrainCropped/ISIC_0009873.jpg', './data/TrainCropped/ISIC_0012653.jpg', './data/TrainCropped/ISIC_0009945.jpg', './data/TrainCropped/ISIC_0001100.jpg', './data/TrainCropped/ISIC_0000361.jpg', './data/TrainCropped/ISIC_0013315.jpg', './data/TrainCropped/ISIC_0000002.jpg', './data/TrainCropped/ISIC_0014081.jpg', './data/TrainCropped/ISIC_0014791.jpg', './data/TrainCropped/ISIC_0013365.jpg', './data/TrainCropped/ISIC_0014131.jpg', './data/TrainCropped/ISIC_0014526.jpg', './data/TrainCropped/ISIC_0014001.jpg', './data/TrainCropped/ISIC_0010063.jpg', './data/TrainCropped/ISIC_0000259.jpg', './data/TrainCropped/ISIC_0014174.jpg', './data/TrainCropped/ISIC_0009956.jpg', './data/TrainCropped/ISIC_0007475.jpg', './data/TrainCropped/ISIC_0011229.jpg', './data/TrainCropped/ISIC_0012696.jpg', './data/TrainCropped/ISIC_0012744.jpg', './data/TrainCropped/ISIC_0012333.jpg', './data/TrainCropped/ISIC_0000468.jpg', './data/TrainCropped/ISIC_0000298.jpg', './data/TrainCropped/ISIC_0012550.jpg', './data/TrainCropped/ISIC_0009874.jpg', './data/TrainCropped/ISIC_0011305.jpg', './data/TrainCropped/ISIC_0002489.jpg', './data/TrainCropped/ISIC_0014845.jpg', './data/TrainCropped/ISIC_0010567.jpg', './data/TrainCropped/ISIC_0014061.jpg', './data/TrainCropped/ISIC_0014763.jpg', './data/TrainCropped/ISIC_0000381.jpg', './data/TrainCropped/ISIC_0002439.jpg', './data/TrainCropped/ISIC_0000103.jpg', './data/TrainCropped/ISIC_0000290.jpg', './data/TrainCropped/ISIC_0014149.jpg', './data/TrainCropped/ISIC_0014433.jpg', './data/TrainCropped/ISIC_0012526.jpg', './data/TrainCropped/ISIC_0010351.jpg', './data/TrainCropped/ISIC_0000022.jpg', './data/TrainCropped/ISIC_0000390.jpg', './data/TrainCropped/ISIC_0013664.jpg', './data/TrainCropped/ISIC_0000262.jpg', './data/TrainCropped/ISIC_0014775.jpg', './data/TrainCropped/ISIC_0012390.jpg', './data/TrainCropped/ISIC_0000081.jpg', './data/TrainCropped/ISIC_0000307.jpg', './data/TrainCropped/ISIC_0010379.jpg', './data/TrainCropped/ISIC_0009946.jpg', './data/TrainCropped/ISIC_0009880.jpg', './data/TrainCropped/ISIC_0012773.jpg', './data/TrainCropped/ISIC_0012217.jpg', './data/TrainCropped/ISIC_0013369.jpg', './data/TrainCropped/ISIC_0000377.jpg', './data/TrainCropped/ISIC_0014802.jpg', './data/TrainCropped/ISIC_0014778.jpg', './data/TrainCropped/ISIC_0013816.jpg', './data/TrainCropped/ISIC_0014903.jpg', './data/TrainCropped/ISIC_0013837.jpg', './data/TrainCropped/ISIC_0010088.jpg', './data/TrainCropped/ISIC_0012268.jpg', './data/TrainCropped/ISIC_0013118.jpg', './data/TrainCropped/ISIC_0009982.jpg', './data/TrainCropped/ISIC_0014855.jpg', './data/TrainCropped/ISIC_0013749.jpg', './data/TrainCropped/ISIC_0010003.jpg', './data/TrainCropped/ISIC_0013219.jpg', './data/TrainCropped/ISIC_0009954.jpg', './data/TrainCropped/ISIC_0009933.jpg', './data/TrainCropped/ISIC_0000357.jpg', './data/TrainCropped/ISIC_0002647.jpg', './data/TrainCropped/ISIC_0012966.jpg', './data/TrainCropped/ISIC_0013208.jpg', './data/TrainCropped/ISIC_0000423.jpg', './data/TrainCropped/ISIC_0009869.jpg', './data/TrainCropped/ISIC_0013675.jpg', './data/TrainCropped/ISIC_0014490.jpg', './data/TrainCropped/ISIC_0013695.jpg', './data/TrainCropped/ISIC_0009920.jpg', './data/TrainCropped/ISIC_0013961.jpg', './data/TrainCropped/ISIC_0011117.jpg', './data/TrainCropped/ISIC_0012506.jpg', './data/TrainCropped/ISIC_0009968.jpg', './data/TrainCropped/ISIC_0009994.jpg', './data/TrainCropped/ISIC_0012749.jpg', './data/TrainCropped/ISIC_0013196.jpg', './data/TrainCropped/ISIC_0014222.jpg', './data/TrainCropped/ISIC_0000524.jpg', './data/TrainCropped/ISIC_0010471.jpg', './data/TrainCropped/ISIC_0013975.jpg', './data/TrainCropped/ISIC_0000171.jpg', './data/TrainCropped/ISIC_0012518.jpg', './data/TrainCropped/ISIC_0000297.jpg', './data/TrainCropped/ISIC_0013713.jpg', './data/TrainCropped/ISIC_0000449.jpg', './data/TrainCropped/ISIC_0013044.jpg', './data/TrainCropped/ISIC_0000077.jpg', './data/TrainCropped/ISIC_0011168.jpg', './data/TrainCropped/ISIC_0013090.jpg', './data/TrainCropped/ISIC_0012700.jpg', './data/TrainCropped/ISIC_0014782.jpg', './data/TrainCropped/ISIC_0011349.jpg', './data/TrainCropped/ISIC_0000439.jpg', './data/TrainCropped/ISIC_0000031.jpg', './data/TrainCropped/ISIC_0009430.jpg', './data/TrainCropped/ISIC_0014632.jpg', './data/TrainCropped/ISIC_0000481.jpg', './data/TrainCropped/ISIC_0013213.jpg', './data/TrainCropped/ISIC_0013523.jpg', './data/TrainCropped/ISIC_0013980.jpg', './data/TrainCropped/ISIC_0000012.jpg', './data/TrainCropped/ISIC_0013229.jpg', './data/TrainCropped/ISIC_0012459.jpg', './data/TrainCropped/ISIC_0009906.jpg', './data/TrainCropped/ISIC_0010222.jpg', './data/TrainCropped/ISIC_0000212.jpg', './data/TrainCropped/ISIC_0010573.jpg', './data/TrainCropped/ISIC_0013224.jpg', './data/TrainCropped/ISIC_0013326.jpg', './data/TrainCropped/ISIC_0006800.jpg', './data/TrainCropped/ISIC_0014754.jpg', './data/TrainCropped/ISIC_0011333.jpg', './data/TrainCropped/ISIC_0013862.jpg', './data/TrainCropped/ISIC_0014848.jpg', './data/TrainCropped/ISIC_0014640.jpg', './data/TrainCropped/ISIC_0000547.jpg', './data/TrainCropped/ISIC_0000475.jpg', './data/TrainCropped/ISIC_0013804.jpg', './data/TrainCropped/ISIC_0012325.jpg', './data/TrainCropped/ISIC_0013181.jpg', './data/TrainCropped/ISIC_0009881.jpg', './data/TrainCropped/ISIC_0000251.jpg', './data/TrainCropped/ISIC_0010006.jpg', './data/TrainCropped/ISIC_0013918.jpg', './data/TrainCropped/ISIC_0010557.jpg', './data/TrainCropped/ISIC_0014636.jpg', './data/TrainCropped/ISIC_0011306.jpg', './data/TrainCropped/ISIC_0010227.jpg', './data/TrainCropped/ISIC_0000024.jpg', './data/TrainCropped/ISIC_0012699.jpg', './data/TrainCropped/ISIC_0010552.jpg', './data/TrainCropped/ISIC_0008256.jpg', './data/TrainCropped/ISIC_0012177.jpg', './data/TrainCropped/ISIC_0010592.jpg', './data/TrainCropped/ISIC_0013257.jpg', './data/TrainCropped/ISIC_0012318.jpg', './data/TrainCropped/ISIC_0014394.jpg', './data/TrainCropped/ISIC_0002975.jpg', './data/TrainCropped/ISIC_0000157.jpg', './data/TrainCropped/ISIC_0000386.jpg', './data/TrainCropped/ISIC_0013879.jpg', './data/TrainCropped/ISIC_0013220.jpg', './data/TrainCropped/ISIC_0013516.jpg', './data/TrainCropped/ISIC_0000369.jpg', './data/TrainCropped/ISIC_0013055.jpg', './data/TrainCropped/ISIC_0000139.jpg', './data/TrainCropped/ISIC_0013417.jpg', './data/TrainCropped/ISIC_0006350.jpg', './data/TrainCropped/ISIC_0014013.jpg', './data/TrainCropped/ISIC_0000426.jpg', './data/TrainCropped/ISIC_0012290.jpg', './data/TrainCropped/ISIC_0000546.jpg', './data/TrainCropped/ISIC_0000465.jpg', './data/TrainCropped/ISIC_0009930.jpg', './data/TrainCropped/ISIC_0013165.jpg', './data/TrainCropped/ISIC_0014079.jpg', './data/TrainCropped/ISIC_0008145.jpg', './data/TrainCropped/ISIC_0013740.jpg', './data/TrainCropped/ISIC_0014891.jpg', './data/TrainCropped/ISIC_0013585.jpg', './data/TrainCropped/ISIC_0002488.jpg', './data/TrainCropped/ISIC_0013341.jpg', './data/TrainCropped/ISIC_0014682.jpg', './data/TrainCropped/ISIC_0009504.jpg', './data/TrainCropped/ISIC_0002806.jpg', './data/TrainCropped/ISIC_0008552.jpg', './data/TrainCropped/ISIC_0012179.jpg', './data/TrainCropped/ISIC_0013874.jpg', './data/TrainCropped/ISIC_0012107.jpg', './data/TrainCropped/ISIC_0000501.jpg', './data/TrainCropped/ISIC_0013192.jpg', './data/TrainCropped/ISIC_0013390.jpg', './data/TrainCropped/ISIC_0012549.jpg', './data/TrainCropped/ISIC_0000056.jpg', './data/TrainCropped/ISIC_0013835.jpg', './data/TrainCropped/ISIC_0008406.jpg', './data/TrainCropped/ISIC_0008541.jpg', './data/TrainCropped/ISIC_0014851.jpg', './data/TrainCropped/ISIC_0000122.jpg', './data/TrainCropped/ISIC_0013807.jpg', './data/TrainCropped/ISIC_0010568.jpg', './data/TrainCropped/ISIC_0014609.jpg', './data/TrainCropped/ISIC_0013970.jpg', './data/TrainCropped/ISIC_0014578.jpg', './data/TrainCropped/ISIC_0000196.jpg', './data/TrainCropped/ISIC_0000511.jpg', './data/TrainCropped/ISIC_0010575.jpg', './data/TrainCropped/ISIC_0002885.jpg', './data/TrainCropped/ISIC_0010168.jpg', './data/TrainCropped/ISIC_0013805.jpg', './data/TrainCropped/ISIC_0000188.jpg', './data/TrainCropped/ISIC_0000363.jpg', './data/TrainCropped/ISIC_0004346.jpg', './data/TrainCropped/ISIC_0008029.jpg', './data/TrainCropped/ISIC_0010246.jpg', './data/TrainCropped/ISIC_0000052.jpg', './data/TrainCropped/ISIC_0000434.jpg', './data/TrainCropped/ISIC_0009936.jpg', './data/TrainCropped/ISIC_0010598.jpg', './data/TrainCropped/ISIC_0000162.jpg', './data/TrainCropped/ISIC_0010080.jpg', './data/TrainCropped/ISIC_0000448.jpg', './data/TrainCropped/ISIC_0000046.jpg', './data/TrainCropped/ISIC_0009860.jpg', './data/TrainCropped/ISIC_0014238.jpg', './data/TrainCropped/ISIC_0012253.jpg', './data/TrainCropped/ISIC_0012495.jpg', './data/TrainCropped/ISIC_0010028.jpg', './data/TrainCropped/ISIC_0012676.jpg', './data/TrainCropped/ISIC_0011328.jpg', './data/TrainCropped/ISIC_0012363.jpg', './data/TrainCropped/ISIC_0011137.jpg', './data/TrainCropped/ISIC_0005787.jpg', './data/TrainCropped/ISIC_0013311.jpg', './data/TrainCropped/ISIC_0000328.jpg', './data/TrainCropped/ISIC_0014762.jpg', './data/TrainCropped/ISIC_0000068.jpg', './data/TrainCropped/ISIC_0000185.jpg', './data/TrainCropped/ISIC_0010047.jpg', './data/TrainCropped/ISIC_0015168.jpg', './data/TrainCropped/ISIC_0012351.jpg', './data/TrainCropped/ISIC_0009897.jpg', './data/TrainCropped/ISIC_0010186.jpg', './data/TrainCropped/ISIC_0010170.jpg', './data/TrainCropped/ISIC_0000523.jpg', './data/TrainCropped/ISIC_0013680.jpg', './data/TrainCropped/ISIC_0013742.jpg', './data/TrainCropped/ISIC_0014823.jpg', './data/TrainCropped/ISIC_0014797.jpg', './data/TrainCropped/ISIC_0000204.jpg', './data/TrainCropped/ISIC_0011127.jpg', './data/TrainCropped/ISIC_0010187.jpg', './data/TrainCropped/ISIC_0012945.jpg', './data/TrainCropped/ISIC_0014290.jpg', './data/TrainCropped/ISIC_0012517.jpg', './data/TrainCropped/ISIC_0000493.jpg', './data/TrainCropped/ISIC_0012475.jpg', './data/TrainCropped/ISIC_0010850.jpg', './data/TrainCropped/ISIC_0000556.jpg', './data/TrainCropped/ISIC_0014189.jpg', './data/TrainCropped/ISIC_0000111.jpg', './data/TrainCropped/ISIC_0008998.jpg', './data/TrainCropped/ISIC_0013238.jpg', './data/TrainCropped/ISIC_0013568.jpg', './data/TrainCropped/ISIC_0012503.jpg', './data/TrainCropped/ISIC_0012999.jpg', './data/TrainCropped/ISIC_0015204.jpg', './data/TrainCropped/ISIC_0013275.jpg', './data/TrainCropped/ISIC_0014547.jpg', './data/TrainCropped/ISIC_0010247.jpg', './data/TrainCropped/ISIC_0014806.jpg', './data/TrainCropped/ISIC_0013112.jpg', './data/TrainCropped/ISIC_0015190.jpg', './data/TrainCropped/ISIC_0014248.jpg', './data/TrainCropped/ISIC_0010435.jpg', './data/TrainCropped/ISIC_0005548.jpg', './data/TrainCropped/ISIC_0014473.jpg', './data/TrainCropped/ISIC_0012950.jpg', './data/TrainCropped/ISIC_0010018.jpg', './data/TrainCropped/ISIC_0000131.jpg', './data/TrainCropped/ISIC_0011097.jpg', './data/TrainCropped/ISIC_0000355.jpg', './data/TrainCropped/ISIC_0014518.jpg', './data/TrainCropped/ISIC_0012453.jpg', './data/TrainCropped/ISIC_0000303.jpg', './data/TrainCropped/ISIC_0014603.jpg', './data/TrainCropped/ISIC_0013114.jpg', './data/TrainCropped/ISIC_0000092.jpg', './data/TrainCropped/ISIC_0012374.jpg', './data/TrainCropped/ISIC_0012209.jpg', './data/TrainCropped/ISIC_0000252.jpg', './data/TrainCropped/ISIC_0000208.jpg', './data/TrainCropped/ISIC_0010858.jpg', './data/TrainCropped/ISIC_0013088.jpg', './data/TrainCropped/ISIC_0000167.jpg', './data/TrainCropped/ISIC_0011321.jpg', './data/TrainCropped/ISIC_0009941.jpg', './data/TrainCropped/ISIC_0000341.jpg', './data/TrainCropped/ISIC_0012680.jpg', './data/TrainCropped/ISIC_0014696.jpg', './data/TrainCropped/ISIC_0000471.jpg', './data/TrainCropped/ISIC_0010460.jpg', './data/TrainCropped/ISIC_0014890.jpg', './data/TrainCropped/ISIC_0000484.jpg', './data/TrainCropped/ISIC_0013134.jpg', './data/TrainCropped/ISIC_0009899.jpg', './data/TrainCropped/ISIC_0000193.jpg', './data/TrainCropped/ISIC_0014066.jpg', './data/TrainCropped/ISIC_0005000.jpg', './data/TrainCropped/ISIC_0000315.jpg', './data/TrainCropped/ISIC_0000159.jpg', './data/TrainCropped/ISIC_0013244.jpg', './data/TrainCropped/ISIC_0014803.jpg', './data/TrainCropped/ISIC_0013033.jpg', './data/TrainCropped/ISIC_0010025.jpg', './data/TrainCropped/ISIC_0007760.jpg', './data/TrainCropped/ISIC_0014197.jpg', './data/TrainCropped/ISIC_0014169.jpg', './data/TrainCropped/ISIC_0012811.jpg', './data/TrainCropped/ISIC_0002251.jpg', './data/TrainCropped/ISIC_0000372.jpg', './data/TrainCropped/ISIC_0000543.jpg', './data/TrainCropped/ISIC_0013706.jpg', './data/TrainCropped/ISIC_0000053.jpg', './data/TrainCropped/ISIC_0000264.jpg', './data/TrainCropped/ISIC_0001142.jpg', './data/TrainCropped/ISIC_0014286.jpg', './data/TrainCropped/ISIC_0012788.jpg', './data/TrainCropped/ISIC_0000433.jpg', './data/TrainCropped/ISIC_0000378.jpg', './data/TrainCropped/ISIC_0000548.jpg', './data/TrainCropped/ISIC_0013682.jpg', './data/TrainCropped/ISIC_0013674.jpg', './data/TrainCropped/ISIC_0007038.jpg', './data/TrainCropped/ISIC_0012303.jpg', './data/TrainCropped/ISIC_0010340.jpg', './data/TrainCropped/ISIC_0014311.jpg', './data/TrainCropped/ISIC_0013258.jpg', './data/TrainCropped/ISIC_0010463.jpg', './data/TrainCropped/ISIC_0004166.jpg', './data/TrainCropped/ISIC_0012203.jpg', './data/TrainCropped/ISIC_0013397.jpg', './data/TrainCropped/ISIC_0000531.jpg', './data/TrainCropped/ISIC_0013972.jpg', './data/TrainCropped/ISIC_0012793.jpg', './data/TrainCropped/ISIC_0013330.jpg', './data/TrainCropped/ISIC_0000119.jpg', './data/TrainCropped/ISIC_0013621.jpg', './data/TrainCropped/ISIC_0013806.jpg', './data/TrainCropped/ISIC_0014183.jpg', './data/TrainCropped/ISIC_0009931.jpg', './data/TrainCropped/ISIC_0013762.jpg', './data/TrainCropped/ISIC_0010046.jpg', './data/TrainCropped/ISIC_0000042.jpg', './data/TrainCropped/ISIC_0000542.jpg', './data/TrainCropped/ISIC_0013775.jpg', './data/TrainCropped/ISIC_0000017.jpg', './data/TrainCropped/ISIC_0012452.jpg', './data/TrainCropped/ISIC_0013559.jpg', './data/TrainCropped/ISIC_0010069.jpg', './data/TrainCropped/ISIC_0011131.jpg', './data/TrainCropped/ISIC_0012702.jpg', './data/TrainCropped/ISIC_0000342.jpg', './data/TrainCropped/ISIC_0008347.jpg', './data/TrainCropped/ISIC_0000383.jpg', './data/TrainCropped/ISIC_0014771.jpg', './data/TrainCropped/ISIC_0013187.jpg', './data/TrainCropped/ISIC_0000397.jpg', './data/TrainCropped/ISIC_0013958.jpg', './data/TrainCropped/ISIC_0002374.jpg', './data/TrainCropped/ISIC_0010087.jpg', './data/TrainCropped/ISIC_0000147.jpg', './data/TrainCropped/ISIC_0014080.jpg', './data/TrainCropped/ISIC_0010040.jpg', './data/TrainCropped/ISIC_0013333.jpg', './data/TrainCropped/ISIC_0013494.jpg', './data/TrainCropped/ISIC_0010365.jpg', './data/TrainCropped/ISIC_0013222.jpg', './data/TrainCropped/ISIC_0000143.jpg', './data/TrainCropped/ISIC_0013124.jpg', './data/TrainCropped/ISIC_0000203.jpg', './data/TrainCropped/ISIC_0014337.jpg', './data/TrainCropped/ISIC_0012981.jpg', './data/TrainCropped/ISIC_0013248.jpg', './data/TrainCropped/ISIC_0012339.jpg', './data/TrainCropped/ISIC_0012227.jpg', './data/TrainCropped/ISIC_0013597.jpg', './data/TrainCropped/ISIC_0000055.jpg', './data/TrainCropped/ISIC_0012826.jpg', './data/TrainCropped/ISIC_0000510.jpg', './data/TrainCropped/ISIC_0012460.jpg', './data/TrainCropped/ISIC_0000108.jpg', './data/TrainCropped/ISIC_0013458.jpg', './data/TrainCropped/ISIC_0010587.jpg', './data/TrainCropped/ISIC_0010487.jpg', './data/TrainCropped/ISIC_0012739.jpg', './data/TrainCropped/ISIC_0010566.jpg', './data/TrainCropped/ISIC_0000540.jpg', './data/TrainCropped/ISIC_0014397.jpg', './data/TrainCropped/ISIC_0012527.jpg', './data/TrainCropped/ISIC_0013434.jpg', './data/TrainCropped/ISIC_0010443.jpg', './data/TrainCropped/ISIC_0000379.jpg', './data/TrainCropped/ISIC_0000555.jpg', './data/TrainCropped/ISIC_0009921.jpg', './data/TrainCropped/ISIC_0000278.jpg', './data/TrainCropped/ISIC_0000520.jpg', './data/TrainCropped/ISIC_0011384.jpg', './data/TrainCropped/ISIC_0010051.jpg', './data/TrainCropped/ISIC_0000232.jpg', './data/TrainCropped/ISIC_0014353.jpg', './data/TrainCropped/ISIC_0015233.jpg', './data/TrainCropped/ISIC_0012888.jpg', './data/TrainCropped/ISIC_0010216.jpg', './data/TrainCropped/ISIC_0013643.jpg', './data/TrainCropped/ISIC_0010853.jpg', './data/TrainCropped/ISIC_0013052.jpg', './data/TrainCropped/ISIC_0014432.jpg', './data/TrainCropped/ISIC_0010492.jpg', './data/TrainCropped/ISIC_0012681.jpg', './data/TrainCropped/ISIC_0013193.jpg', './data/TrainCropped/ISIC_0014185.jpg', './data/TrainCropped/ISIC_0014793.jpg', './data/TrainCropped/ISIC_0012213.jpg', './data/TrainCropped/ISIC_0012827.jpg', './data/TrainCropped/ISIC_0000074.jpg', './data/TrainCropped/ISIC_0000517.jpg', './data/TrainCropped/ISIC_0000533.jpg', './data/TrainCropped/ISIC_0010372.jpg', './data/TrainCropped/ISIC_0002453.jpg', './data/TrainCropped/ISIC_0012187.jpg', './data/TrainCropped/ISIC_0010229.jpg', './data/TrainCropped/ISIC_0010193.jpg', './data/TrainCropped/ISIC_0012481.jpg', './data/TrainCropped/ISIC_0012690.jpg', './data/TrainCropped/ISIC_0014074.jpg', './data/TrainCropped/ISIC_0000344.jpg', './data/TrainCropped/ISIC_0012844.jpg', './data/TrainCropped/ISIC_0012544.jpg', './data/TrainCropped/ISIC_0009868.jpg', './data/TrainCropped/ISIC_0013172.jpg', './data/TrainCropped/ISIC_0010348.jpg', './data/TrainCropped/ISIC_0000246.jpg', './data/TrainCropped/ISIC_0001131.jpg', './data/TrainCropped/ISIC_0011143.jpg', './data/TrainCropped/ISIC_0013725.jpg', './data/TrainCropped/ISIC_0014430.jpg', './data/TrainCropped/ISIC_0000051.jpg', './data/TrainCropped/ISIC_0000338.jpg', './data/TrainCropped/ISIC_0013430.jpg', './data/TrainCropped/ISIC_0014617.jpg', './data/TrainCropped/ISIC_0013836.jpg', './data/TrainCropped/ISIC_0013493.jpg', './data/TrainCropped/ISIC_0002093.jpg', './data/TrainCropped/ISIC_0010077.jpg', './data/TrainCropped/ISIC_0000205.jpg', './data/TrainCropped/ISIC_0012182.jpg', './data/TrainCropped/ISIC_0008116.jpg', './data/TrainCropped/ISIC_0014951.jpg', './data/TrainCropped/ISIC_0011343.jpg', './data/TrainCropped/ISIC_0011199.jpg', './data/TrainCropped/ISIC_0014144.jpg', './data/TrainCropped/ISIC_0012285.jpg', './data/TrainCropped/ISIC_0000116.jpg', './data/TrainCropped/ISIC_0006612.jpg', './data/TrainCropped/ISIC_0010011.jpg', './data/TrainCropped/ISIC_0012998.jpg', './data/TrainCropped/ISIC_0010078.jpg', './data/TrainCropped/ISIC_0012787.jpg', './data/TrainCropped/ISIC_0008626.jpg', './data/TrainCropped/ISIC_0013997.jpg', './data/TrainCropped/ISIC_0011214.jpg', './data/TrainCropped/ISIC_0013274.jpg', './data/TrainCropped/ISIC_0012713.jpg', './data/TrainCropped/ISIC_0013817.jpg', './data/TrainCropped/ISIC_0014987.jpg', './data/TrainCropped/ISIC_0000276.jpg', './data/TrainCropped/ISIC_0011167.jpg', './data/TrainCropped/ISIC_0013249.jpg', './data/TrainCropped/ISIC_0010207.jpg', './data/TrainCropped/ISIC_0012742.jpg', './data/TrainCropped/ISIC_0000412.jpg', './data/TrainCropped/ISIC_0012284.jpg', './data/TrainCropped/ISIC_0013217.jpg', './data/TrainCropped/ISIC_0014625.jpg', './data/TrainCropped/ISIC_0014805.jpg', './data/TrainCropped/ISIC_0015182.jpg', './data/TrainCropped/ISIC_0012905.jpg', './data/TrainCropped/ISIC_0013639.jpg', './data/TrainCropped/ISIC_0012701.jpg', './data/TrainCropped/ISIC_0000371.jpg', './data/TrainCropped/ISIC_0014788.jpg', './data/TrainCropped/ISIC_0013427.jpg', './data/TrainCropped/ISIC_0000214.jpg', './data/TrainCropped/ISIC_0011126.jpg', './data/TrainCropped/ISIC_0013053.jpg', './data/TrainCropped/ISIC_0013782.jpg', './data/TrainCropped/ISIC_0012094.jpg', './data/TrainCropped/ISIC_0013712.jpg', './data/TrainCropped/ISIC_0013830.jpg', './data/TrainCropped/ISIC_0013173.jpg', './data/TrainCropped/ISIC_0000483.jpg', './data/TrainCropped/ISIC_0014331.jpg', './data/TrainCropped/ISIC_0012658.jpg', './data/TrainCropped/ISIC_0010554.jpg', './data/TrainCropped/ISIC_0013359.jpg', './data/TrainCropped/ISIC_0015045.jpg', './data/TrainCropped/ISIC_0008294.jpg', './data/TrainCropped/ISIC_0008403.jpg', './data/TrainCropped/ISIC_0000107.jpg', './data/TrainCropped/ISIC_0010251.jpg', './data/TrainCropped/ISIC_0012102.jpg', './data/TrainCropped/ISIC_0000093.jpg', './data/TrainCropped/ISIC_0012873.jpg', './data/TrainCropped/ISIC_0010233.jpg', './data/TrainCropped/ISIC_0010182.jpg', './data/TrainCropped/ISIC_0013089.jpg', './data/TrainCropped/ISIC_0000255.jpg', './data/TrainCropped/ISIC_0014516.jpg', './data/TrainCropped/ISIC_0005666.jpg', './data/TrainCropped/ISIC_0014818.jpg', './data/TrainCropped/ISIC_0011208.jpg', './data/TrainCropped/ISIC_0008659.jpg', './data/TrainCropped/ISIC_0009884.jpg', './data/TrainCropped/ISIC_0012878.jpg', './data/TrainCropped/ISIC_0000150.jpg', './data/TrainCropped/ISIC_0011402.jpg', './data/TrainCropped/ISIC_0010362.jpg', './data/TrainCropped/ISIC_0014630.jpg', './data/TrainCropped/ISIC_0014264.jpg', './data/TrainCropped/ISIC_0000225.jpg', './data/TrainCropped/ISIC_0009898.jpg', './data/TrainCropped/ISIC_0000161.jpg', './data/TrainCropped/ISIC_0013946.jpg', './data/TrainCropped/ISIC_0000498.jpg', './data/TrainCropped/ISIC_0000545.jpg', './data/TrainCropped/ISIC_0009882.jpg', './data/TrainCropped/ISIC_0004309.jpg', './data/TrainCropped/ISIC_0010240.jpg', './data/TrainCropped/ISIC_0013573.jpg', './data/TrainCropped/ISIC_0000500.jpg', './data/TrainCropped/ISIC_0012271.jpg', './data/TrainCropped/ISIC_0013488.jpg', './data/TrainCropped/ISIC_0000314.jpg', './data/TrainCropped/ISIC_0014685.jpg', './data/TrainCropped/ISIC_0012828.jpg', './data/TrainCropped/ISIC_0014316.jpg', './data/TrainCropped/ISIC_0014498.jpg', './data/TrainCropped/ISIC_0012379.jpg', './data/TrainCropped/ISIC_0010320.jpg', './data/TrainCropped/ISIC_0012382.jpg', './data/TrainCropped/ISIC_0014441.jpg', './data/TrainCropped/ISIC_0009943.jpg', './data/TrainCropped/ISIC_0013927.jpg', './data/TrainCropped/ISIC_0012391.jpg', './data/TrainCropped/ISIC_0009872.jpg', './data/TrainCropped/ISIC_0013707.jpg', './data/TrainCropped/ISIC_0013024.jpg', './data/TrainCropped/ISIC_0000113.jpg', './data/TrainCropped/ISIC_0013346.jpg', './data/TrainCropped/ISIC_0000343.jpg', './data/TrainCropped/ISIC_0000089.jpg', './data/TrainCropped/ISIC_0013635.jpg', './data/TrainCropped/ISIC_0015082.jpg', './data/TrainCropped/ISIC_0013316.jpg', './data/TrainCropped/ISIC_0000050.jpg', './data/TrainCropped/ISIC_0001134.jpg', './data/TrainCropped/ISIC_0013922.jpg', './data/TrainCropped/ISIC_0014832.jpg', './data/TrainCropped/ISIC_0000004.jpg', './data/TrainCropped/ISIC_0014785.jpg', './data/TrainCropped/ISIC_0015112.jpg', './data/TrainCropped/ISIC_0013596.jpg', './data/TrainCropped/ISIC_0014395.jpg', './data/TrainCropped/ISIC_0013140.jpg', './data/TrainCropped/ISIC_0010192.jpg', './data/TrainCropped/ISIC_0013688.jpg', './data/TrainCropped/ISIC_0014808.jpg', './data/TrainCropped/ISIC_0000095.jpg', './data/TrainCropped/ISIC_0014073.jpg', './data/TrainCropped/ISIC_0003346.jpg', './data/TrainCropped/ISIC_0014866.jpg', './data/TrainCropped/ISIC_0000384.jpg', './data/TrainCropped/ISIC_0010357.jpg', './data/TrainCropped/ISIC_0013965.jpg', './data/TrainCropped/ISIC_0011101.jpg', './data/TrainCropped/ISIC_0000331.jpg', './data/TrainCropped/ISIC_0000285.jpg', './data/TrainCropped/ISIC_0013797.jpg', './data/TrainCropped/ISIC_0010607.jpg', './data/TrainCropped/ISIC_0000109.jpg', './data/TrainCropped/ISIC_0014529.jpg', './data/TrainCropped/ISIC_0012678.jpg', './data/TrainCropped/ISIC_0012856.jpg', './data/TrainCropped/ISIC_0014654.jpg', './data/TrainCropped/ISIC_0013092.jpg', './data/TrainCropped/ISIC_0012665.jpg', './data/TrainCropped/ISIC_0000340.jpg', './data/TrainCropped/ISIC_0010029.jpg', './data/TrainCropped/ISIC_0013000.jpg', './data/TrainCropped/ISIC_0015038.jpg', './data/TrainCropped/ISIC_0014438.jpg', './data/TrainCropped/ISIC_0012298.jpg', './data/TrainCropped/ISIC_0000233.jpg', './data/TrainCropped/ISIC_0000410.jpg', './data/TrainCropped/ISIC_0000360.jpg', './data/TrainCropped/ISIC_0013403.jpg', './data/TrainCropped/ISIC_0012105.jpg', './data/TrainCropped/ISIC_0012682.jpg', './data/TrainCropped/ISIC_0000494.jpg', './data/TrainCropped/ISIC_0000008.jpg', './data/TrainCropped/ISIC_0000529.jpg', './data/TrainCropped/ISIC_0010466.jpg', './data/TrainCropped/ISIC_0011207.jpg', './data/TrainCropped/ISIC_0000274.jpg', './data/TrainCropped/ISIC_0000431.jpg', './data/TrainCropped/ISIC_0012737.jpg', './data/TrainCropped/ISIC_0000479.jpg', './data/TrainCropped/ISIC_0009975.jpg', './data/TrainCropped/ISIC_0014082.jpg', './data/TrainCropped/ISIC_0015220.jpg', './data/TrainCropped/ISIC_0009889.jpg', './data/TrainCropped/ISIC_0000380.jpg', './data/TrainCropped/ISIC_0010334.jpg', './data/TrainCropped/ISIC_0000514.jpg', './data/TrainCropped/ISIC_0007087.jpg', './data/TrainCropped/ISIC_0000325.jpg', './data/TrainCropped/ISIC_0014723.jpg', './data/TrainCropped/ISIC_0000043.jpg', './data/TrainCropped/ISIC_0013839.jpg', './data/TrainCropped/ISIC_0011085.jpg', './data/TrainCropped/ISIC_0012520.jpg', './data/TrainCropped/ISIC_0010180.jpg', './data/TrainCropped/ISIC_0012489.jpg', './data/TrainCropped/ISIC_0000302.jpg', './data/TrainCropped/ISIC_0014602.jpg', './data/TrainCropped/ISIC_0014299.jpg', './data/TrainCropped/ISIC_0012282.jpg', './data/TrainCropped/ISIC_0011176.jpg', './data/TrainCropped/ISIC_0012970.jpg', './data/TrainCropped/ISIC_0009939.jpg', './data/TrainCropped/ISIC_0013014.jpg', './data/TrainCropped/ISIC_0011102.jpg', './data/TrainCropped/ISIC_0000038.jpg', './data/TrainCropped/ISIC_0014120.jpg', './data/TrainCropped/ISIC_0013370.jpg', './data/TrainCropped/ISIC_0000096.jpg', './data/TrainCropped/ISIC_0013748.jpg', './data/TrainCropped/ISIC_0012880.jpg', './data/TrainCropped/ISIC_0000226.jpg', './data/TrainCropped/ISIC_0010036.jpg', './data/TrainCropped/ISIC_0008879.jpg', './data/TrainCropped/ISIC_0012659.jpg', './data/TrainCropped/ISIC_0012735.jpg', './data/TrainCropped/ISIC_0013120.jpg', './data/TrainCropped/ISIC_0015005.jpg', './data/TrainCropped/ISIC_0014187.jpg', './data/TrainCropped/ISIC_0010067.jpg', './data/TrainCropped/ISIC_0013802.jpg', './data/TrainCropped/ISIC_0000045.jpg', './data/TrainCropped/ISIC_0000442.jpg', './data/TrainCropped/ISIC_0001133.jpg', './data/TrainCropped/ISIC_0014486.jpg', './data/TrainCropped/ISIC_0000219.jpg', './data/TrainCropped/ISIC_0015113.jpg', './data/TrainCropped/ISIC_0000508.jpg', './data/TrainCropped/ISIC_0014045.jpg', './data/TrainCropped/ISIC_0010215.jpg', './data/TrainCropped/ISIC_0014606.jpg', './data/TrainCropped/ISIC_0013803.jpg', './data/TrainCropped/ISIC_0012521.jpg', './data/TrainCropped/ISIC_0000080.jpg', './data/TrainCropped/ISIC_0010341.jpg', './data/TrainCropped/ISIC_0012740.jpg', './data/TrainCropped/ISIC_0013167.jpg', './data/TrainCropped/ISIC_0014599.jpg', './data/TrainCropped/ISIC_0011171.jpg', './data/TrainCropped/ISIC_0011098.jpg', './data/TrainCropped/ISIC_0011083.jpg', './data/TrainCropped/ISIC_0000138.jpg', './data/TrainCropped/ISIC_0009888.jpg', './data/TrainCropped/ISIC_0013012.jpg', './data/TrainCropped/ISIC_0011303.jpg', './data/TrainCropped/ISIC_0012969.jpg', './data/TrainCropped/ISIC_0010851.jpg', './data/TrainCropped/ISIC_0000503.jpg', './data/TrainCropped/ISIC_0012664.jpg', './data/TrainCropped/ISIC_0014735.jpg', './data/TrainCropped/ISIC_0013190.jpg', './data/TrainCropped/ISIC_0010599.jpg', './data/TrainCropped/ISIC_0003308.jpg', './data/TrainCropped/ISIC_0000427.jpg', './data/TrainCropped/ISIC_0014136.jpg', './data/TrainCropped/ISIC_0010856.jpg', './data/TrainCropped/ISIC_0010584.jpg', './data/TrainCropped/ISIC_0000525.jpg', './data/TrainCropped/ISIC_0012835.jpg', './data/TrainCropped/ISIC_0012851.jpg', './data/TrainCropped/ISIC_0000385.jpg', './data/TrainCropped/ISIC_0014621.jpg', './data/TrainCropped/ISIC_0014094.jpg', './data/TrainCropped/ISIC_0000067.jpg', './data/TrainCropped/ISIC_0009896.jpg', './data/TrainCropped/ISIC_0013080.jpg', './data/TrainCropped/ISIC_0009344.jpg', './data/TrainCropped/ISIC_0000235.jpg', './data/TrainCropped/ISIC_0013360.jpg', './data/TrainCropped/ISIC_0012334.jpg', './data/TrainCropped/ISIC_0014044.jpg', './data/TrainCropped/ISIC_0010053.jpg', './data/TrainCropped/ISIC_0011300.jpg', './data/TrainCropped/ISIC_0010342.jpg', './data/TrainCropped/ISIC_0012175.jpg', './data/TrainCropped/ISIC_0011327.jpg', './data/TrainCropped/ISIC_0014365.jpg', './data/TrainCropped/ISIC_0011220.jpg', './data/TrainCropped/ISIC_0013579.jpg', './data/TrainCropped/ISIC_0013689.jpg', './data/TrainCropped/ISIC_0011324.jpg', './data/TrainCropped/ISIC_0013595.jpg', './data/TrainCropped/ISIC_0013071.jpg', './data/TrainCropped/ISIC_0010086.jpg', './data/TrainCropped/ISIC_0010191.jpg', './data/TrainCropped/ISIC_0009885.jpg', './data/TrainCropped/ISIC_0010602.jpg', './data/TrainCropped/ISIC_0014730.jpg', './data/TrainCropped/ISIC_0014592.jpg', './data/TrainCropped/ISIC_0010480.jpg', './data/TrainCropped/ISIC_0014699.jpg', './data/TrainCropped/ISIC_0012683.jpg', './data/TrainCropped/ISIC_0011297.jpg', './data/TrainCropped/ISIC_0010474.jpg', './data/TrainCropped/ISIC_0010447.jpg', './data/TrainCropped/ISIC_0008236.jpg', './data/TrainCropped/ISIC_0014274.jpg', './data/TrainCropped/ISIC_0013048.jpg', './data/TrainCropped/ISIC_0014922.jpg', './data/TrainCropped/ISIC_0000023.jpg', './data/TrainCropped/ISIC_0000152.jpg', './data/TrainCropped/ISIC_0012309.jpg', './data/TrainCropped/ISIC_0000149.jpg', './data/TrainCropped/ISIC_0000032.jpg', './data/TrainCropped/ISIC_0010339.jpg', './data/TrainCropped/ISIC_0012173.jpg', './data/TrainCropped/ISIC_0014804.jpg', './data/TrainCropped/ISIC_0009875.jpg', './data/TrainCropped/ISIC_0000275.jpg', './data/TrainCropped/ISIC_0014195.jpg', './data/TrainCropped/ISIC_0000118.jpg', './data/TrainCropped/ISIC_0009958.jpg', './data/TrainCropped/ISIC_0000469.jpg', './data/TrainCropped/ISIC_0000202.jpg', './data/TrainCropped/ISIC_0012478.jpg', './data/TrainCropped/ISIC_0010058.jpg', './data/TrainCropped/ISIC_0014812.jpg']\n",
            "There are 2000 Train images\n"
          ]
        }
      ],
      "source": [
        "pathTrain=glob.glob(path + \"TrainCropped/*.jpg\")\n",
        "print(pathTrain)\n",
        "idTrain=np.copy(pathTrain)\n",
        "if IN_COLAB:\n",
        "    for i in np.arange(len(idTrain)): idTrain[i]=idTrain[i][20:-4]\n",
        "else:\n",
        "    for i in np.arange(len(idTrain)): idTrain[i]=idTrain[i][13:-4]\n",
        "#print(idTrain)\n",
        "print('There are', len(idTrain), 'Train images')"
      ]
    },
    {
      "cell_type": "code",
      "execution_count": 5,
      "metadata": {
        "id": "XKnL44cKqEl3",
        "colab": {
          "base_uri": "https://localhost:8080/"
        },
        "outputId": "9dcb123d-c373-415f-e9f9-be15245865e3"
      },
      "outputs": [
        {
          "output_type": "stream",
          "name": "stdout",
          "text": [
            "There are 150 Validation images\n"
          ]
        }
      ],
      "source": [
        "pathVal=glob.glob(path + \"ValCropped/*.jpg\")\n",
        "idVal=np.copy(pathVal)\n",
        "if IN_COLAB:\n",
        "    for i in np.arange(len(idVal)): idVal[i]=idVal[i][18:-4]\n",
        "else:\n",
        "    for i in np.arange(len(idVal)): idVal[i]=idVal[i][11:-4]\n",
        "#print(idVal)\n",
        "print('There are', len(idVal) , 'Validation images')"
      ]
    },
    {
      "cell_type": "code",
      "execution_count": 6,
      "metadata": {
        "id": "ZJLmMYRgpQFk",
        "colab": {
          "base_uri": "https://localhost:8080/"
        },
        "outputId": "75707b37-628b-48a7-e676-8bdeb4f606e8"
      },
      "outputs": [
        {
          "output_type": "stream",
          "name": "stdout",
          "text": [
            "There are 600 Test images\n"
          ]
        }
      ],
      "source": [
        "pathTest=glob.glob(path + \"TestCropped/*.jpg\")\n",
        "idTest=np.copy(pathTest)\n",
        "if IN_COLAB:\n",
        "    for i in np.arange(len(idTest)): idTest[i]=idTest[i][19:-4]\n",
        "else:\n",
        "    for i in np.arange(len(idTest)): idTest[i]=idTest[i][12:-4]\n",
        "#print(idTest)\n",
        "print('There are', len(idTest) , 'Test images')"
      ]
    },
    {
      "cell_type": "markdown",
      "source": [
        "We can then plot an image with the related mask and contour."
      ],
      "metadata": {
        "id": "ft-ExOfl3jmJ"
      }
    },
    {
      "cell_type": "code",
      "execution_count": 7,
      "metadata": {
        "id": "rP4EOguOqLkK",
        "colab": {
          "base_uri": "https://localhost:8080/",
          "height": 350
        },
        "outputId": "e1af4f06-2f32-42b9-8535-6ffc61ade4a1"
      },
      "outputs": [
        {
          "output_type": "execute_result",
          "data": {
            "text/plain": [
              "Text(0.5, 1.0, 'Image with mask')"
            ]
          },
          "metadata": {},
          "execution_count": 7
        },
        {
          "output_type": "display_data",
          "data": {
            "text/plain": [
              "<Figure size 1200x1200 with 6 Axes>"
            ],
            "image/png": "[encoded data removed]"
          },
          "metadata": {}
        }
      ],
      "source": [
        "name_im = idTrain[10]\n",
        "filename = path + 'TrainCropped/{}.jpg'.format(name_im)\n",
        "image = imread(filename)\n",
        "filename_Segmentation = path + 'TrainCropped/{}seg.png'.format(name_im)\n",
        "image_Segmentation = imread(filename_Segmentation) # Value 0 or 255\n",
        "image_Segmentation_boolean = (image_Segmentation/255).astype(np.uint8) # To get uint16\n",
        "image_Segmentation_expand = np.expand_dims(image_Segmentation_boolean, axis=2)\n",
        "image_mul_mask = (image_Segmentation_expand*image)\n",
        "contours = cv2.findContours(image_Segmentation_boolean, cv2.RETR_EXTERNAL,cv2.CHAIN_APPROX_NONE)\n",
        "contour = list(contours[0])\n",
        "contour = np.squeeze(np.asarray(contour))\n",
        "\n",
        "fig = plt.figure(figsize=(12, 12))\n",
        "grid = AxesGrid(fig, 111,\n",
        "                nrows_ncols = (1, 3),\n",
        "                axes_pad = 0.5)\n",
        "grid[0].imshow(image)\n",
        "grid[0].scatter(contour[:,0],contour[:,1])\n",
        "#grid[0].axis('off')\n",
        "grid[0].set_title(\"Original image\")\n",
        "grid[1].imshow(image_Segmentation_boolean)\n",
        "#grid[1].axis('off')\n",
        "grid[1].set_title(\"Mask\")\n",
        "grid[2].imshow(image_mul_mask)\n",
        "#grid[2].axis('off')\n",
        "grid[2].set_title(\"Image with mask\")"
      ]
    },
    {
      "cell_type": "markdown",
      "metadata": {
        "id": "ZlsgMiwcgIQ0"
      },
      "source": [
        "##Manual Feature Engineering\n",
        "\n",
        "In this part, you will have to manually compute features relevant to the skin lesion classification. You can, for instance, implement the features described in [1] or in other papers.\n",
        "\n",
        "**TODO**: Implement at least 10 features belonging to at least 3 classes of the ABCD rule, namely:\n",
        "- Asymmetry\n",
        "- Border\n",
        "- Color (and Texture)\n",
        "- Dimension (and Geometry)\n",
        "\n",
        "**Please note the overall time (reading papers + implementation + computation) for computing the features. You will need it in the next part of the practical session.**\n",
        "\n",
        "**This part counts for half of the grade of this TP**\n",
        "\n",
        "[1] M. Zortea et al. \"Performance of a dermoscopy-based computer vision system for the diagnosis of pigmented skin lesions compared with visual evaluation by experienced dermatologists\". Artificial Intelligence in Medicine. 2014"
      ]
    },
    {
      "cell_type": "code",
      "source": [
        "import numpy as np\n",
        "from skimage import color, io, exposure\n",
        "\n",
        "# 3 colour features\n",
        "def colors_full_lesion(image):\n",
        "  # Converting RGB to CIE L*a*b* color space\n",
        "  lab_image = color.rgb2lab(image)\n",
        "  L, a, b = lab_image[:, :, 0], lab_image[:, :, 1], lab_image[:, :, 2]\n",
        "\n",
        "  # Random selection of 10000 pixels\n",
        "  random_indices = np.random.choice(L.size, 10000, replace=False)\n",
        "  sampled_L = L.flatten()[random_indices]\n",
        "  sampled_a = a.flatten()[random_indices]\n",
        "  sampled_b = b.flatten()[random_indices]\n",
        "\n",
        "  # 3D histogram with provided ([1]) bin size and ranges\n",
        "  hist, edges = np.histogramdd((sampled_L, sampled_a, sampled_b), bins = 2, range=((0, 100), (-127, 127), (-127, 127)))\n",
        "\n",
        "  # considering non-empty bins for score computation\n",
        "  non_empty_bins = hist > 0\n",
        "  non_empty_bin_count = np.sum(non_empty_bins)\n",
        "\n",
        "  if non_empty_bin_count > 0:\n",
        "      f1 = np.sum(hist[non_empty_bins]) / non_empty_bin_count\n",
        "      f2 = np.var(hist[non_empty_bins])\n",
        "  else:\n",
        "      f1, f2 = 0, 0\n",
        "  # Feature: Percentage of non-empty bins in the color space\n",
        "  f3 = non_empty_bin_count / np.prod(hist.shape)\n",
        "\n",
        "  return f1, f2, f3"
      ],
      "metadata": {
        "id": "Uf7vB0zpta6c"
      },
      "execution_count": 8,
      "outputs": []
    },
    {
      "cell_type": "code",
      "source": [
        "def colors_peripheral_versus_central(image, segmentation_mask):\n",
        "\n",
        "    contours, _ = cv2.findContours(segmentation_mask, cv2.RETR_EXTERNAL, cv2.CHAIN_APPROX_SIMPLE)\n",
        "    contour = max(contours, key=cv2.contourArea)\n",
        "\n",
        "    # Initializing the internal border\n",
        "    internal_border = contour.copy()\n",
        "\n",
        "    # Iteratively shrinking the internal border\n",
        "    for _ in range(10):  # The number of iterations can be adjusted\n",
        "        internal_border = cv2.approxPolyDP(internal_border, 0.95, True)\n",
        "\n",
        "\n",
        "    # Creating binary masks for  inner and outer regions\n",
        "    inner_mask = np.zeros_like(segmentation_mask)\n",
        "    outer_mask = np.zeros_like(segmentation_mask)\n",
        "\n",
        "    cv2.drawContours(inner_mask, [internal_border], -1, 1, thickness=cv2.FILLED)\n",
        "    outer_mask = segmentation_mask - inner_mask\n",
        "\n",
        "    # Extracting pixel values from inner and outer regions\n",
        "    inner_pixels = image[inner_mask == 1]\n",
        "    outer_pixels = image[outer_mask == 1]\n",
        "\n",
        "    # Calculating mean values for L, a, b channels\n",
        "    if inner_pixels.size > 0:\n",
        "      inner_mean = np.mean(inner_pixels, axis=0)\n",
        "    else:\n",
        "      inner_mean = [0, 0, 0]\n",
        "\n",
        "    if outer_pixels.size > 0:\n",
        "      outer_mean = np.mean(outer_pixels, axis=0)\n",
        "    else:\n",
        "      outer_mean = [0, 0, 0]\n",
        "\n",
        "    color_features = outer_mean - inner_mean\n",
        "\n",
        "    return color_features"
      ],
      "metadata": {
        "id": "c0MG2E01adVX"
      },
      "execution_count": 9,
      "outputs": []
    },
    {
      "cell_type": "code",
      "source": [
        "from skimage import morphology\n",
        "\n",
        "# 3 geometric features\n",
        "def geometric_features(image):\n",
        "  gray_image = color.rgb2gray(image)\n",
        "  percentiles = [25, 50, 75]\n",
        "  threshold_values = np.percentile(gray_image, percentiles)\n",
        "\n",
        "  features = []\n",
        "  # Applying morphological opening with a disk element of radius 5 pixels\n",
        "  disk_element = morphology.disk(5)\n",
        "\n",
        "  for threshold in threshold_values:\n",
        "      # Thresholding the gray-scale image\n",
        "      binary_mask = gray_image > threshold\n",
        "      # Applying morphological opening\n",
        "      opened_mask = morphology.binary_opening(binary_mask, footprint = disk_element)\n",
        "      # Finding connected components to count the number of pieces\n",
        "      _, labeled_mask = cv2.connectedComponents(np.uint8(opened_mask))\n",
        "      # Counting the number of pieces (excluding background)\n",
        "      num_pieces = np.max(labeled_mask)\n",
        "      features.append(num_pieces)\n",
        "\n",
        "  return features[0], features[1], features[2]"
      ],
      "metadata": {
        "id": "v1DiVZ425eHp"
      },
      "execution_count": 10,
      "outputs": []
    },
    {
      "cell_type": "code",
      "source": [
        "# Compactness (1 Border feature)\n",
        "def calculate_compactness(binary_mask):\n",
        "    contours, _ = cv2.findContours(binary_mask, cv2.RETR_EXTERNAL, cv2.CHAIN_APPROX_SIMPLE)\n",
        "    contour = max(contours, key=cv2.contourArea)\n",
        "\n",
        "    perimeter = cv2.arcLength(contour, True)\n",
        "    area = cv2.contourArea(contour)\n",
        "\n",
        "    compactness = (perimeter ** 2) / (4 * np.pi * area)\n",
        "\n",
        "    return compactness"
      ],
      "metadata": {
        "id": "WTCcimUJ78iF"
      },
      "execution_count": 11,
      "outputs": []
    },
    {
      "cell_type": "markdown",
      "source": [
        "Features extracted:\n",
        "\n",
        "1. Based on colour\n",
        "- [3 features] colors_full_lesion(image)\n",
        "- [3 features] colors_peripheral_versus_central(image, segmentation_mask)\n",
        "\n",
        "2. Based on geometry\n",
        "- [3 features] geometric_features(image)\n",
        "\n",
        "3. Based on border\n",
        "- [1 feature] compactness(segmentation_mask)"
      ],
      "metadata": {
        "id": "h8f796VhOQuy"
      }
    },
    {
      "cell_type": "code",
      "source": [
        "from tqdm.notebook import tqdm\n",
        "import time\n",
        "\n",
        "def compute_features(dataset, split):\n",
        "  start_time = time.time()\n",
        "  features = []\n",
        "\n",
        "  for i in tqdm(range(0, len(dataset))):\n",
        "      name_im = dataset[i]\n",
        "      filename = path + f'{split}Cropped/{name_im}.jpg'\n",
        "      image = imread(filename)\n",
        "      filename_Segmentation = path + f'{split}Cropped/{name_im}seg.png'\n",
        "      image_Segmentation_mask = imread(filename_Segmentation) # Value 0 or 255\n",
        "      binary_mask = (image_Segmentation_mask/255).astype(np.uint8)\n",
        "\n",
        "      f1, f2, f3 = colors_full_lesion(image)\n",
        "      f4, f5, f6 = colors_peripheral_versus_central(image, binary_mask)\n",
        "      f7, f8, f9 = geometric_features(image)\n",
        "      f10 = calculate_compactness(binary_mask)\n",
        "\n",
        "      img_feature = [f1, f2, f3, f4, f5, f6, f7, f8, f9, f10]\n",
        "\n",
        "      features.append(img_feature)\n",
        "\n",
        "  end_time = time.time()\n",
        "  print(f\"Time taken: {end_time - start_time:.6f} seconds\")\n",
        "\n",
        "  return np.array(features)"
      ],
      "metadata": {
        "id": "IseaM4MEKu1Y"
      },
      "execution_count": 12,
      "outputs": []
    },
    {
      "cell_type": "code",
      "source": [
        "X_train = compute_features(idTrain, \"Train\")"
      ],
      "metadata": {
        "colab": {
          "base_uri": "https://localhost:8080/",
          "height": 66,
          "referenced_widgets": [
            "c8e41c55069a47109ca61dca2fef228f",
            "f9245cf60e9343eb87053d7e845f8d81",
            "b13c945ced1b4dc3a6cda52ac45c7de3",
            "74df659987224270a79785d54bdac276",
            "bdc8f1978ce94ea782caf24bfec49565",
            "27375186d0a0482791688058c25a56b4",
            "09c7f9a5749f4273a93b5f071cb536d7",
            "3d7c0ad98a594a02a2faefd04a7ce2e8",
            "e7087c2bfe15495991e988c5ca4f88e3",
            "8664ab8531934fe798d416b5acc41cd2",
            "ebb9f53423e8438686e2f44aa81bdb9f"
          ]
        },
        "id": "TN5iL3RPSqJS",
        "outputId": "b399c482-13fa-4fde-823d-63638a0a1af3"
      },
      "execution_count": 13,
      "outputs": [
        {
          "output_type": "display_data",
          "data": {
            "text/plain": [
              "  0%|          | 0/2000 [00:00<?, ?it/s]"
            ],
            "application/vnd.jupyter.widget-view+json": {
              "version_major": 2,
              "version_minor": 0,
              "model_id": "c8e41c55069a47109ca61dca2fef228f"
            }
          },
          "metadata": {}
        },
        {
          "output_type": "stream",
          "name": "stdout",
          "text": [
            "Time taken: 147.375450 seconds\n"
          ]
        }
      ]
    },
    {
      "cell_type": "code",
      "source": [
        "X_val = compute_features(idVal, \"Val\")"
      ],
      "metadata": {
        "colab": {
          "base_uri": "https://localhost:8080/",
          "height": 66,
          "referenced_widgets": [
            "c0bb6c5923614c5b92d4d65572d66325",
            "00bed2aa73b74912b60ae3a5ff93fbfa",
            "5a6d7a8a2f384ac5aaad48bceb940eb1",
            "9dbfb26993714a9c8e08646d0cbf07fc",
            "2efa4cd5dd974b9f83e7753217b1b7c1",
            "f932bd82344145e388f5428707fad20e",
            "20067be13b5b4d81b9174646169bd746",
            "20144040ef074924843eb190c71e76bf",
            "9d9ca7e8000d4f1d992fc182ecb3a418",
            "be9b607d3cc14f169cf0b369743c0ffb",
            "7a287b1a568d4bf488f63c6191e2dd84"
          ]
        },
        "id": "082N9olNQj7P",
        "outputId": "54c43e23-1755-46a5-9ef0-2d43634df422"
      },
      "execution_count": 14,
      "outputs": [
        {
          "output_type": "display_data",
          "data": {
            "text/plain": [
              "  0%|          | 0/150 [00:00<?, ?it/s]"
            ],
            "application/vnd.jupyter.widget-view+json": {
              "version_major": 2,
              "version_minor": 0,
              "model_id": "c0bb6c5923614c5b92d4d65572d66325"
            }
          },
          "metadata": {}
        },
        {
          "output_type": "stream",
          "name": "stdout",
          "text": [
            "Time taken: 7.535338 seconds\n"
          ]
        }
      ]
    },
    {
      "cell_type": "code",
      "source": [
        "X_test = compute_features(idTest, \"Test\")"
      ],
      "metadata": {
        "colab": {
          "base_uri": "https://localhost:8080/",
          "height": 66,
          "referenced_widgets": [
            "511840c6a8904a2d9d15ea699cb413d0",
            "81a6eb15bd6a4a97b400611bcadb324a",
            "beb173651864491daed6d9f9c03143a4",
            "a1b824ddfa554d43917fe3f6506a33ba",
            "597111a34c054999b3867fd4ced6f9e2",
            "5cfb8e2c3de049fc9d86f03c942b7632",
            "c14f6098b94c4a0db9f9e764ba75a6cb",
            "6fcddce297ac4dad8b6650b52800a242",
            "555f59c8260147d485da33479f8cf64c",
            "dae20ccb033e4f85b59984555bf73de0",
            "499bc4cc60ce473bb2c3b27b121c14f9"
          ]
        },
        "id": "vm5-H_LyRu-s",
        "outputId": "8b8378c2-b76b-4ce5-a0be-5621b301ff24"
      },
      "execution_count": 15,
      "outputs": [
        {
          "output_type": "display_data",
          "data": {
            "text/plain": [
              "  0%|          | 0/600 [00:00<?, ?it/s]"
            ],
            "application/vnd.jupyter.widget-view+json": {
              "version_major": 2,
              "version_minor": 0,
              "model_id": "511840c6a8904a2d9d15ea699cb413d0"
            }
          },
          "metadata": {}
        },
        {
          "output_type": "stream",
          "name": "stdout",
          "text": [
            "Time taken: 29.136035 seconds\n"
          ]
        }
      ]
    },
    {
      "cell_type": "code",
      "source": [
        "X_train.shape, X_val.shape, X_test.shape"
      ],
      "metadata": {
        "colab": {
          "base_uri": "https://localhost:8080/"
        },
        "id": "afwz7Wc0eOmF",
        "outputId": "009608b4-2f85-495e-f7a7-a4e71e716b19"
      },
      "execution_count": 16,
      "outputs": [
        {
          "output_type": "execute_result",
          "data": {
            "text/plain": [
              "((2000, 10), (150, 10), (600, 10))"
            ]
          },
          "metadata": {},
          "execution_count": 16
        }
      ]
    },
    {
      "cell_type": "markdown",
      "source": [
        "## Loading Metadata and Target values\n",
        "\n",
        "You have at your disposal also two metadata, the age and the sex. If you want, you can use them as features in the classification but be careful ! There are missing values\n",
        "\n",
        "We also load the target values (0 for benign and 1 for melanoma)"
      ],
      "metadata": {
        "id": "ngOYRqe9h-N1"
      }
    },
    {
      "cell_type": "code",
      "execution_count": 17,
      "metadata": {
        "id": "X3qeLjuB9F84",
        "colab": {
          "base_uri": "https://localhost:8080/"
        },
        "outputId": "7243739b-3eae-43b2-8bbb-8526a0bc42b6"
      },
      "outputs": [
        {
          "output_type": "stream",
          "name": "stdout",
          "text": [
            "       image_id age_approximate     sex\n",
            "0  ISIC_0000000              55  female\n",
            "1  ISIC_0000001              30  female\n",
            "2  ISIC_0000002              60  female\n",
            "3  ISIC_0000003              30    male\n",
            "4  ISIC_0000004              80    male\n",
            "5  ISIC_0000006              25  female\n",
            "6  ISIC_0000007              25  female\n",
            "7  ISIC_0000008              30  female\n",
            "8  ISIC_0000009              30  female\n",
            "9  ISIC_0000010              35  female\n"
          ]
        }
      ],
      "source": [
        "Metatrain = pd.read_csv('./data/TrainCropped/ISIC-2017_Training_Data_metadata.csv')\n",
        "print(Metatrain.head(10))\n",
        "Groundtrain = pd.read_csv('./data/TrainCropped/ISIC-2017_Training_Part3_GroundTruth.csv')"
      ]
    },
    {
      "cell_type": "code",
      "execution_count": 18,
      "metadata": {
        "id": "rqB5ZLXeyo3q"
      },
      "outputs": [],
      "source": [
        "Ytrain=np.zeros(len(idTrain))\n",
        "for i in range(len(idTrain)):\n",
        "  name=idTrain[i]\n",
        "  index=Groundtrain[\"image_id\"].str.find(name)\n",
        "  max_index = index.argmax()\n",
        "  Ytrain[i]=int(Groundtrain[\"melanoma\"][max_index])"
      ]
    },
    {
      "cell_type": "code",
      "execution_count": 19,
      "metadata": {
        "id": "crTO9h5x5Fla"
      },
      "outputs": [],
      "source": [
        "Metaval = pd.read_csv('./data/ValCropped/ISIC-2017_Validation_Data_metadata.csv')\n",
        "Groundval = pd.read_csv('./data/ValCropped/ISIC-2017_Validation_Part3_GroundTruth.csv')"
      ]
    },
    {
      "cell_type": "code",
      "execution_count": 20,
      "metadata": {
        "id": "D7QFUNEtys_L"
      },
      "outputs": [],
      "source": [
        "Yval=np.zeros(len(idVal))\n",
        "for i in range(len(idVal)):\n",
        "  name=idVal[i]\n",
        "  index=Groundval[\"image_id\"].str.find(name)\n",
        "  max_index = index.argmax()\n",
        "  Yval[i]=int(Groundval[\"melanoma\"][max_index])"
      ]
    },
    {
      "cell_type": "code",
      "execution_count": 21,
      "metadata": {
        "id": "bgSzrYNS5dnH"
      },
      "outputs": [],
      "source": [
        "Metatest = pd.read_csv('./data/TestCropped/ISIC-2017_Test_v2_Data_metadata.csv')\n",
        "Groundtest = pd.read_csv('./data/TestCropped/ISIC-2017_Test_v2_Part3_GroundTruth.csv')"
      ]
    },
    {
      "cell_type": "code",
      "execution_count": 22,
      "metadata": {
        "id": "yZjgOfVqytE_"
      },
      "outputs": [],
      "source": [
        "Ytest=np.zeros(len(idTest))\n",
        "for i in range(len(idTest)):\n",
        "  name=idTest[i]\n",
        "  index=Groundtest[\"image_id\"].str.find(name)\n",
        "  max_index = index.argmax()\n",
        "  Ytest[i]=int(Groundtest[\"melanoma\"][max_index])"
      ]
    },
    {
      "cell_type": "code",
      "source": [
        "print(X_train.shape, X_val.shape, X_test.shape)\n",
        "print(Ytrain.shape, Yval.shape, Ytest.shape)"
      ],
      "metadata": {
        "colab": {
          "base_uri": "https://localhost:8080/"
        },
        "id": "4FTxGQ_Me878",
        "outputId": "ddae26f6-db6a-4c96-9760-64e9f2037880"
      },
      "execution_count": 23,
      "outputs": [
        {
          "output_type": "stream",
          "name": "stdout",
          "text": [
            "(2000, 10) (150, 10) (600, 10)\n",
            "(2000,) (150,) (600,)\n"
          ]
        }
      ]
    },
    {
      "cell_type": "markdown",
      "source": [
        "## Standard Machine Learning Prediction\n",
        "\n",
        "In this part, you will use standard ML algorithms (such as logistic regression, SVM and Random Forests) on the features you previously computed.\n",
        "Before starting, you should look at the data and check the proportion of classes.\n",
        "Two hints:\n",
        "- in sklearn you can use *class_weight='balanced'* when calling a ML method\n",
        "- it exists a very interesting library called *imblearn* (e.g., from imblearn.over_sampling import ADASYN)"
      ],
      "metadata": {
        "id": "d91VC-_9hxxH"
      }
    },
    {
      "cell_type": "code",
      "execution_count": 26,
      "metadata": {
        "id": "wsUmL5Le5dFH"
      },
      "outputs": [],
      "source": [
        "np.random.seed(seed = 666)\n",
        "from sklearn.ensemble import RandomForestClassifier\n",
        "from sklearn.svm import SVC, LinearSVC\n",
        "from sklearn.linear_model import LogisticRegression\n",
        "from sklearn.preprocessing import StandardScaler\n",
        "from sklearn.decomposition import PCA\n",
        "from sklearn.metrics import classification_report\n",
        "from sklearn.metrics import confusion_matrix"
      ]
    },
    {
      "cell_type": "markdown",
      "source": [
        "**Pre-trained features**: for the next part, you can either use your own features or download a pre-computed set of features."
      ],
      "metadata": {
        "id": "ntKGzKoTyelN"
      }
    },
    {
      "cell_type": "markdown",
      "source": [
        "### On manually extracted features"
      ],
      "metadata": {
        "id": "6S_Mvnt8NE57"
      }
    },
    {
      "cell_type": "code",
      "source": [
        "from sklearn.utils.class_weight import compute_class_weight\n",
        "from sklearn.model_selection import GridSearchCV\n",
        "from sklearn.metrics import make_scorer, f1_score, accuracy_score, roc_auc_score"
      ],
      "metadata": {
        "id": "i00-CXf4NKeA"
      },
      "execution_count": 27,
      "outputs": []
    },
    {
      "cell_type": "code",
      "source": [
        "class_weights = compute_class_weight('balanced', classes=np.unique(Ytrain), y=Ytrain)\n",
        "class_weights"
      ],
      "metadata": {
        "colab": {
          "base_uri": "https://localhost:8080/"
        },
        "id": "WYdgaV27fUAs",
        "outputId": "b2b88937-e3db-48b7-f25c-d257104e7b69"
      },
      "execution_count": 28,
      "outputs": [
        {
          "output_type": "execute_result",
          "data": {
            "text/plain": [
              "array([0.61500615, 2.67379679])"
            ]
          },
          "metadata": {},
          "execution_count": 28
        }
      ]
    },
    {
      "cell_type": "code",
      "source": [
        "scaler = StandardScaler()\n",
        "X_train_scaled = scaler.fit_transform(X_train)\n",
        "X_val_scaled = scaler.transform(X_val)\n",
        "X_test_scaled = scaler.transform(X_test)"
      ],
      "metadata": {
        "id": "aNN9gid4NKqG"
      },
      "execution_count": 29,
      "outputs": []
    },
    {
      "cell_type": "markdown",
      "source": [
        "### Logistic Regression"
      ],
      "metadata": {
        "id": "-kupUWymlrb-"
      }
    },
    {
      "cell_type": "code",
      "source": [
        "LR_model = LogisticRegression(class_weight = {0: class_weights[0], 1: class_weights[1]},\n",
        "                              max_iter = 1000,\n",
        "                              n_jobs = -1,\n",
        "                              random_state = 666)\n",
        "\n"
      ],
      "metadata": {
        "id": "gThmzyIiNKzW"
      },
      "execution_count": 30,
      "outputs": []
    },
    {
      "cell_type": "code",
      "source": [
        "LR_model = LogisticRegression(class_weight = {0: class_weights[0], 1: class_weights[1]},\n",
        "                              max_iter = 1000,\n",
        "                              n_jobs = -1,\n",
        "                              random_state = 666)\n",
        "\n",
        "param_grid = {'C': [0.001, 0.01, 0.1, 1, 10, 100, 1000]}\n",
        "scorer = make_scorer(f1_score) #scoring metric\n",
        "\n",
        "grid_search = GridSearchCV(LR_model, param_grid, scoring=scorer, cv=5, verbose = 3)\n",
        "grid_search.fit(X_train_scaled, Ytrain)\n",
        "\n",
        "print(\"Best Hyperparameters:\", grid_search.best_params_)\n",
        "best_LR_model = grid_search.best_estimator_"
      ],
      "metadata": {
        "id": "wYhQdpFcNLDP",
        "colab": {
          "base_uri": "https://localhost:8080/"
        },
        "outputId": "3cfd2fa6-3913-46db-d469-af62dab62c3d"
      },
      "execution_count": 31,
      "outputs": [
        {
          "output_type": "stream",
          "name": "stdout",
          "text": [
            "Fitting 5 folds for each of 7 candidates, totalling 35 fits\n",
            "[CV 1/5] END ...........................C=0.001;, score=0.323 total time=   1.2s\n",
            "[CV 2/5] END ...........................C=0.001;, score=0.322 total time=   0.5s\n",
            "[CV 3/5] END ...........................C=0.001;, score=0.344 total time=   0.0s\n",
            "[CV 4/5] END ...........................C=0.001;, score=0.391 total time=   0.0s\n",
            "[CV 5/5] END ...........................C=0.001;, score=0.275 total time=   0.0s\n",
            "[CV 1/5] END ............................C=0.01;, score=0.353 total time=   0.0s\n",
            "[CV 2/5] END ............................C=0.01;, score=0.313 total time=   0.0s\n",
            "[CV 3/5] END ............................C=0.01;, score=0.353 total time=   0.0s\n",
            "[CV 4/5] END ............................C=0.01;, score=0.390 total time=   0.0s\n",
            "[CV 5/5] END ............................C=0.01;, score=0.252 total time=   0.0s\n",
            "[CV 1/5] END .............................C=0.1;, score=0.355 total time=   0.0s\n",
            "[CV 2/5] END .............................C=0.1;, score=0.328 total time=   0.0s\n",
            "[CV 3/5] END .............................C=0.1;, score=0.358 total time=   0.0s\n",
            "[CV 4/5] END .............................C=0.1;, score=0.367 total time=   0.0s\n",
            "[CV 5/5] END .............................C=0.1;, score=0.288 total time=   0.0s\n",
            "[CV 1/5] END ...............................C=1;, score=0.355 total time=   0.0s\n",
            "[CV 2/5] END ...............................C=1;, score=0.339 total time=   0.0s\n",
            "[CV 3/5] END ...............................C=1;, score=0.356 total time=   0.0s\n",
            "[CV 4/5] END ...............................C=1;, score=0.329 total time=   0.0s\n",
            "[CV 5/5] END ...............................C=1;, score=0.263 total time=   0.0s\n",
            "[CV 1/5] END ..............................C=10;, score=0.332 total time=   0.0s\n",
            "[CV 2/5] END ..............................C=10;, score=0.341 total time=   0.0s\n",
            "[CV 3/5] END ..............................C=10;, score=0.360 total time=   0.0s\n",
            "[CV 4/5] END ..............................C=10;, score=0.332 total time=   0.0s\n",
            "[CV 5/5] END ..............................C=10;, score=0.279 total time=   0.0s\n",
            "[CV 1/5] END .............................C=100;, score=0.322 total time=   0.0s\n",
            "[CV 2/5] END .............................C=100;, score=0.333 total time=   0.0s\n",
            "[CV 3/5] END .............................C=100;, score=0.360 total time=   0.0s\n",
            "[CV 4/5] END .............................C=100;, score=0.323 total time=   0.0s\n",
            "[CV 5/5] END .............................C=100;, score=0.277 total time=   0.0s\n",
            "[CV 1/5] END ............................C=1000;, score=0.322 total time=   0.0s\n",
            "[CV 2/5] END ............................C=1000;, score=0.333 total time=   0.0s\n",
            "[CV 3/5] END ............................C=1000;, score=0.360 total time=   0.0s\n",
            "[CV 4/5] END ............................C=1000;, score=0.323 total time=   0.0s\n",
            "[CV 5/5] END ............................C=1000;, score=0.277 total time=   0.0s\n",
            "Best Hyperparameters: {'C': 0.1}\n"
          ]
        }
      ]
    },
    {
      "cell_type": "code",
      "source": [
        "predictions_val = best_LR_model.predict(X_val_scaled)\n",
        "\n",
        "print(\"\\nTest Set Metrics:\")\n",
        "print(\"Confusion Matrix:\")\n",
        "print(confusion_matrix(Yval, predictions_val))\n",
        "print(\"\\nClassification Report:\")\n",
        "print(classification_report(Yval, predictions_val))\n",
        "print(\"Accuracy:\", accuracy_score(Yval, predictions_val))\n",
        "print(\"F1 Score:\", f1_score(Yval, predictions_val))\n",
        "print(\"AUC Score:\", roc_auc_score(Yval, best_LR_model.predict_proba(X_val_scaled)[:, 1]))"
      ],
      "metadata": {
        "colab": {
          "base_uri": "https://localhost:8080/"
        },
        "id": "0_kc0RTUklcN",
        "outputId": "6290b1bc-3daf-4da4-ca84-7ecb6120fc4a"
      },
      "execution_count": 32,
      "outputs": [
        {
          "output_type": "stream",
          "name": "stdout",
          "text": [
            "\n",
            "Test Set Metrics:\n",
            "Confusion Matrix:\n",
            "[[85 35]\n",
            " [11 19]]\n",
            "\n",
            "Classification Report:\n",
            "              precision    recall  f1-score   support\n",
            "\n",
            "         0.0       0.89      0.71      0.79       120\n",
            "         1.0       0.35      0.63      0.45        30\n",
            "\n",
            "    accuracy                           0.69       150\n",
            "   macro avg       0.62      0.67      0.62       150\n",
            "weighted avg       0.78      0.69      0.72       150\n",
            "\n",
            "Accuracy: 0.6933333333333334\n",
            "F1 Score: 0.4523809523809524\n",
            "AUC Score: 0.6208333333333333\n"
          ]
        }
      ]
    },
    {
      "cell_type": "code",
      "source": [
        "predictions_test = best_LR_model.predict(X_test_scaled)\n",
        "\n",
        "print(\"\\nTest Set Metrics:\")\n",
        "print(\"Confusion Matrix:\")\n",
        "print(confusion_matrix(Ytest, predictions_test))\n",
        "print(\"\\nClassification Report:\")\n",
        "print(classification_report(Ytest, predictions_test))\n",
        "print(\"Accuracy:\", accuracy_score(Ytest, predictions_test))\n",
        "print(\"F1 Score:\", f1_score(Ytest, predictions_test))\n",
        "print(\"AUC Score:\", roc_auc_score(Ytest, best_LR_model.predict_proba(X_test_scaled)[:, 1]))"
      ],
      "metadata": {
        "colab": {
          "base_uri": "https://localhost:8080/"
        },
        "id": "umBV9dpfpaD0",
        "outputId": "9d9fe9d4-8efc-4e90-8c30-0bad00fc4558"
      },
      "execution_count": 33,
      "outputs": [
        {
          "output_type": "stream",
          "name": "stdout",
          "text": [
            "\n",
            "Test Set Metrics:\n",
            "Confusion Matrix:\n",
            "[[159 324]\n",
            " [ 37  80]]\n",
            "\n",
            "Classification Report:\n",
            "              precision    recall  f1-score   support\n",
            "\n",
            "         0.0       0.81      0.33      0.47       483\n",
            "         1.0       0.20      0.68      0.31       117\n",
            "\n",
            "    accuracy                           0.40       600\n",
            "   macro avg       0.50      0.51      0.39       600\n",
            "weighted avg       0.69      0.40      0.44       600\n",
            "\n",
            "Accuracy: 0.3983333333333333\n",
            "F1 Score: 0.3071017274472169\n",
            "AUC Score: 0.5112809895418591\n"
          ]
        }
      ]
    },
    {
      "cell_type": "markdown",
      "source": [
        "### SVM"
      ],
      "metadata": {
        "id": "9w4uvdRllwn1"
      }
    },
    {
      "cell_type": "code",
      "source": [
        "svm = SVC(class_weight = {0: class_weights[0], 1: class_weights[1]},\n",
        "          C = 0.1, degree = 2, gamma = 'auto', kernel = 'poly', probability=True)\n",
        "\n",
        "\n",
        "svm.fit(X_train_scaled, Ytrain)"
      ],
      "metadata": {
        "colab": {
          "base_uri": "https://localhost:8080/",
          "height": 91
        },
        "id": "iu80IdP8gJZ2",
        "outputId": "63efe9a5-3beb-4082-a2e6-701a723e3e7b"
      },
      "execution_count": 34,
      "outputs": [
        {
          "output_type": "execute_result",
          "data": {
            "text/plain": [
              "SVC(C=0.1, class_weight={0: 0.6150061500615006, 1: 2.6737967914438503},\n",
              "    degree=2, gamma='auto', kernel='poly', probability=True)"
            ],
            "text/html": [
              "<style>#sk-container-id-1 {color: black;background-color: white;}#sk-container-id-1 pre{padding: 0;}#sk-container-id-1 div.sk-toggleable {background-color: white;}#sk-container-id-1 label.sk-toggleable__label {cursor: pointer;display: block;width: 100%;margin-bottom: 0;padding: 0.3em;box-sizing: border-box;text-align: center;}#sk-container-id-1 label.sk-toggleable__label-arrow:before {content: \"▸\";float: left;margin-right: 0.25em;color: #696969;}#sk-container-id-1 label.sk-toggleable__label-arrow:hover:before {color: black;}#sk-container-id-1 div.sk-estimator:hover label.sk-toggleable__label-arrow:before {color: black;}#sk-container-id-1 div.sk-toggleable__content {max-height: 0;max-width: 0;overflow: hidden;text-align: left;background-color: #f0f8ff;}#sk-container-id-1 div.sk-toggleable__content pre {margin: 0.2em;color: black;border-radius: 0.25em;background-color: #f0f8ff;}#sk-container-id-1 input.sk-toggleable__control:checked~div.sk-toggleable__content {max-height: 200px;max-width: 100%;overflow: auto;}#sk-container-id-1 input.sk-toggleable__control:checked~label.sk-toggleable__label-arrow:before {content: \"▾\";}#sk-container-id-1 div.sk-estimator input.sk-toggleable__control:checked~label.sk-toggleable__label {background-color: #d4ebff;}#sk-container-id-1 div.sk-label input.sk-toggleable__control:checked~label.sk-toggleable__label {background-color: #d4ebff;}#sk-container-id-1 input.sk-hidden--visually {border: 0;clip: rect(1px 1px 1px 1px);clip: rect(1px, 1px, 1px, 1px);height: 1px;margin: -1px;overflow: hidden;padding: 0;position: absolute;width: 1px;}#sk-container-id-1 div.sk-estimator {font-family: monospace;background-color: #f0f8ff;border: 1px dotted black;border-radius: 0.25em;box-sizing: border-box;margin-bottom: 0.5em;}#sk-container-id-1 div.sk-estimator:hover {background-color: #d4ebff;}#sk-container-id-1 div.sk-parallel-item::after {content: \"\";width: 100%;border-bottom: 1px solid gray;flex-grow: 1;}#sk-container-id-1 div.sk-label:hover label.sk-toggleable__label {background-color: #d4ebff;}#sk-container-id-1 div.sk-serial::before {content: \"\";position: absolute;border-left: 1px solid gray;box-sizing: border-box;top: 0;bottom: 0;left: 50%;z-index: 0;}#sk-container-id-1 div.sk-serial {display: flex;flex-direction: column;align-items: center;background-color: white;padding-right: 0.2em;padding-left: 0.2em;position: relative;}#sk-container-id-1 div.sk-item {position: relative;z-index: 1;}#sk-container-id-1 div.sk-parallel {display: flex;align-items: stretch;justify-content: center;background-color: white;position: relative;}#sk-container-id-1 div.sk-item::before, #sk-container-id-1 div.sk-parallel-item::before {content: \"\";position: absolute;border-left: 1px solid gray;box-sizing: border-box;top: 0;bottom: 0;left: 50%;z-index: -1;}#sk-container-id-1 div.sk-parallel-item {display: flex;flex-direction: column;z-index: 1;position: relative;background-color: white;}#sk-container-id-1 div.sk-parallel-item:first-child::after {align-self: flex-end;width: 50%;}#sk-container-id-1 div.sk-parallel-item:last-child::after {align-self: flex-start;width: 50%;}#sk-container-id-1 div.sk-parallel-item:only-child::after {width: 0;}#sk-container-id-1 div.sk-dashed-wrapped {border: 1px dashed gray;margin: 0 0.4em 0.5em 0.4em;box-sizing: border-box;padding-bottom: 0.4em;background-color: white;}#sk-container-id-1 div.sk-label label {font-family: monospace;font-weight: bold;display: inline-block;line-height: 1.2em;}#sk-container-id-1 div.sk-label-container {text-align: center;}#sk-container-id-1 div.sk-container {/* jupyter's `normalize.less` sets `[hidden] { display: none; }` but bootstrap.min.css set `[hidden] { display: none !important; }` so we also need the `!important` here to be able to override the default hidden behavior on the sphinx rendered scikit-learn.org. See: https://github.com/scikit-learn/scikit-learn/issues/21755 */display: inline-block !important;position: relative;}#sk-container-id-1 div.sk-text-repr-fallback {display: none;}</style><div id=\"sk-container-id-1\" class=\"sk-top-container\"><div class=\"sk-text-repr-fallback\"><pre>SVC(C=0.1, class_weight={0: 0.6150061500615006, 1: 2.6737967914438503},\n",
              "    degree=2, gamma=&#x27;auto&#x27;, kernel=&#x27;poly&#x27;, probability=True)</pre><b>In a Jupyter environment, please rerun this cell to show the HTML representation or trust the notebook. <br />On GitHub, the HTML representation is unable to render, please try loading this page with nbviewer.org.</b></div><div class=\"sk-container\" hidden><div class=\"sk-item\"><div class=\"sk-estimator sk-toggleable\"><input class=\"sk-toggleable__control sk-hidden--visually\" id=\"sk-estimator-id-1\" type=\"checkbox\" checked><label for=\"sk-estimator-id-1\" class=\"sk-toggleable__label sk-toggleable__label-arrow\">SVC</label><div class=\"sk-toggleable__content\"><pre>SVC(C=0.1, class_weight={0: 0.6150061500615006, 1: 2.6737967914438503},\n",
              "    degree=2, gamma=&#x27;auto&#x27;, kernel=&#x27;poly&#x27;, probability=True)</pre></div></div></div></div></div>"
            ]
          },
          "metadata": {},
          "execution_count": 34
        }
      ]
    },
    {
      "cell_type": "code",
      "source": [
        "predictions_val = svm.predict(X_val_scaled)\n",
        "\n",
        "print(\"\\nTest Set Metrics:\")\n",
        "print(\"Confusion Matrix:\")\n",
        "print(confusion_matrix(Yval, predictions_val))\n",
        "print(\"\\nClassification Report:\")\n",
        "print(classification_report(Yval, predictions_val))\n",
        "print(\"Accuracy:\", accuracy_score(Yval, predictions_val))\n",
        "print(\"F1 Score:\", f1_score(Yval, predictions_val))\n",
        "print(\"AUC Score:\", roc_auc_score(Yval, svm.predict_proba(X_val_scaled)[:, 1]))"
      ],
      "metadata": {
        "colab": {
          "base_uri": "https://localhost:8080/"
        },
        "id": "t85xR_dQmEf6",
        "outputId": "637f3130-9928-4204-fc6e-0eedf52e28c0"
      },
      "execution_count": 35,
      "outputs": [
        {
          "output_type": "stream",
          "name": "stdout",
          "text": [
            "\n",
            "Test Set Metrics:\n",
            "Confusion Matrix:\n",
            "[[89 31]\n",
            " [22  8]]\n",
            "\n",
            "Classification Report:\n",
            "              precision    recall  f1-score   support\n",
            "\n",
            "         0.0       0.80      0.74      0.77       120\n",
            "         1.0       0.21      0.27      0.23        30\n",
            "\n",
            "    accuracy                           0.65       150\n",
            "   macro avg       0.50      0.50      0.50       150\n",
            "weighted avg       0.68      0.65      0.66       150\n",
            "\n",
            "Accuracy: 0.6466666666666666\n",
            "F1 Score: 0.2318840579710145\n",
            "AUC Score: 0.5205555555555555\n"
          ]
        }
      ]
    },
    {
      "cell_type": "code",
      "source": [
        "predictions_test = svm.predict(X_test_scaled)\n",
        "\n",
        "print(\"\\nTest Set Metrics:\")\n",
        "print(\"Confusion Matrix:\")\n",
        "print(confusion_matrix(Ytest, predictions_test))\n",
        "print(\"\\nClassification Report:\")\n",
        "print(classification_report(Ytest, predictions_test))\n",
        "print(\"Accuracy:\", accuracy_score(Ytest, predictions_test))\n",
        "print(\"F1 Score:\", f1_score(Ytest, predictions_test))\n",
        "print(\"AUC Score:\", roc_auc_score(Ytest, svm.predict_proba(X_test_scaled)[:, 1]))"
      ],
      "metadata": {
        "colab": {
          "base_uri": "https://localhost:8080/"
        },
        "id": "6HoodQQyppMd",
        "outputId": "0e5cabe8-f880-4d56-89c6-c457210e2349"
      },
      "execution_count": 36,
      "outputs": [
        {
          "output_type": "stream",
          "name": "stdout",
          "text": [
            "\n",
            "Test Set Metrics:\n",
            "Confusion Matrix:\n",
            "[[339 144]\n",
            " [ 74  43]]\n",
            "\n",
            "Classification Report:\n",
            "              precision    recall  f1-score   support\n",
            "\n",
            "         0.0       0.82      0.70      0.76       483\n",
            "         1.0       0.23      0.37      0.28       117\n",
            "\n",
            "    accuracy                           0.64       600\n",
            "   macro avg       0.53      0.53      0.52       600\n",
            "weighted avg       0.71      0.64      0.66       600\n",
            "\n",
            "Accuracy: 0.6366666666666667\n",
            "F1 Score: 0.28289473684210525\n",
            "AUC Score: 0.5644653253348906\n"
          ]
        }
      ]
    },
    {
      "cell_type": "markdown",
      "source": [
        "### Random Forest"
      ],
      "metadata": {
        "id": "j82Jb6OXmviK"
      }
    },
    {
      "cell_type": "code",
      "source": [
        "rf_classifier = RandomForestClassifier(class_weight={0: class_weights[0], 1: class_weights[1]})\n",
        "\n",
        "rf_classifier.fit(X_train_scaled, Ytrain)"
      ],
      "metadata": {
        "colab": {
          "base_uri": "https://localhost:8080/",
          "height": 91
        },
        "id": "LeIf4Q6ZmnCZ",
        "outputId": "9b6e6964-5507-496c-f318-4b8dd4186fea"
      },
      "execution_count": 37,
      "outputs": [
        {
          "output_type": "execute_result",
          "data": {
            "text/plain": [
              "RandomForestClassifier(class_weight={0: 0.6150061500615006,\n",
              "                                     1: 2.6737967914438503})"
            ],
            "text/html": [
              "<style>#sk-container-id-2 {color: black;background-color: white;}#sk-container-id-2 pre{padding: 0;}#sk-container-id-2 div.sk-toggleable {background-color: white;}#sk-container-id-2 label.sk-toggleable__label {cursor: pointer;display: block;width: 100%;margin-bottom: 0;padding: 0.3em;box-sizing: border-box;text-align: center;}#sk-container-id-2 label.sk-toggleable__label-arrow:before {content: \"▸\";float: left;margin-right: 0.25em;color: #696969;}#sk-container-id-2 label.sk-toggleable__label-arrow:hover:before {color: black;}#sk-container-id-2 div.sk-estimator:hover label.sk-toggleable__label-arrow:before {color: black;}#sk-container-id-2 div.sk-toggleable__content {max-height: 0;max-width: 0;overflow: hidden;text-align: left;background-color: #f0f8ff;}#sk-container-id-2 div.sk-toggleable__content pre {margin: 0.2em;color: black;border-radius: 0.25em;background-color: #f0f8ff;}#sk-container-id-2 input.sk-toggleable__control:checked~div.sk-toggleable__content {max-height: 200px;max-width: 100%;overflow: auto;}#sk-container-id-2 input.sk-toggleable__control:checked~label.sk-toggleable__label-arrow:before {content: \"▾\";}#sk-container-id-2 div.sk-estimator input.sk-toggleable__control:checked~label.sk-toggleable__label {background-color: #d4ebff;}#sk-container-id-2 div.sk-label input.sk-toggleable__control:checked~label.sk-toggleable__label {background-color: #d4ebff;}#sk-container-id-2 input.sk-hidden--visually {border: 0;clip: rect(1px 1px 1px 1px);clip: rect(1px, 1px, 1px, 1px);height: 1px;margin: -1px;overflow: hidden;padding: 0;position: absolute;width: 1px;}#sk-container-id-2 div.sk-estimator {font-family: monospace;background-color: #f0f8ff;border: 1px dotted black;border-radius: 0.25em;box-sizing: border-box;margin-bottom: 0.5em;}#sk-container-id-2 div.sk-estimator:hover {background-color: #d4ebff;}#sk-container-id-2 div.sk-parallel-item::after {content: \"\";width: 100%;border-bottom: 1px solid gray;flex-grow: 1;}#sk-container-id-2 div.sk-label:hover label.sk-toggleable__label {background-color: #d4ebff;}#sk-container-id-2 div.sk-serial::before {content: \"\";position: absolute;border-left: 1px solid gray;box-sizing: border-box;top: 0;bottom: 0;left: 50%;z-index: 0;}#sk-container-id-2 div.sk-serial {display: flex;flex-direction: column;align-items: center;background-color: white;padding-right: 0.2em;padding-left: 0.2em;position: relative;}#sk-container-id-2 div.sk-item {position: relative;z-index: 1;}#sk-container-id-2 div.sk-parallel {display: flex;align-items: stretch;justify-content: center;background-color: white;position: relative;}#sk-container-id-2 div.sk-item::before, #sk-container-id-2 div.sk-parallel-item::before {content: \"\";position: absolute;border-left: 1px solid gray;box-sizing: border-box;top: 0;bottom: 0;left: 50%;z-index: -1;}#sk-container-id-2 div.sk-parallel-item {display: flex;flex-direction: column;z-index: 1;position: relative;background-color: white;}#sk-container-id-2 div.sk-parallel-item:first-child::after {align-self: flex-end;width: 50%;}#sk-container-id-2 div.sk-parallel-item:last-child::after {align-self: flex-start;width: 50%;}#sk-container-id-2 div.sk-parallel-item:only-child::after {width: 0;}#sk-container-id-2 div.sk-dashed-wrapped {border: 1px dashed gray;margin: 0 0.4em 0.5em 0.4em;box-sizing: border-box;padding-bottom: 0.4em;background-color: white;}#sk-container-id-2 div.sk-label label {font-family: monospace;font-weight: bold;display: inline-block;line-height: 1.2em;}#sk-container-id-2 div.sk-label-container {text-align: center;}#sk-container-id-2 div.sk-container {/* jupyter's `normalize.less` sets `[hidden] { display: none; }` but bootstrap.min.css set `[hidden] { display: none !important; }` so we also need the `!important` here to be able to override the default hidden behavior on the sphinx rendered scikit-learn.org. See: https://github.com/scikit-learn/scikit-learn/issues/21755 */display: inline-block !important;position: relative;}#sk-container-id-2 div.sk-text-repr-fallback {display: none;}</style><div id=\"sk-container-id-2\" class=\"sk-top-container\"><div class=\"sk-text-repr-fallback\"><pre>RandomForestClassifier(class_weight={0: 0.6150061500615006,\n",
              "                                     1: 2.6737967914438503})</pre><b>In a Jupyter environment, please rerun this cell to show the HTML representation or trust the notebook. <br />On GitHub, the HTML representation is unable to render, please try loading this page with nbviewer.org.</b></div><div class=\"sk-container\" hidden><div class=\"sk-item\"><div class=\"sk-estimator sk-toggleable\"><input class=\"sk-toggleable__control sk-hidden--visually\" id=\"sk-estimator-id-2\" type=\"checkbox\" checked><label for=\"sk-estimator-id-2\" class=\"sk-toggleable__label sk-toggleable__label-arrow\">RandomForestClassifier</label><div class=\"sk-toggleable__content\"><pre>RandomForestClassifier(class_weight={0: 0.6150061500615006,\n",
              "                                     1: 2.6737967914438503})</pre></div></div></div></div></div>"
            ]
          },
          "metadata": {},
          "execution_count": 37
        }
      ]
    },
    {
      "cell_type": "code",
      "source": [
        "predictions_val = rf_classifier.predict(X_val_scaled)\n",
        "\n",
        "print(\"\\nTest Set Metrics:\")\n",
        "print(\"Confusion Matrix:\")\n",
        "print(confusion_matrix(Yval, predictions_val))\n",
        "print(\"\\nClassification Report:\")\n",
        "print(classification_report(Yval, predictions_val))\n",
        "print(\"Accuracy:\", accuracy_score(Yval, predictions_val))\n",
        "print(\"F1 Score:\", f1_score(Yval, predictions_val))\n",
        "print(\"AUC Score:\", roc_auc_score(Yval, rf_classifier.predict_proba(X_val_scaled)[:, 1]))"
      ],
      "metadata": {
        "colab": {
          "base_uri": "https://localhost:8080/"
        },
        "id": "ladv258nm05L",
        "outputId": "2fd299e4-00a2-4c67-a594-6946d7eaa129"
      },
      "execution_count": 38,
      "outputs": [
        {
          "output_type": "stream",
          "name": "stdout",
          "text": [
            "\n",
            "Test Set Metrics:\n",
            "Confusion Matrix:\n",
            "[[118   2]\n",
            " [ 28   2]]\n",
            "\n",
            "Classification Report:\n",
            "              precision    recall  f1-score   support\n",
            "\n",
            "         0.0       0.81      0.98      0.89       120\n",
            "         1.0       0.50      0.07      0.12        30\n",
            "\n",
            "    accuracy                           0.80       150\n",
            "   macro avg       0.65      0.53      0.50       150\n",
            "weighted avg       0.75      0.80      0.73       150\n",
            "\n",
            "Accuracy: 0.8\n",
            "F1 Score: 0.11764705882352941\n",
            "AUC Score: 0.6215277777777779\n"
          ]
        }
      ]
    },
    {
      "cell_type": "code",
      "source": [
        "predictions_test = rf_classifier.predict(X_test_scaled)\n",
        "\n",
        "print(\"\\nTest Set Metrics:\")\n",
        "print(\"Confusion Matrix:\")\n",
        "print(confusion_matrix(Ytest, predictions_test))\n",
        "print(\"\\nClassification Report:\")\n",
        "print(classification_report(Ytest, predictions_test))\n",
        "print(\"Accuracy:\", accuracy_score(Ytest, predictions_test))\n",
        "print(\"F1 Score:\", f1_score(Ytest, predictions_test))\n",
        "print(\"AUC Score:\", roc_auc_score(Ytest, rf_classifier.predict_proba(X_test_scaled)[:, 1]))"
      ],
      "metadata": {
        "colab": {
          "base_uri": "https://localhost:8080/"
        },
        "id": "CQn1Jp2EpvIx",
        "outputId": "5d594d4a-f717-4386-9569-7ce3c9baea2f"
      },
      "execution_count": 39,
      "outputs": [
        {
          "output_type": "stream",
          "name": "stdout",
          "text": [
            "\n",
            "Test Set Metrics:\n",
            "Confusion Matrix:\n",
            "[[479   4]\n",
            " [116   1]]\n",
            "\n",
            "Classification Report:\n",
            "              precision    recall  f1-score   support\n",
            "\n",
            "         0.0       0.81      0.99      0.89       483\n",
            "         1.0       0.20      0.01      0.02       117\n",
            "\n",
            "    accuracy                           0.80       600\n",
            "   macro avg       0.50      0.50      0.45       600\n",
            "weighted avg       0.69      0.80      0.72       600\n",
            "\n",
            "Accuracy: 0.8\n",
            "F1 Score: 0.01639344262295082\n",
            "AUC Score: 0.5631116065898674\n"
          ]
        }
      ]
    },
    {
      "cell_type": "markdown",
      "source": [
        "### On provided pre-computed features"
      ],
      "metadata": {
        "id": "nWSjFtlDf7uV"
      }
    },
    {
      "cell_type": "code",
      "source": [
        "labels=['f1_asym','f2_asym','f5_asym','f6_asym','f7_bord','f8_bord','f9_bord','f10_color','f11_color','f12_color','f13_color','f14_color','f15_color','f16_color','f17_color','f18_color','meanR','stdR','meanG','stdG','meanB','stdB','maxR','maxG','maxB','Area','Ecc','Diam','Ratio','Perim','f21_geom','f22_geom','f23_geom']"
      ],
      "metadata": {
        "id": "WHqVbwpRiX2s"
      },
      "execution_count": 40,
      "outputs": []
    },
    {
      "cell_type": "code",
      "source": [
        "!mkdir ./data\n",
        "gdown.download(id=\"1ELg93G9jHeJOhCGBZ35HFs3NZr5Inj_j\", output='./data/X_train_eng.npy', quiet=False)\n",
        "train_computation_time=115 # in minute"
      ],
      "metadata": {
        "id": "q8rPw9Daem5-",
        "colab": {
          "base_uri": "https://localhost:8080/"
        },
        "outputId": "0a630280-4f8b-4640-ed1e-2b8731e6b7a8"
      },
      "execution_count": 41,
      "outputs": [
        {
          "output_type": "stream",
          "name": "stdout",
          "text": [
            "mkdir: cannot create directory ‘./data’: File exists\n"
          ]
        },
        {
          "output_type": "stream",
          "name": "stderr",
          "text": [
            "Downloading...\n",
            "From: https://drive.google.com/uc?id=1ELg93G9jHeJOhCGBZ35HFs3NZr5Inj_j\n",
            "To: /content/data/X_train_eng.npy\n",
            "100%|██████████| 528k/528k [00:00<00:00, 74.8MB/s]\n"
          ]
        }
      ]
    },
    {
      "cell_type": "code",
      "source": [
        "gdown.download(id=\"10sr56q1CEro7HPgQjYo0eVniGNA5og5H\", output='./data/X_val_eng.npy', quiet=False)\n",
        "test_computation_time=12 # in minute"
      ],
      "metadata": {
        "id": "HNAo6O3ykUog",
        "colab": {
          "base_uri": "https://localhost:8080/"
        },
        "outputId": "e9c25895-1ef7-454e-f7ca-da170b98ebb4"
      },
      "execution_count": 42,
      "outputs": [
        {
          "output_type": "stream",
          "name": "stderr",
          "text": [
            "Downloading...\n",
            "From: https://drive.google.com/uc?id=10sr56q1CEro7HPgQjYo0eVniGNA5og5H\n",
            "To: /content/data/X_val_eng.npy\n",
            "100%|██████████| 39.7k/39.7k [00:00<00:00, 19.7MB/s]\n"
          ]
        }
      ]
    },
    {
      "cell_type": "code",
      "source": [
        "!mkdir ./data\n",
        "gdown.download(id=\"1RbONb3WyG-CGt6SSi124TSXfkiCzb6-D\", output='./data/X_test_eng.npy', quiet=False)\n",
        "test_computation_time=38 # in minute"
      ],
      "metadata": {
        "id": "eW88mbrOhgUE",
        "colab": {
          "base_uri": "https://localhost:8080/"
        },
        "outputId": "0fb474a3-bea0-484e-e803-53f885ab4eca"
      },
      "execution_count": 43,
      "outputs": [
        {
          "output_type": "stream",
          "name": "stdout",
          "text": [
            "mkdir: cannot create directory ‘./data’: File exists\n"
          ]
        },
        {
          "output_type": "stream",
          "name": "stderr",
          "text": [
            "Downloading...\n",
            "From: https://drive.google.com/uc?id=1RbONb3WyG-CGt6SSi124TSXfkiCzb6-D\n",
            "To: /content/data/X_test_eng.npy\n",
            "100%|██████████| 159k/159k [00:00<00:00, 60.9MB/s]\n"
          ]
        }
      ]
    },
    {
      "cell_type": "code",
      "execution_count": 44,
      "metadata": {
        "id": "IXEYzCJfytJg",
        "colab": {
          "base_uri": "https://localhost:8080/"
        },
        "outputId": "da84e7c1-5406-403f-dfb1-55dbbf71e836"
      },
      "outputs": [
        {
          "output_type": "stream",
          "name": "stdout",
          "text": [
            "Number of images: 2000; Number of features per image: 33\n",
            "Number of healthy nevus: 1626.0; Number of melanoma: 374.0\n"
          ]
        }
      ],
      "source": [
        "Xtrain=np.load('./data/X_train_eng.npy')\n",
        "Xtest=np.load('./data/X_test_eng.npy')\n",
        "Xval=np.load('./data/X_val_eng.npy')\n",
        "\n",
        "N,M=Xtrain.shape\n",
        "print('Number of images: {0}; Number of features per image: {1}'.format(N,M))\n",
        "print('Number of healthy nevus: {0}; Number of melanoma: {1}'.format(N-np.sum(Ytrain), np.sum(Ytrain)))"
      ]
    },
    {
      "cell_type": "markdown",
      "source": [
        "**Question**: An important point in medical imaging is the explicability. Can you find the most important and discriminative features ? If yes, how ? Hint: random forest has a very interesting function...  "
      ],
      "metadata": {
        "id": "S7z5wPURwlle"
      }
    },
    {
      "cell_type": "code",
      "source": [
        "feature_importances = rf_classifier.feature_importances_\n",
        "sorted_feature_indices = np.argsort(feature_importances)[::-1]\n",
        "\n",
        "# top N important features\n",
        "top_n = 10\n",
        "print(\"Top\", top_n, \"Important Features:\")\n",
        "for i in range(top_n):\n",
        "    print(f\"{i + 1}. Feature {sorted_feature_indices[i]}: Importance - {feature_importances[sorted_feature_indices[i]]:.4f}\")\n",
        "\n",
        "plt.figure(figsize=(10, 6))\n",
        "plt.bar(range(top_n), feature_importances[sorted_feature_indices[:top_n]], align=\"center\")\n",
        "plt.xticks(range(top_n), sorted_feature_indices[:top_n])\n",
        "plt.xlabel(\"Feature Index\")\n",
        "plt.ylabel(\"Feature Importance\")\n",
        "plt.title(\"Top Important Features\")\n",
        "plt.show()"
      ],
      "metadata": {
        "colab": {
          "base_uri": "https://localhost:8080/",
          "height": 751
        },
        "id": "TL0pAUA-nZZJ",
        "outputId": "632c50d2-5776-4060-fa71-8b93ec81a120"
      },
      "execution_count": 45,
      "outputs": [
        {
          "output_type": "stream",
          "name": "stdout",
          "text": [
            "Top 10 Important Features:\n",
            "1. Feature 9: Importance - 0.1646\n",
            "2. Feature 5: Importance - 0.1435\n",
            "3. Feature 4: Importance - 0.1382\n",
            "4. Feature 3: Importance - 0.1310\n",
            "5. Feature 1: Importance - 0.1304\n",
            "6. Feature 7: Importance - 0.0846\n",
            "7. Feature 8: Importance - 0.0800\n",
            "8. Feature 6: Importance - 0.0583\n",
            "9. Feature 2: Importance - 0.0362\n",
            "10. Feature 0: Importance - 0.0332\n"
          ]
        },
        {
          "output_type": "display_data",
          "data": {
            "text/plain": [
              "<Figure size 1000x600 with 1 Axes>"
            ],
            "image/png": "[encoded data removed]"
          },
          "metadata": {}
        }
      ]
    },
    {
      "cell_type": "markdown",
      "source": [
        "Feature importance on pre-computed features"
      ],
      "metadata": {
        "id": "Vnnq7Y8coEPf"
      }
    },
    {
      "cell_type": "code",
      "source": [
        "scaler = StandardScaler()\n",
        "Xtrain_scaled = scaler.fit_transform(Xtrain)\n",
        "# Xval_scaled = scaler.transform(Xval)\n",
        "# Xtest_scaled = scaler.transform(Xtest)\n",
        "\n",
        "\n",
        "rf_classifier = RandomForestClassifier(class_weight={0: class_weights[0], 1: class_weights[1]})\n",
        "\n",
        "rf_classifier.fit(Xtrain_scaled, Ytrain)"
      ],
      "metadata": {
        "colab": {
          "base_uri": "https://localhost:8080/",
          "height": 91
        },
        "id": "imUgLPrpoHMU",
        "outputId": "81d1e5c7-397b-48cd-ca97-0e58d14dbac1"
      },
      "execution_count": 46,
      "outputs": [
        {
          "output_type": "execute_result",
          "data": {
            "text/plain": [
              "RandomForestClassifier(class_weight={0: 0.6150061500615006,\n",
              "                                     1: 2.6737967914438503})"
            ],
            "text/html": [
              "<style>#sk-container-id-3 {color: black;background-color: white;}#sk-container-id-3 pre{padding: 0;}#sk-container-id-3 div.sk-toggleable {background-color: white;}#sk-container-id-3 label.sk-toggleable__label {cursor: pointer;display: block;width: 100%;margin-bottom: 0;padding: 0.3em;box-sizing: border-box;text-align: center;}#sk-container-id-3 label.sk-toggleable__label-arrow:before {content: \"▸\";float: left;margin-right: 0.25em;color: #696969;}#sk-container-id-3 label.sk-toggleable__label-arrow:hover:before {color: black;}#sk-container-id-3 div.sk-estimator:hover label.sk-toggleable__label-arrow:before {color: black;}#sk-container-id-3 div.sk-toggleable__content {max-height: 0;max-width: 0;overflow: hidden;text-align: left;background-color: #f0f8ff;}#sk-container-id-3 div.sk-toggleable__content pre {margin: 0.2em;color: black;border-radius: 0.25em;background-color: #f0f8ff;}#sk-container-id-3 input.sk-toggleable__control:checked~div.sk-toggleable__content {max-height: 200px;max-width: 100%;overflow: auto;}#sk-container-id-3 input.sk-toggleable__control:checked~label.sk-toggleable__label-arrow:before {content: \"▾\";}#sk-container-id-3 div.sk-estimator input.sk-toggleable__control:checked~label.sk-toggleable__label {background-color: #d4ebff;}#sk-container-id-3 div.sk-label input.sk-toggleable__control:checked~label.sk-toggleable__label {background-color: #d4ebff;}#sk-container-id-3 input.sk-hidden--visually {border: 0;clip: rect(1px 1px 1px 1px);clip: rect(1px, 1px, 1px, 1px);height: 1px;margin: -1px;overflow: hidden;padding: 0;position: absolute;width: 1px;}#sk-container-id-3 div.sk-estimator {font-family: monospace;background-color: #f0f8ff;border: 1px dotted black;border-radius: 0.25em;box-sizing: border-box;margin-bottom: 0.5em;}#sk-container-id-3 div.sk-estimator:hover {background-color: #d4ebff;}#sk-container-id-3 div.sk-parallel-item::after {content: \"\";width: 100%;border-bottom: 1px solid gray;flex-grow: 1;}#sk-container-id-3 div.sk-label:hover label.sk-toggleable__label {background-color: #d4ebff;}#sk-container-id-3 div.sk-serial::before {content: \"\";position: absolute;border-left: 1px solid gray;box-sizing: border-box;top: 0;bottom: 0;left: 50%;z-index: 0;}#sk-container-id-3 div.sk-serial {display: flex;flex-direction: column;align-items: center;background-color: white;padding-right: 0.2em;padding-left: 0.2em;position: relative;}#sk-container-id-3 div.sk-item {position: relative;z-index: 1;}#sk-container-id-3 div.sk-parallel {display: flex;align-items: stretch;justify-content: center;background-color: white;position: relative;}#sk-container-id-3 div.sk-item::before, #sk-container-id-3 div.sk-parallel-item::before {content: \"\";position: absolute;border-left: 1px solid gray;box-sizing: border-box;top: 0;bottom: 0;left: 50%;z-index: -1;}#sk-container-id-3 div.sk-parallel-item {display: flex;flex-direction: column;z-index: 1;position: relative;background-color: white;}#sk-container-id-3 div.sk-parallel-item:first-child::after {align-self: flex-end;width: 50%;}#sk-container-id-3 div.sk-parallel-item:last-child::after {align-self: flex-start;width: 50%;}#sk-container-id-3 div.sk-parallel-item:only-child::after {width: 0;}#sk-container-id-3 div.sk-dashed-wrapped {border: 1px dashed gray;margin: 0 0.4em 0.5em 0.4em;box-sizing: border-box;padding-bottom: 0.4em;background-color: white;}#sk-container-id-3 div.sk-label label {font-family: monospace;font-weight: bold;display: inline-block;line-height: 1.2em;}#sk-container-id-3 div.sk-label-container {text-align: center;}#sk-container-id-3 div.sk-container {/* jupyter's `normalize.less` sets `[hidden] { display: none; }` but bootstrap.min.css set `[hidden] { display: none !important; }` so we also need the `!important` here to be able to override the default hidden behavior on the sphinx rendered scikit-learn.org. See: https://github.com/scikit-learn/scikit-learn/issues/21755 */display: inline-block !important;position: relative;}#sk-container-id-3 div.sk-text-repr-fallback {display: none;}</style><div id=\"sk-container-id-3\" class=\"sk-top-container\"><div class=\"sk-text-repr-fallback\"><pre>RandomForestClassifier(class_weight={0: 0.6150061500615006,\n",
              "                                     1: 2.6737967914438503})</pre><b>In a Jupyter environment, please rerun this cell to show the HTML representation or trust the notebook. <br />On GitHub, the HTML representation is unable to render, please try loading this page with nbviewer.org.</b></div><div class=\"sk-container\" hidden><div class=\"sk-item\"><div class=\"sk-estimator sk-toggleable\"><input class=\"sk-toggleable__control sk-hidden--visually\" id=\"sk-estimator-id-3\" type=\"checkbox\" checked><label for=\"sk-estimator-id-3\" class=\"sk-toggleable__label sk-toggleable__label-arrow\">RandomForestClassifier</label><div class=\"sk-toggleable__content\"><pre>RandomForestClassifier(class_weight={0: 0.6150061500615006,\n",
              "                                     1: 2.6737967914438503})</pre></div></div></div></div></div>"
            ]
          },
          "metadata": {},
          "execution_count": 46
        }
      ]
    },
    {
      "cell_type": "code",
      "source": [
        "feature_importances = rf_classifier.feature_importances_\n",
        "sorted_feature_indices = np.argsort(feature_importances)[::-1]\n",
        "\n",
        "# top N important features\n",
        "top_n = 15\n",
        "print(\"Top\", top_n, \"Important Features:\")\n",
        "for i in range(top_n):\n",
        "    print(f\"{i + 1}. Feature {sorted_feature_indices[i]}: Importance - {feature_importances[sorted_feature_indices[i]]:.4f}\")\n",
        "\n",
        "plt.figure(figsize=(10, 6))\n",
        "plt.bar(range(top_n), feature_importances[sorted_feature_indices[:top_n]], align=\"center\")\n",
        "plt.xticks(range(top_n), sorted_feature_indices[:top_n])\n",
        "plt.xlabel(\"Feature Index\")\n",
        "plt.ylabel(\"Feature Importance\")\n",
        "plt.title(\"Top Important Features\")\n",
        "plt.show()"
      ],
      "metadata": {
        "colab": {
          "base_uri": "https://localhost:8080/",
          "height": 836
        },
        "id": "I4bwlHOAolAG",
        "outputId": "613a3671-4440-4c4a-dd7e-fdcd95a7cfb3"
      },
      "execution_count": 47,
      "outputs": [
        {
          "output_type": "stream",
          "name": "stdout",
          "text": [
            "Top 15 Important Features:\n",
            "1. Feature 29: Importance - 0.0438\n",
            "2. Feature 26: Importance - 0.0421\n",
            "3. Feature 3: Importance - 0.0403\n",
            "4. Feature 20: Importance - 0.0397\n",
            "5. Feature 15: Importance - 0.0396\n",
            "6. Feature 14: Importance - 0.0394\n",
            "7. Feature 28: Importance - 0.0388\n",
            "8. Feature 12: Importance - 0.0381\n",
            "9. Feature 21: Importance - 0.0378\n",
            "10. Feature 10: Importance - 0.0358\n",
            "11. Feature 17: Importance - 0.0346\n",
            "12. Feature 13: Importance - 0.0345\n",
            "13. Feature 2: Importance - 0.0334\n",
            "14. Feature 11: Importance - 0.0333\n",
            "15. Feature 7: Importance - 0.0331\n"
          ]
        },
        {
          "output_type": "display_data",
          "data": {
            "text/plain": [
              "<Figure size 1000x600 with 1 Axes>"
            ],
            "image/png": "[encoded data removed]"
          },
          "metadata": {}
        }
      ]
    },
    {
      "cell_type": "markdown",
      "source": [
        "Now you should have a final ML model with a generalization performance on the Test Set.\n",
        "\n",
        "**Question**: Are you satisfied ? How long did it take to compute and evaluate the manually engineered features ? If you are not satisfied, what are the main problems ? Besides Deep Learning, could you do something to improve the results (if you had more time?)"
      ],
      "metadata": {
        "id": "UCYgGs368yJp"
      }
    },
    {
      "cell_type": "markdown",
      "source": [
        "I am not quite satisfied with the achieved AUC and F1 scores on the test set, but then again, I did not expect very high scores based on the few features that I somehow computed.\n",
        "\n",
        "Approximate time required\n",
        "1. To skim through the provided papers = 1.5 hours\n",
        "2. Compute features = 14 hours\n",
        "3. Fix bugs and handle exceptions in the feature extractor functions = 2 hours\n",
        "4. ML models' hyperparameter tuning = 1 hour\n",
        "\n",
        "Thus, total time spent on this notebook is approximately 17.5 hours.\n",
        "\n",
        "If more time were available, I could explore further feature engineering techniques majorly, including trying different transformations or interactions between features. From the ML modelling part, I could have tried different ensemble methods."
      ],
      "metadata": {
        "id": "tszK3r4ZzaSW"
      }
    }
  ],
  "metadata": {
    "colab": {
      "provenance": []
    },
    "kernelspec": {
      "display_name": "Python 3",
      "name": "python3"
    },
    "language_info": {
      "codemirror_mode": {
        "name": "ipython",
        "version": 3
      },
      "file_extension": ".py",
      "mimetype": "text/x-python",
      "name": "python",
      "nbconvert_exporter": "python",
      "pygments_lexer": "ipython3",
      "version": "3.6.13"
    },
    "widgets": {
      "application/vnd.jupyter.widget-state+json": {
        "c8e41c55069a47109ca61dca2fef228f": {
          "model_module": "@jupyter-widgets/controls",
          "model_name": "HBoxModel",
          "model_module_version": "1.5.0",
          "state": {
            "_dom_classes": [],
            "_model_module": "@jupyter-widgets/controls",
            "_model_module_version": "1.5.0",
            "_model_name": "HBoxModel",
            "_view_count": null,
            "_view_module": "@jupyter-widgets/controls",
            "_view_module_version": "1.5.0",
            "_view_name": "HBoxView",
            "box_style": "",
            "children": [
              "IPY_MODEL_f9245cf60e9343eb87053d7e845f8d81",
              "IPY_MODEL_b13c945ced1b4dc3a6cda52ac45c7de3",
              "IPY_MODEL_74df659987224270a79785d54bdac276"
            ],
            "layout": "IPY_MODEL_bdc8f1978ce94ea782caf24bfec49565"
          }
        },
        "f9245cf60e9343eb87053d7e845f8d81": {
          "model_module": "@jupyter-widgets/controls",
          "model_name": "HTMLModel",
          "model_module_version": "1.5.0",
          "state": {
            "_dom_classes": [],
            "_model_module": "@jupyter-widgets/controls",
            "_model_module_version": "1.5.0",
            "_model_name": "HTMLModel",
            "_view_count": null,
            "_view_module": "@jupyter-widgets/controls",
            "_view_module_version": "1.5.0",
            "_view_name": "HTMLView",
            "description": "",
            "description_tooltip": null,
            "layout": "IPY_MODEL_27375186d0a0482791688058c25a56b4",
            "placeholder": "​",
            "style": "IPY_MODEL_09c7f9a5749f4273a93b5f071cb536d7",
            "value": "100%"
          }
        },
        "b13c945ced1b4dc3a6cda52ac45c7de3": {
          "model_module": "@jupyter-widgets/controls",
          "model_name": "FloatProgressModel",
          "model_module_version": "1.5.0",
          "state": {
            "_dom_classes": [],
            "_model_module": "@jupyter-widgets/controls",
            "_model_module_version": "1.5.0",
            "_model_name": "FloatProgressModel",
            "_view_count": null,
            "_view_module": "@jupyter-widgets/controls",
            "_view_module_version": "1.5.0",
            "_view_name": "ProgressView",
            "bar_style": "success",
            "description": "",
            "description_tooltip": null,
            "layout": "IPY_MODEL_3d7c0ad98a594a02a2faefd04a7ce2e8",
            "max": 2000,
            "min": 0,
            "orientation": "horizontal",
            "style": "IPY_MODEL_e7087c2bfe15495991e988c5ca4f88e3",
            "value": 2000
          }
        },
        "74df659987224270a79785d54bdac276": {
          "model_module": "@jupyter-widgets/controls",
          "model_name": "HTMLModel",
          "model_module_version": "1.5.0",
          "state": {
            "_dom_classes": [],
            "_model_module": "@jupyter-widgets/controls",
            "_model_module_version": "1.5.0",
            "_model_name": "HTMLModel",
            "_view_count": null,
            "_view_module": "@jupyter-widgets/controls",
            "_view_module_version": "1.5.0",
            "_view_name": "HTMLView",
            "description": "",
            "description_tooltip": null,
            "layout": "IPY_MODEL_8664ab8531934fe798d416b5acc41cd2",
            "placeholder": "​",
            "style": "IPY_MODEL_ebb9f53423e8438686e2f44aa81bdb9f",
            "value": " 2000/2000 [02:27&lt;00:00, 22.93it/s]"
          }
        },
        "bdc8f1978ce94ea782caf24bfec49565": {
          "model_module": "@jupyter-widgets/base",
          "model_name": "LayoutModel",
          "model_module_version": "1.2.0",
          "state": {
            "_model_module": "@jupyter-widgets/base",
            "_model_module_version": "1.2.0",
            "_model_name": "LayoutModel",
            "_view_count": null,
            "_view_module": "@jupyter-widgets/base",
            "_view_module_version": "1.2.0",
            "_view_name": "LayoutView",
            "align_content": null,
            "align_items": null,
            "align_self": null,
            "border": null,
            "bottom": null,
            "display": null,
            "flex": null,
            "flex_flow": null,
            "grid_area": null,
            "grid_auto_columns": null,
            "grid_auto_flow": null,
            "grid_auto_rows": null,
            "grid_column": null,
            "grid_gap": null,
            "grid_row": null,
            "grid_template_areas": null,
            "grid_template_columns": null,
            "grid_template_rows": null,
            "height": null,
            "justify_content": null,
            "justify_items": null,
            "left": null,
            "margin": null,
            "max_height": null,
            "max_width": null,
            "min_height": null,
            "min_width": null,
            "object_fit": null,
            "object_position": null,
            "order": null,
            "overflow": null,
            "overflow_x": null,
            "overflow_y": null,
            "padding": null,
            "right": null,
            "top": null,
            "visibility": null,
            "width": null
          }
        },
        "27375186d0a0482791688058c25a56b4": {
          "model_module": "@jupyter-widgets/base",
          "model_name": "LayoutModel",
          "model_module_version": "1.2.0",
          "state": {
            "_model_module": "@jupyter-widgets/base",
            "_model_module_version": "1.2.0",
            "_model_name": "LayoutModel",
            "_view_count": null,
            "_view_module": "@jupyter-widgets/base",
            "_view_module_version": "1.2.0",
            "_view_name": "LayoutView",
            "align_content": null,
            "align_items": null,
            "align_self": null,
            "border": null,
            "bottom": null,
            "display": null,
            "flex": null,
            "flex_flow": null,
            "grid_area": null,
            "grid_auto_columns": null,
            "grid_auto_flow": null,
            "grid_auto_rows": null,
            "grid_column": null,
            "grid_gap": null,
            "grid_row": null,
            "grid_template_areas": null,
            "grid_template_columns": null,
            "grid_template_rows": null,
            "height": null,
            "justify_content": null,
            "justify_items": null,
            "left": null,
            "margin": null,
            "max_height": null,
            "max_width": null,
            "min_height": null,
            "min_width": null,
            "object_fit": null,
            "object_position": null,
            "order": null,
            "overflow": null,
            "overflow_x": null,
            "overflow_y": null,
            "padding": null,
            "right": null,
            "top": null,
            "visibility": null,
            "width": null
          }
        },
        "09c7f9a5749f4273a93b5f071cb536d7": {
          "model_module": "@jupyter-widgets/controls",
          "model_name": "DescriptionStyleModel",
          "model_module_version": "1.5.0",
          "state": {
            "_model_module": "@jupyter-widgets/controls",
            "_model_module_version": "1.5.0",
            "_model_name": "DescriptionStyleModel",
            "_view_count": null,
            "_view_module": "@jupyter-widgets/base",
            "_view_module_version": "1.2.0",
            "_view_name": "StyleView",
            "description_width": ""
          }
        },
        "3d7c0ad98a594a02a2faefd04a7ce2e8": {
          "model_module": "@jupyter-widgets/base",
          "model_name": "LayoutModel",
          "model_module_version": "1.2.0",
          "state": {
            "_model_module": "@jupyter-widgets/base",
            "_model_module_version": "1.2.0",
            "_model_name": "LayoutModel",
            "_view_count": null,
            "_view_module": "@jupyter-widgets/base",
            "_view_module_version": "1.2.0",
            "_view_name": "LayoutView",
            "align_content": null,
            "align_items": null,
            "align_self": null,
            "border": null,
            "bottom": null,
            "display": null,
            "flex": null,
            "flex_flow": null,
            "grid_area": null,
            "grid_auto_columns": null,
            "grid_auto_flow": null,
            "grid_auto_rows": null,
            "grid_column": null,
            "grid_gap": null,
            "grid_row": null,
            "grid_template_areas": null,
            "grid_template_columns": null,
            "grid_template_rows": null,
            "height": null,
            "justify_content": null,
            "justify_items": null,
            "left": null,
            "margin": null,
            "max_height": null,
            "max_width": null,
            "min_height": null,
            "min_width": null,
            "object_fit": null,
            "object_position": null,
            "order": null,
            "overflow": null,
            "overflow_x": null,
            "overflow_y": null,
            "padding": null,
            "right": null,
            "top": null,
            "visibility": null,
            "width": null
          }
        },
        "e7087c2bfe15495991e988c5ca4f88e3": {
          "model_module": "@jupyter-widgets/controls",
          "model_name": "ProgressStyleModel",
          "model_module_version": "1.5.0",
          "state": {
            "_model_module": "@jupyter-widgets/controls",
            "_model_module_version": "1.5.0",
            "_model_name": "ProgressStyleModel",
            "_view_count": null,
            "_view_module": "@jupyter-widgets/base",
            "_view_module_version": "1.2.0",
            "_view_name": "StyleView",
            "bar_color": null,
            "description_width": ""
          }
        },
        "8664ab8531934fe798d416b5acc41cd2": {
          "model_module": "@jupyter-widgets/base",
          "model_name": "LayoutModel",
          "model_module_version": "1.2.0",
          "state": {
            "_model_module": "@jupyter-widgets/base",
            "_model_module_version": "1.2.0",
            "_model_name": "LayoutModel",
            "_view_count": null,
            "_view_module": "@jupyter-widgets/base",
            "_view_module_version": "1.2.0",
            "_view_name": "LayoutView",
            "align_content": null,
            "align_items": null,
            "align_self": null,
            "border": null,
            "bottom": null,
            "display": null,
            "flex": null,
            "flex_flow": null,
            "grid_area": null,
            "grid_auto_columns": null,
            "grid_auto_flow": null,
            "grid_auto_rows": null,
            "grid_column": null,
            "grid_gap": null,
            "grid_row": null,
            "grid_template_areas": null,
            "grid_template_columns": null,
            "grid_template_rows": null,
            "height": null,
            "justify_content": null,
            "justify_items": null,
            "left": null,
            "margin": null,
            "max_height": null,
            "max_width": null,
            "min_height": null,
            "min_width": null,
            "object_fit": null,
            "object_position": null,
            "order": null,
            "overflow": null,
            "overflow_x": null,
            "overflow_y": null,
            "padding": null,
            "right": null,
            "top": null,
            "visibility": null,
            "width": null
          }
        },
        "ebb9f53423e8438686e2f44aa81bdb9f": {
          "model_module": "@jupyter-widgets/controls",
          "model_name": "DescriptionStyleModel",
          "model_module_version": "1.5.0",
          "state": {
            "_model_module": "@jupyter-widgets/controls",
            "_model_module_version": "1.5.0",
            "_model_name": "DescriptionStyleModel",
            "_view_count": null,
            "_view_module": "@jupyter-widgets/base",
            "_view_module_version": "1.2.0",
            "_view_name": "StyleView",
            "description_width": ""
          }
        },
        "c0bb6c5923614c5b92d4d65572d66325": {
          "model_module": "@jupyter-widgets/controls",
          "model_name": "HBoxModel",
          "model_module_version": "1.5.0",
          "state": {
            "_dom_classes": [],
            "_model_module": "@jupyter-widgets/controls",
            "_model_module_version": "1.5.0",
            "_model_name": "HBoxModel",
            "_view_count": null,
            "_view_module": "@jupyter-widgets/controls",
            "_view_module_version": "1.5.0",
            "_view_name": "HBoxView",
            "box_style": "",
            "children": [
              "IPY_MODEL_00bed2aa73b74912b60ae3a5ff93fbfa",
              "IPY_MODEL_5a6d7a8a2f384ac5aaad48bceb940eb1",
              "IPY_MODEL_9dbfb26993714a9c8e08646d0cbf07fc"
            ],
            "layout": "IPY_MODEL_2efa4cd5dd974b9f83e7753217b1b7c1"
          }
        },
        "00bed2aa73b74912b60ae3a5ff93fbfa": {
          "model_module": "@jupyter-widgets/controls",
          "model_name": "HTMLModel",
          "model_module_version": "1.5.0",
          "state": {
            "_dom_classes": [],
            "_model_module": "@jupyter-widgets/controls",
            "_model_module_version": "1.5.0",
            "_model_name": "HTMLModel",
            "_view_count": null,
            "_view_module": "@jupyter-widgets/controls",
            "_view_module_version": "1.5.0",
            "_view_name": "HTMLView",
            "description": "",
            "description_tooltip": null,
            "layout": "IPY_MODEL_f932bd82344145e388f5428707fad20e",
            "placeholder": "​",
            "style": "IPY_MODEL_20067be13b5b4d81b9174646169bd746",
            "value": "100%"
          }
        },
        "5a6d7a8a2f384ac5aaad48bceb940eb1": {
          "model_module": "@jupyter-widgets/controls",
          "model_name": "FloatProgressModel",
          "model_module_version": "1.5.0",
          "state": {
            "_dom_classes": [],
            "_model_module": "@jupyter-widgets/controls",
            "_model_module_version": "1.5.0",
            "_model_name": "FloatProgressModel",
            "_view_count": null,
            "_view_module": "@jupyter-widgets/controls",
            "_view_module_version": "1.5.0",
            "_view_name": "ProgressView",
            "bar_style": "success",
            "description": "",
            "description_tooltip": null,
            "layout": "IPY_MODEL_20144040ef074924843eb190c71e76bf",
            "max": 150,
            "min": 0,
            "orientation": "horizontal",
            "style": "IPY_MODEL_9d9ca7e8000d4f1d992fc182ecb3a418",
            "value": 150
          }
        },
        "9dbfb26993714a9c8e08646d0cbf07fc": {
          "model_module": "@jupyter-widgets/controls",
          "model_name": "HTMLModel",
          "model_module_version": "1.5.0",
          "state": {
            "_dom_classes": [],
            "_model_module": "@jupyter-widgets/controls",
            "_model_module_version": "1.5.0",
            "_model_name": "HTMLModel",
            "_view_count": null,
            "_view_module": "@jupyter-widgets/controls",
            "_view_module_version": "1.5.0",
            "_view_name": "HTMLView",
            "description": "",
            "description_tooltip": null,
            "layout": "IPY_MODEL_be9b607d3cc14f169cf0b369743c0ffb",
            "placeholder": "​",
            "style": "IPY_MODEL_7a287b1a568d4bf488f63c6191e2dd84",
            "value": " 150/150 [00:07&lt;00:00, 22.82it/s]"
          }
        },
        "2efa4cd5dd974b9f83e7753217b1b7c1": {
          "model_module": "@jupyter-widgets/base",
          "model_name": "LayoutModel",
          "model_module_version": "1.2.0",
          "state": {
            "_model_module": "@jupyter-widgets/base",
            "_model_module_version": "1.2.0",
            "_model_name": "LayoutModel",
            "_view_count": null,
            "_view_module": "@jupyter-widgets/base",
            "_view_module_version": "1.2.0",
            "_view_name": "LayoutView",
            "align_content": null,
            "align_items": null,
            "align_self": null,
            "border": null,
            "bottom": null,
            "display": null,
            "flex": null,
            "flex_flow": null,
            "grid_area": null,
            "grid_auto_columns": null,
            "grid_auto_flow": null,
            "grid_auto_rows": null,
            "grid_column": null,
            "grid_gap": null,
            "grid_row": null,
            "grid_template_areas": null,
            "grid_template_columns": null,
            "grid_template_rows": null,
            "height": null,
            "justify_content": null,
            "justify_items": null,
            "left": null,
            "margin": null,
            "max_height": null,
            "max_width": null,
            "min_height": null,
            "min_width": null,
            "object_fit": null,
            "object_position": null,
            "order": null,
            "overflow": null,
            "overflow_x": null,
            "overflow_y": null,
            "padding": null,
            "right": null,
            "top": null,
            "visibility": null,
            "width": null
          }
        },
        "f932bd82344145e388f5428707fad20e": {
          "model_module": "@jupyter-widgets/base",
          "model_name": "LayoutModel",
          "model_module_version": "1.2.0",
          "state": {
            "_model_module": "@jupyter-widgets/base",
            "_model_module_version": "1.2.0",
            "_model_name": "LayoutModel",
            "_view_count": null,
            "_view_module": "@jupyter-widgets/base",
            "_view_module_version": "1.2.0",
            "_view_name": "LayoutView",
            "align_content": null,
            "align_items": null,
            "align_self": null,
            "border": null,
            "bottom": null,
            "display": null,
            "flex": null,
            "flex_flow": null,
            "grid_area": null,
            "grid_auto_columns": null,
            "grid_auto_flow": null,
            "grid_auto_rows": null,
            "grid_column": null,
            "grid_gap": null,
            "grid_row": null,
            "grid_template_areas": null,
            "grid_template_columns": null,
            "grid_template_rows": null,
            "height": null,
            "justify_content": null,
            "justify_items": null,
            "left": null,
            "margin": null,
            "max_height": null,
            "max_width": null,
            "min_height": null,
            "min_width": null,
            "object_fit": null,
            "object_position": null,
            "order": null,
            "overflow": null,
            "overflow_x": null,
            "overflow_y": null,
            "padding": null,
            "right": null,
            "top": null,
            "visibility": null,
            "width": null
          }
        },
        "20067be13b5b4d81b9174646169bd746": {
          "model_module": "@jupyter-widgets/controls",
          "model_name": "DescriptionStyleModel",
          "model_module_version": "1.5.0",
          "state": {
            "_model_module": "@jupyter-widgets/controls",
            "_model_module_version": "1.5.0",
            "_model_name": "DescriptionStyleModel",
            "_view_count": null,
            "_view_module": "@jupyter-widgets/base",
            "_view_module_version": "1.2.0",
            "_view_name": "StyleView",
            "description_width": ""
          }
        },
        "20144040ef074924843eb190c71e76bf": {
          "model_module": "@jupyter-widgets/base",
          "model_name": "LayoutModel",
          "model_module_version": "1.2.0",
          "state": {
            "_model_module": "@jupyter-widgets/base",
            "_model_module_version": "1.2.0",
            "_model_name": "LayoutModel",
            "_view_count": null,
            "_view_module": "@jupyter-widgets/base",
            "_view_module_version": "1.2.0",
            "_view_name": "LayoutView",
            "align_content": null,
            "align_items": null,
            "align_self": null,
            "border": null,
            "bottom": null,
            "display": null,
            "flex": null,
            "flex_flow": null,
            "grid_area": null,
            "grid_auto_columns": null,
            "grid_auto_flow": null,
            "grid_auto_rows": null,
            "grid_column": null,
            "grid_gap": null,
            "grid_row": null,
            "grid_template_areas": null,
            "grid_template_columns": null,
            "grid_template_rows": null,
            "height": null,
            "justify_content": null,
            "justify_items": null,
            "left": null,
            "margin": null,
            "max_height": null,
            "max_width": null,
            "min_height": null,
            "min_width": null,
            "object_fit": null,
            "object_position": null,
            "order": null,
            "overflow": null,
            "overflow_x": null,
            "overflow_y": null,
            "padding": null,
            "right": null,
            "top": null,
            "visibility": null,
            "width": null
          }
        },
        "9d9ca7e8000d4f1d992fc182ecb3a418": {
          "model_module": "@jupyter-widgets/controls",
          "model_name": "ProgressStyleModel",
          "model_module_version": "1.5.0",
          "state": {
            "_model_module": "@jupyter-widgets/controls",
            "_model_module_version": "1.5.0",
            "_model_name": "ProgressStyleModel",
            "_view_count": null,
            "_view_module": "@jupyter-widgets/base",
            "_view_module_version": "1.2.0",
            "_view_name": "StyleView",
            "bar_color": null,
            "description_width": ""
          }
        },
        "be9b607d3cc14f169cf0b369743c0ffb": {
          "model_module": "@jupyter-widgets/base",
          "model_name": "LayoutModel",
          "model_module_version": "1.2.0",
          "state": {
            "_model_module": "@jupyter-widgets/base",
            "_model_module_version": "1.2.0",
            "_model_name": "LayoutModel",
            "_view_count": null,
            "_view_module": "@jupyter-widgets/base",
            "_view_module_version": "1.2.0",
            "_view_name": "LayoutView",
            "align_content": null,
            "align_items": null,
            "align_self": null,
            "border": null,
            "bottom": null,
            "display": null,
            "flex": null,
            "flex_flow": null,
            "grid_area": null,
            "grid_auto_columns": null,
            "grid_auto_flow": null,
            "grid_auto_rows": null,
            "grid_column": null,
            "grid_gap": null,
            "grid_row": null,
            "grid_template_areas": null,
            "grid_template_columns": null,
            "grid_template_rows": null,
            "height": null,
            "justify_content": null,
            "justify_items": null,
            "left": null,
            "margin": null,
            "max_height": null,
            "max_width": null,
            "min_height": null,
            "min_width": null,
            "object_fit": null,
            "object_position": null,
            "order": null,
            "overflow": null,
            "overflow_x": null,
            "overflow_y": null,
            "padding": null,
            "right": null,
            "top": null,
            "visibility": null,
            "width": null
          }
        },
        "7a287b1a568d4bf488f63c6191e2dd84": {
          "model_module": "@jupyter-widgets/controls",
          "model_name": "DescriptionStyleModel",
          "model_module_version": "1.5.0",
          "state": {
            "_model_module": "@jupyter-widgets/controls",
            "_model_module_version": "1.5.0",
            "_model_name": "DescriptionStyleModel",
            "_view_count": null,
            "_view_module": "@jupyter-widgets/base",
            "_view_module_version": "1.2.0",
            "_view_name": "StyleView",
            "description_width": ""
          }
        },
        "511840c6a8904a2d9d15ea699cb413d0": {
          "model_module": "@jupyter-widgets/controls",
          "model_name": "HBoxModel",
          "model_module_version": "1.5.0",
          "state": {
            "_dom_classes": [],
            "_model_module": "@jupyter-widgets/controls",
            "_model_module_version": "1.5.0",
            "_model_name": "HBoxModel",
            "_view_count": null,
            "_view_module": "@jupyter-widgets/controls",
            "_view_module_version": "1.5.0",
            "_view_name": "HBoxView",
            "box_style": "",
            "children": [
              "IPY_MODEL_81a6eb15bd6a4a97b400611bcadb324a",
              "IPY_MODEL_beb173651864491daed6d9f9c03143a4",
              "IPY_MODEL_a1b824ddfa554d43917fe3f6506a33ba"
            ],
            "layout": "IPY_MODEL_597111a34c054999b3867fd4ced6f9e2"
          }
        },
        "81a6eb15bd6a4a97b400611bcadb324a": {
          "model_module": "@jupyter-widgets/controls",
          "model_name": "HTMLModel",
          "model_module_version": "1.5.0",
          "state": {
            "_dom_classes": [],
            "_model_module": "@jupyter-widgets/controls",
            "_model_module_version": "1.5.0",
            "_model_name": "HTMLModel",
            "_view_count": null,
            "_view_module": "@jupyter-widgets/controls",
            "_view_module_version": "1.5.0",
            "_view_name": "HTMLView",
            "description": "",
            "description_tooltip": null,
            "layout": "IPY_MODEL_5cfb8e2c3de049fc9d86f03c942b7632",
            "placeholder": "​",
            "style": "IPY_MODEL_c14f6098b94c4a0db9f9e764ba75a6cb",
            "value": "100%"
          }
        },
        "beb173651864491daed6d9f9c03143a4": {
          "model_module": "@jupyter-widgets/controls",
          "model_name": "FloatProgressModel",
          "model_module_version": "1.5.0",
          "state": {
            "_dom_classes": [],
            "_model_module": "@jupyter-widgets/controls",
            "_model_module_version": "1.5.0",
            "_model_name": "FloatProgressModel",
            "_view_count": null,
            "_view_module": "@jupyter-widgets/controls",
            "_view_module_version": "1.5.0",
            "_view_name": "ProgressView",
            "bar_style": "success",
            "description": "",
            "description_tooltip": null,
            "layout": "IPY_MODEL_6fcddce297ac4dad8b6650b52800a242",
            "max": 600,
            "min": 0,
            "orientation": "horizontal",
            "style": "IPY_MODEL_555f59c8260147d485da33479f8cf64c",
            "value": 600
          }
        },
        "a1b824ddfa554d43917fe3f6506a33ba": {
          "model_module": "@jupyter-widgets/controls",
          "model_name": "HTMLModel",
          "model_module_version": "1.5.0",
          "state": {
            "_dom_classes": [],
            "_model_module": "@jupyter-widgets/controls",
            "_model_module_version": "1.5.0",
            "_model_name": "HTMLModel",
            "_view_count": null,
            "_view_module": "@jupyter-widgets/controls",
            "_view_module_version": "1.5.0",
            "_view_name": "HTMLView",
            "description": "",
            "description_tooltip": null,
            "layout": "IPY_MODEL_dae20ccb033e4f85b59984555bf73de0",
            "placeholder": "​",
            "style": "IPY_MODEL_499bc4cc60ce473bb2c3b27b121c14f9",
            "value": " 600/600 [00:29&lt;00:00, 23.53it/s]"
          }
        },
        "597111a34c054999b3867fd4ced6f9e2": {
          "model_module": "@jupyter-widgets/base",
          "model_name": "LayoutModel",
          "model_module_version": "1.2.0",
          "state": {
            "_model_module": "@jupyter-widgets/base",
            "_model_module_version": "1.2.0",
            "_model_name": "LayoutModel",
            "_view_count": null,
            "_view_module": "@jupyter-widgets/base",
            "_view_module_version": "1.2.0",
            "_view_name": "LayoutView",
            "align_content": null,
            "align_items": null,
            "align_self": null,
            "border": null,
            "bottom": null,
            "display": null,
            "flex": null,
            "flex_flow": null,
            "grid_area": null,
            "grid_auto_columns": null,
            "grid_auto_flow": null,
            "grid_auto_rows": null,
            "grid_column": null,
            "grid_gap": null,
            "grid_row": null,
            "grid_template_areas": null,
            "grid_template_columns": null,
            "grid_template_rows": null,
            "height": null,
            "justify_content": null,
            "justify_items": null,
            "left": null,
            "margin": null,
            "max_height": null,
            "max_width": null,
            "min_height": null,
            "min_width": null,
            "object_fit": null,
            "object_position": null,
            "order": null,
            "overflow": null,
            "overflow_x": null,
            "overflow_y": null,
            "padding": null,
            "right": null,
            "top": null,
            "visibility": null,
            "width": null
          }
        },
        "5cfb8e2c3de049fc9d86f03c942b7632": {
          "model_module": "@jupyter-widgets/base",
          "model_name": "LayoutModel",
          "model_module_version": "1.2.0",
          "state": {
            "_model_module": "@jupyter-widgets/base",
            "_model_module_version": "1.2.0",
            "_model_name": "LayoutModel",
            "_view_count": null,
            "_view_module": "@jupyter-widgets/base",
            "_view_module_version": "1.2.0",
            "_view_name": "LayoutView",
            "align_content": null,
            "align_items": null,
            "align_self": null,
            "border": null,
            "bottom": null,
            "display": null,
            "flex": null,
            "flex_flow": null,
            "grid_area": null,
            "grid_auto_columns": null,
            "grid_auto_flow": null,
            "grid_auto_rows": null,
            "grid_column": null,
            "grid_gap": null,
            "grid_row": null,
            "grid_template_areas": null,
            "grid_template_columns": null,
            "grid_template_rows": null,
            "height": null,
            "justify_content": null,
            "justify_items": null,
            "left": null,
            "margin": null,
            "max_height": null,
            "max_width": null,
            "min_height": null,
            "min_width": null,
            "object_fit": null,
            "object_position": null,
            "order": null,
            "overflow": null,
            "overflow_x": null,
            "overflow_y": null,
            "padding": null,
            "right": null,
            "top": null,
            "visibility": null,
            "width": null
          }
        },
        "c14f6098b94c4a0db9f9e764ba75a6cb": {
          "model_module": "@jupyter-widgets/controls",
          "model_name": "DescriptionStyleModel",
          "model_module_version": "1.5.0",
          "state": {
            "_model_module": "@jupyter-widgets/controls",
            "_model_module_version": "1.5.0",
            "_model_name": "DescriptionStyleModel",
            "_view_count": null,
            "_view_module": "@jupyter-widgets/base",
            "_view_module_version": "1.2.0",
            "_view_name": "StyleView",
            "description_width": ""
          }
        },
        "6fcddce297ac4dad8b6650b52800a242": {
          "model_module": "@jupyter-widgets/base",
          "model_name": "LayoutModel",
          "model_module_version": "1.2.0",
          "state": {
            "_model_module": "@jupyter-widgets/base",
            "_model_module_version": "1.2.0",
            "_model_name": "LayoutModel",
            "_view_count": null,
            "_view_module": "@jupyter-widgets/base",
            "_view_module_version": "1.2.0",
            "_view_name": "LayoutView",
            "align_content": null,
            "align_items": null,
            "align_self": null,
            "border": null,
            "bottom": null,
            "display": null,
            "flex": null,
            "flex_flow": null,
            "grid_area": null,
            "grid_auto_columns": null,
            "grid_auto_flow": null,
            "grid_auto_rows": null,
            "grid_column": null,
            "grid_gap": null,
            "grid_row": null,
            "grid_template_areas": null,
            "grid_template_columns": null,
            "grid_template_rows": null,
            "height": null,
            "justify_content": null,
            "justify_items": null,
            "left": null,
            "margin": null,
            "max_height": null,
            "max_width": null,
            "min_height": null,
            "min_width": null,
            "object_fit": null,
            "object_position": null,
            "order": null,
            "overflow": null,
            "overflow_x": null,
            "overflow_y": null,
            "padding": null,
            "right": null,
            "top": null,
            "visibility": null,
            "width": null
          }
        },
        "555f59c8260147d485da33479f8cf64c": {
          "model_module": "@jupyter-widgets/controls",
          "model_name": "ProgressStyleModel",
          "model_module_version": "1.5.0",
          "state": {
            "_model_module": "@jupyter-widgets/controls",
            "_model_module_version": "1.5.0",
            "_model_name": "ProgressStyleModel",
            "_view_count": null,
            "_view_module": "@jupyter-widgets/base",
            "_view_module_version": "1.2.0",
            "_view_name": "StyleView",
            "bar_color": null,
            "description_width": ""
          }
        },
        "dae20ccb033e4f85b59984555bf73de0": {
          "model_module": "@jupyter-widgets/base",
          "model_name": "LayoutModel",
          "model_module_version": "1.2.0",
          "state": {
            "_model_module": "@jupyter-widgets/base",
            "_model_module_version": "1.2.0",
            "_model_name": "LayoutModel",
            "_view_count": null,
            "_view_module": "@jupyter-widgets/base",
            "_view_module_version": "1.2.0",
            "_view_name": "LayoutView",
            "align_content": null,
            "align_items": null,
            "align_self": null,
            "border": null,
            "bottom": null,
            "display": null,
            "flex": null,
            "flex_flow": null,
            "grid_area": null,
            "grid_auto_columns": null,
            "grid_auto_flow": null,
            "grid_auto_rows": null,
            "grid_column": null,
            "grid_gap": null,
            "grid_row": null,
            "grid_template_areas": null,
            "grid_template_columns": null,
            "grid_template_rows": null,
            "height": null,
            "justify_content": null,
            "justify_items": null,
            "left": null,
            "margin": null,
            "max_height": null,
            "max_width": null,
            "min_height": null,
            "min_width": null,
            "object_fit": null,
            "object_position": null,
            "order": null,
            "overflow": null,
            "overflow_x": null,
            "overflow_y": null,
            "padding": null,
            "right": null,
            "top": null,
            "visibility": null,
            "width": null
          }
        },
        "499bc4cc60ce473bb2c3b27b121c14f9": {
          "model_module": "@jupyter-widgets/controls",
          "model_name": "DescriptionStyleModel",
          "model_module_version": "1.5.0",
          "state": {
            "_model_module": "@jupyter-widgets/controls",
            "_model_module_version": "1.5.0",
            "_model_name": "DescriptionStyleModel",
            "_view_count": null,
            "_view_module": "@jupyter-widgets/base",
            "_view_module_version": "1.2.0",
            "_view_name": "StyleView",
            "description_width": ""
          }
        }
      }
    }
  },
  "nbformat": 4,
  "nbformat_minor": 0
}